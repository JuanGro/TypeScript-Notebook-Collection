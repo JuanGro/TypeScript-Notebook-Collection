{
 "cells": [
  {
   "cell_type": "markdown",
   "id": "1efd60db-04c7-431d-94b9-bc01b905f880",
   "metadata": {},
   "source": [
    "# typeof"
   ]
  },
  {
   "cell_type": "code",
   "execution_count": 1,
   "id": "4ccb2bab-0a13-4a5c-9775-52b6eb9f5130",
   "metadata": {},
   "outputs": [
    {
     "data": {
      "text/plain": [
       "\u001b[32m\"Max\"\u001b[39m"
      ]
     },
     "execution_count": 1,
     "metadata": {},
     "output_type": "execute_result"
    }
   ],
   "source": [
    "const userName = 'Max';\n",
    "userName"
   ]
  },
  {
   "cell_type": "code",
   "execution_count": 3,
   "id": "7080d2fe-5778-4fb5-9597-fac13c10e63f",
   "metadata": {},
   "outputs": [
    {
     "data": {
      "text/plain": [
       "\u001b[32m\"string\"\u001b[39m"
      ]
     },
     "execution_count": 3,
     "metadata": {},
     "output_type": "execute_result"
    }
   ],
   "source": [
    "typeof userName"
   ]
  },
  {
   "cell_type": "code",
   "execution_count": 7,
   "id": "fa0de785-d860-4570-a870-4b3806e97a4b",
   "metadata": {},
   "outputs": [],
   "source": [
    "type UserName = typeof userName; // type UserName = 'Max'! not string!"
   ]
  },
  {
   "cell_type": "code",
   "execution_count": 8,
   "id": "62d19efe-8825-4cd0-8da1-1daaeec97d39",
   "metadata": {},
   "outputs": [],
   "source": [
    "const settings = {\n",
    "    difficulty: 'easy',\n",
    "    minLevel: 10,\n",
    "    didStart: false,\n",
    "    players: ['John', 'Jane']\n",
    "};"
   ]
  },
  {
   "cell_type": "code",
   "execution_count": 12,
   "id": "d290a8c2-2b4d-49cb-b948-73b5c4ff3f41",
   "metadata": {},
   "outputs": [],
   "source": [
    "type Settings = {\n",
    "    difficulty: string;\n",
    "    minLevel: number;\n",
    "};"
   ]
  },
  {
   "cell_type": "code",
   "execution_count": 13,
   "id": "67b6a35e-b293-48fe-aba9-d66de3d9b47f",
   "metadata": {},
   "outputs": [],
   "source": [
    "type Settings = typeof settings; // it passes the settings properties!"
   ]
  },
  {
   "cell_type": "code",
   "execution_count": 10,
   "id": "b072dab1-75d5-4686-ac79-6db3ae63c34e",
   "metadata": {},
   "outputs": [],
   "source": [
    "function loadData(settings: Settings) {\n",
    "    // ...\n",
    "}"
   ]
  },
  {
   "cell_type": "code",
   "execution_count": 11,
   "id": "fb3e2e48-34cc-4136-8874-05ded64db9e5",
   "metadata": {},
   "outputs": [],
   "source": [
    "loadData(settings);"
   ]
  }
 ],
 "metadata": {
  "kernelspec": {
   "display_name": "Deno",
   "language": "typescript",
   "name": "deno"
  },
  "language_info": {
   "codemirror_mode": "typescript",
   "file_extension": ".ts",
   "mimetype": "text/x.typescript",
   "name": "typescript",
   "nbconvert_exporter": "script",
   "pygments_lexer": "typescript",
   "version": "5.7.3"
  }
 },
 "nbformat": 4,
 "nbformat_minor": 5
}
