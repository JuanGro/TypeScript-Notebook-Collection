{
 "cells": [
  {
   "cell_type": "markdown",
   "id": "53b3ae45-794c-4451-a9b7-7b111d1c27f9",
   "metadata": {},
   "source": [
    "# Conditional Types"
   ]
  },
  {
   "cell_type": "code",
   "execution_count": 10,
   "id": "3700a11c-b060-4b49-a234-a7a7b5bafa4f",
   "metadata": {},
   "outputs": [],
   "source": [
    "type StringArray = string[];"
   ]
  },
  {
   "cell_type": "code",
   "execution_count": 11,
   "id": "bea212d4-8a12-455a-9a9b-85046a3b6205",
   "metadata": {},
   "outputs": [],
   "source": [
    "// type ElementType<T extends any[]> = T[number];"
   ]
  },
  {
   "cell_type": "code",
   "execution_count": 12,
   "id": "7558a3b6-d729-477b-b16a-2e18f10cff72",
   "metadata": {},
   "outputs": [],
   "source": [
    "// type Example1 = ElementType<StringArray>;"
   ]
  },
  {
   "cell_type": "code",
   "execution_count": 13,
   "id": "29e40d92-b38a-41a5-b766-0075d5206dcb",
   "metadata": {},
   "outputs": [],
   "source": [
    "const text = 1;"
   ]
  },
  {
   "cell_type": "code",
   "execution_count": 14,
   "id": "eecd4b42-e2b8-412c-9561-c411f35d2cc8",
   "metadata": {},
   "outputs": [],
   "source": [
    "// type Example2 = ElementType<typeof text>;"
   ]
  },
  {
   "cell_type": "code",
   "execution_count": 15,
   "id": "52ac6b8b-abba-4f0b-8dab-bdcfdb5952cd",
   "metadata": {},
   "outputs": [],
   "source": [
    "type GetElementType<T> = T extends any[] ? T[number] : never;"
   ]
  },
  {
   "cell_type": "code",
   "execution_count": 16,
   "id": "66dbac44-1927-448f-ba8e-b203130a598f",
   "metadata": {},
   "outputs": [],
   "source": [
    "type Example1 = GetElementType<StringArray>;"
   ]
  },
  {
   "cell_type": "code",
   "execution_count": 17,
   "id": "b3d60262-ea93-4b00-a145-d62c3f500623",
   "metadata": {},
   "outputs": [],
   "source": [
    "type Example2 = GetElementType<typeof text>;"
   ]
  }
 ],
 "metadata": {
  "kernelspec": {
   "display_name": "Deno",
   "language": "typescript",
   "name": "deno"
  },
  "language_info": {
   "codemirror_mode": "typescript",
   "file_extension": ".ts",
   "mimetype": "text/x.typescript",
   "name": "typescript",
   "nbconvert_exporter": "script",
   "pygments_lexer": "typescript",
   "version": "5.7.3"
  }
 },
 "nbformat": 4,
 "nbformat_minor": 5
}
