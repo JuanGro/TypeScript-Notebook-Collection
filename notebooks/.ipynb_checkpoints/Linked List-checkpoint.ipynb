{
 "cells": [
  {
   "cell_type": "code",
   "execution_count": 9,
   "id": "621264e2-1fdf-4b9e-b130-7031bb1e6bad",
   "metadata": {},
   "outputs": [],
   "source": [
    "class ListNode<T> {\n",
    "    next?: ListNode<T>;\n",
    "    constructor(public value: T) {}\n",
    "}\n",
    "\n",
    "class LinkedList<T> {\n",
    "    private root?: ListNode<T>;\n",
    "    private tail?: ListNode<T>;\n",
    "    private length = 0;\n",
    "\n",
    "    add(value: T) {\n",
    "        const node = new ListNode(value);\n",
    "        if (!this.root || !this.tail) {\n",
    "            this.root = node;\n",
    "            this.tail = node;\n",
    "        } else {\n",
    "            this.tail.next = node;\n",
    "            this.tail = node;\n",
    "        }\n",
    "        this.length++;\n",
    "    }\n",
    "\n",
    "    getNumberOfElements() {\n",
    "        return this.length;\n",
    "    }\n",
    "\n",
    "    print() {\n",
    "        let current = this.root;\n",
    "        while (current) {\n",
    "            console.log(current.value);\n",
    "            current = current.next;\n",
    "        }\n",
    "    }\n",
    "}"
   ]
  },
  {
   "cell_type": "code",
   "execution_count": 10,
   "id": "bad20f46-b5a9-4476-8efd-462145ca811f",
   "metadata": {},
   "outputs": [],
   "source": [
    "const numberList = new LinkedList<number>();"
   ]
  },
  {
   "cell_type": "code",
   "execution_count": 11,
   "id": "9831ba1f-868a-404e-9f25-e3d345d70ff4",
   "metadata": {},
   "outputs": [],
   "source": [
    "numberList.add(10);"
   ]
  },
  {
   "cell_type": "code",
   "execution_count": 12,
   "id": "69d3cbd2-f1c2-4e1a-8f94-cf4531499c4a",
   "metadata": {},
   "outputs": [],
   "source": [
    "numberList.add(5);"
   ]
  },
  {
   "cell_type": "code",
   "execution_count": 13,
   "id": "f15d6ae2-ed30-4a9e-a40e-eac50ef1f4ae",
   "metadata": {},
   "outputs": [],
   "source": [
    "numberList.add(-3);"
   ]
  },
  {
   "cell_type": "code",
   "execution_count": 14,
   "id": "89e33cfd-63a1-4a83-9055-6217cb795121",
   "metadata": {},
   "outputs": [
    {
     "data": {
      "text/plain": [
       "\u001b[33m3\u001b[39m"
      ]
     },
     "execution_count": 14,
     "metadata": {},
     "output_type": "execute_result"
    }
   ],
   "source": [
    "numberList.getNumberOfElements();"
   ]
  },
  {
   "cell_type": "code",
   "execution_count": 15,
   "id": "5f9cfe54-399a-4dd9-b051-ca85fd78c485",
   "metadata": {},
   "outputs": [
    {
     "name": "stdout",
     "output_type": "stream",
     "text": [
      "\u001b[33m10\u001b[39m\n",
      "\u001b[33m5\u001b[39m\n",
      "\u001b[33m-3\u001b[39m\n"
     ]
    }
   ],
   "source": [
    "numberList.print();"
   ]
  }
 ],
 "metadata": {
  "kernelspec": {
   "display_name": "Deno",
   "language": "typescript",
   "name": "deno"
  },
  "language_info": {
   "codemirror_mode": "typescript",
   "file_extension": ".ts",
   "mimetype": "text/x.typescript",
   "name": "typescript",
   "nbconvert_exporter": "script",
   "pygments_lexer": "typescript",
   "version": "5.7.3"
  }
 },
 "nbformat": 4,
 "nbformat_minor": 5
}
