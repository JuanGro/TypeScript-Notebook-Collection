{
 "cells": [
  {
   "cell_type": "markdown",
   "id": "9eff03f9-8651-4b9f-a930-54d1dff9d4e8",
   "metadata": {},
   "source": [
    "# Forced \"Not Null\" And Optional Chaining"
   ]
  },
  {
   "cell_type": "code",
   "execution_count": 3,
   "id": "60bbdec2-970f-4570-abf4-91abf55710cc",
   "metadata": {},
   "outputs": [
    {
     "ename": "ReferenceError",
     "evalue": "document is not defined",
     "output_type": "error",
     "traceback": [
      "Stack trace:",
      "ReferenceError: document is not defined",
      "    at <anonymous>:1:38"
     ]
    }
   ],
   "source": [
    "const inputEl = document.getElementById('user-name')!; // The \"!\" character indicates that a null value won't exist"
   ]
  },
  {
   "cell_type": "code",
   "execution_count": 4,
   "id": "9f0c2ed3-a769-40d6-81db-bdbd5a968d85",
   "metadata": {},
   "outputs": [
    {
     "ename": "ReferenceError",
     "evalue": "inputEl is not defined",
     "output_type": "error",
     "traceback": [
      "Stack trace:",
      "ReferenceError: inputEl is not defined",
      "    at <anonymous>:1:22"
     ]
    }
   ],
   "source": [
    "inputEl?.value // The value could be null and it only allows to execute the next step if it is not null"
   ]
  }
 ],
 "metadata": {
  "kernelspec": {
   "display_name": "Deno",
   "language": "typescript",
   "name": "deno"
  },
  "language_info": {
   "codemirror_mode": "typescript",
   "file_extension": ".ts",
   "mimetype": "text/x.typescript",
   "name": "typescript",
   "nbconvert_exporter": "script",
   "pygments_lexer": "typescript",
   "version": "5.7.3"
  }
 },
 "nbformat": 4,
 "nbformat_minor": 5
}
