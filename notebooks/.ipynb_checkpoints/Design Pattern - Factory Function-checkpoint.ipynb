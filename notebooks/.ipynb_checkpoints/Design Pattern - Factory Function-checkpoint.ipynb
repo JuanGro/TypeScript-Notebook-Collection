{
 "cells": [
  {
   "cell_type": "markdown",
   "id": "79462bbb-0cd0-4ffa-b587-7079f650b51b",
   "metadata": {},
   "source": [
    "# Design Pattern - Factory Function"
   ]
  },
  {
   "cell_type": "markdown",
   "id": "cc61f791-1955-43bb-a2ee-34083fe25e96",
   "metadata": {},
   "source": [
    "¿Qué es una Factory Function?\n",
    "Una Factory Function es simplemente una función que retorna un objeto.\n",
    "A diferencia del patrón de clase Factory Method, no usa clases ni herencia, solo funciones y objetos.\n",
    "> Es una forma sencilla y poderosa de crear instancias personalizadas sin new."
   ]
  },
  {
   "cell_type": "markdown",
   "id": "88c90f13-412e-4322-b821-4815064de06b",
   "metadata": {},
   "source": [
    "## ¿Para qué se usa?\n",
    "\n",
    "Se usa cuando necesitas:\n",
    "- Crear objetos de forma más ligera y flexible.\n",
    "- Evitar la complejidad de clases o herencia.\n",
    "- Encapsular lógica de creación dentro de una función.\n",
    "- Trabajar con inmutabilidad, closures, o composición funcional."
   ]
  },
  {
   "cell_type": "markdown",
   "id": "aeba4d2c-d6fc-4cee-964d-3a7dbf1a9511",
   "metadata": {},
   "source": [
    "## Ejemplo"
   ]
  },
  {
   "cell_type": "code",
   "execution_count": 1,
   "id": "6a99f391-1495-46eb-8777-6ba88a4c7208",
   "metadata": {},
   "outputs": [
    {
     "name": "stdout",
     "output_type": "stream",
     "text": [
      "Hola, soy Ana y tengo 30 años.\n"
     ]
    }
   ],
   "source": [
    "function crearUsuario(nombre: string, edad: number) {\n",
    "  return {\n",
    "    nombre,\n",
    "    edad,\n",
    "    saludar() {\n",
    "      console.log(`Hola, soy ${nombre} y tengo ${edad} años.`);\n",
    "    }\n",
    "  };\n",
    "}\n",
    "\n",
    "const u1 = crearUsuario(\"Ana\", 30);\n",
    "u1.saludar(); // Hola, soy Ana y tengo 30 años."
   ]
  },
  {
   "cell_type": "markdown",
   "id": "46b5823b-2ff4-463e-9bd8-3bcee2d6cb13",
   "metadata": {},
   "source": [
    "## ¿En qué se diferencia del patrón Factory Method?\n",
    "| Característica      | Factory Method (clase) | Factory Function (función)             |\n",
    "| ------------------- | ---------------------- | -------------------------------------- |\n",
    "| Usa clases          | ✅ Sí                   | ❌ No                                   |\n",
    "| Usa `new`           | ✅ Sí                   | ❌ No                                   |\n",
    "| Basado en           | Herencia               | Composición / funciones                |\n",
    "| Ideal para          | Jerarquías de clases   | Objetos simples o composición flexible |\n",
    "| Código más complejo | Sí, estructura OOP     | No, más ligero                         |"
   ]
  },
  {
   "cell_type": "markdown",
   "id": "548116b3-9f0a-4976-8fc6-675564cf82f1",
   "metadata": {},
   "source": [
    "## Ejemplo real: Notificación con Factory Function"
   ]
  },
  {
   "cell_type": "code",
   "execution_count": 2,
   "id": "a6dfd9c8-9e89-41ba-81e0-681830c68f03",
   "metadata": {},
   "outputs": [
    {
     "name": "stdout",
     "output_type": "stream",
     "text": [
      "✉️ Enviando email: Hola desde email\n",
      "📱 Enviando SMS: Hola desde SMS\n"
     ]
    }
   ],
   "source": [
    "type Notificacion = {\n",
    "  tipo: string;\n",
    "  enviar: (mensaje: string) => void;\n",
    "};\n",
    "\n",
    "function crearNotificacion(tipo: \"email\" | \"sms\"): Notificacion {\n",
    "  if (tipo === \"email\") {\n",
    "    return {\n",
    "      tipo,\n",
    "      enviar: (msg) => console.log(`✉️ Enviando email: ${msg}`)\n",
    "    };\n",
    "  } else {\n",
    "    return {\n",
    "      tipo,\n",
    "      enviar: (msg) => console.log(`📱 Enviando SMS: ${msg}`)\n",
    "    };\n",
    "  }\n",
    "}\n",
    "\n",
    "const noti1 = crearNotificacion(\"email\");\n",
    "const noti2 = crearNotificacion(\"sms\");\n",
    "\n",
    "noti1.enviar(\"Hola desde email\"); // ✉️ Enviando email: Hola desde email\n",
    "noti2.enviar(\"Hola desde SMS\");   // 📱 Enviando SMS: Hola desde SMS"
   ]
  },
  {
   "cell_type": "markdown",
   "id": "ffeb19bf-ab68-4e00-a04f-8547a370c34f",
   "metadata": {},
   "source": [
    "## Ventajas de Factory Functions\n",
    "| # | Ventaja                     | Descripción                                       |\n",
    "| - | --------------------------- | ------------------------------------------------- |\n",
    "| 1 | ❌ No necesita `new`         | Evita errores por omitir `new` y es más limpio.   |\n",
    "| 2 | 🧱 No depende de clases     | Funciona bien sin herencia, ideal para JS/TS.     |\n",
    "| 3 | 🔧 Flexible y composable    | Fácil de combinar y extender con funciones puras. |\n",
    "| 4 | 🔒 Encapsula lógica interna | Puedes ocultar detalles usando closures.          |\n",
    "| 5 | 🧪 Facilita pruebas         | Objetos planos, fáciles de mockear y testear.     |"
   ]
  },
  {
   "cell_type": "markdown",
   "id": "5f8878e3-bde9-4e9f-bf54-6a0287f9708f",
   "metadata": {},
   "source": [
    "## Desventajas\n",
    "| # | Desventaja                       | Descripción                                                   |\n",
    "| - | -------------------------------- | ------------------------------------------------------------- |\n",
    "| 1 | 📦 Sin herencia ni polimorfismo  | Si necesitas jerarquías OOP, una factory function no basta.   |\n",
    "| 2 | 🧠 Más responsabilidad manual    | Tienes que manejar tú mismo validaciones, tipos, etc.         |\n",
    "| 3 | 🐢 Posiblemente menos optimizado | Los objetos pueden no usar prototipos, afectando performance. |"
   ]
  },
  {
   "cell_type": "markdown",
   "id": "07a64224-4713-4e91-948b-02171dbca003",
   "metadata": {},
   "source": [
    "## Cuándo usar Factory Function\n",
    "✅ Úsala cuando:\n",
    "- Quieres una forma simple de crear objetos personalizados.\n",
    "- No necesitas una jerarquía de clases.\n",
    "- Estás trabajando con composición, funciones puras o en entornos funcionales."
   ]
  }
 ],
 "metadata": {
  "kernelspec": {
   "display_name": "Deno",
   "language": "typescript",
   "name": "deno"
  },
  "language_info": {
   "codemirror_mode": "typescript",
   "file_extension": ".ts",
   "mimetype": "text/x.typescript",
   "name": "typescript",
   "nbconvert_exporter": "script",
   "pygments_lexer": "typescript",
   "version": "5.7.3"
  }
 },
 "nbformat": 4,
 "nbformat_minor": 5
}
