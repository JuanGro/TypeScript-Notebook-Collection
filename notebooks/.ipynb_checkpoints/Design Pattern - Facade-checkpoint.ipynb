{
 "cells": [
  {
   "cell_type": "markdown",
   "id": "374a60a2-5d1f-407e-91e1-751f8f7bcfc1",
   "metadata": {},
   "source": [
    "# Design Pattern - Facade\n",
    "El patrón Facade proporciona una interfaz unificada y simple para un conjunto complejo de clases, librerías o subsistemas.\n",
    "\n",
    "En otras palabras:\n",
    "> Crea una “fachada” (una capa de entrada sencilla) que oculta la complejidad interna del sistema.\n",
    "\n",
    "Esto permite que otras partes del programa interactúen con un sistema complejo sin tener que conocer sus detalles internos."
   ]
  },
  {
   "cell_type": "markdown",
   "id": "b157f72c-ccff-48b3-a04c-5b3c6c36c432",
   "metadata": {},
   "source": [
    "## ¿Para qué se usa?\n",
    "Se utiliza principalmente para:\n",
    "- Simplificar el uso de subsistemas complejos (p. ej. muchas clases, librerías, APIs).\n",
    "- Reducir acoplamiento entre el cliente y los subsistemas.\n",
    "- Ofrecer un único punto de acceso a funcionalidades relacionadas.\n",
    "- Mejorar la mantenibilidad, ya que cambios internos no afectan a quienes usan la fachada.\n",
    "\n",
    "## Ejemplos comunes:\n",
    "- Librerías de terceros (crear un wrapper propio para facilitar su uso).\n",
    "- Sistemas con muchos módulos (bases de datos, notificaciones, logs, etc.).\n",
    "- Frameworks grandes (por ejemplo, Angular usa servicios que actúan como fachadas de APIs internas)."
   ]
  },
  {
   "cell_type": "markdown",
   "id": "2d9c881d-9635-49d1-afae-877f5d805c07",
   "metadata": {},
   "source": [
    "## Ejemplo real en TypeScript\n",
    "Imagina que tienes un sistema que realiza pedidos en línea. Internamente hay varios pasos:\n",
    "1. Verificar inventario\n",
    "1. Procesar el pago\n",
    "1. Enviar notificación de confirmación\n",
    "\n",
    "Cada paso es manejado por un subsistema diferente:"
   ]
  },
  {
   "cell_type": "code",
   "execution_count": 1,
   "id": "08cae6ea-f4b2-40a8-a5e5-f4a93c65fcaa",
   "metadata": {},
   "outputs": [],
   "source": [
    "// --- Subsistema 1: Inventario ---\n",
    "class InventoryService {\n",
    "  checkStock(productId: string, quantity: number): boolean {\n",
    "    console.log(`Verificando stock de ${productId}...`);\n",
    "    return true; // Simulación\n",
    "  }\n",
    "}\n",
    "\n",
    "// --- Subsistema 2: Pagos ---\n",
    "class PaymentService {\n",
    "  processPayment(amount: number): boolean {\n",
    "    console.log(`Procesando pago de $${amount}...`);\n",
    "    return true; // Simulación\n",
    "  }\n",
    "}\n",
    "\n",
    "// --- Subsistema 3: Notificaciones ---\n",
    "class NotificationService {\n",
    "  sendConfirmation(email: string, productId: string) {\n",
    "    console.log(`Enviando confirmación a ${email} por ${productId}...`);\n",
    "  }\n",
    "}"
   ]
  },
  {
   "cell_type": "markdown",
   "id": "b591d009-854a-4aef-b138-ff7632edbafb",
   "metadata": {},
   "source": [
    "Si un cliente quisiera hacer un pedido sin fachada, tendría que interactuar directamente con los tres subsistemas en el orden correcto. Esto es complejo y frágil."
   ]
  },
  {
   "cell_type": "markdown",
   "id": "635fb7eb-f077-4404-9bee-d18191dc2cd0",
   "metadata": {},
   "source": [
    "### Implementamos la Facade:"
   ]
  },
  {
   "cell_type": "code",
   "execution_count": 2,
   "id": "43643a8a-151a-4802-8349-11ab064a1192",
   "metadata": {},
   "outputs": [],
   "source": [
    "// --- Facade ---\n",
    "class OrderFacade {\n",
    "  private inventory = new InventoryService();\n",
    "  private payment = new PaymentService();\n",
    "  private notification = new NotificationService();\n",
    "\n",
    "  placeOrder(productId: string, quantity: number, email: string, amount: number) {\n",
    "    console.log(\"Iniciando proceso de pedido...\");\n",
    "\n",
    "    if (!this.inventory.checkStock(productId, quantity)) {\n",
    "      console.log(\"No hay stock disponible\");\n",
    "      return;\n",
    "    }\n",
    "\n",
    "    if (!this.payment.processPayment(amount)) {\n",
    "      console.log(\"Error al procesar el pago\");\n",
    "      return;\n",
    "    }\n",
    "\n",
    "    this.notification.sendConfirmation(email, productId);\n",
    "    console.log(\"Pedido completado ✅\");\n",
    "  }\n",
    "}"
   ]
  },
  {
   "cell_type": "markdown",
   "id": "14d4868f-f5c1-494e-9de8-d348635c7d6b",
   "metadata": {},
   "source": [
    "### Uso de la fachada:"
   ]
  },
  {
   "cell_type": "code",
   "execution_count": 3,
   "id": "d0e55794-5fd8-40bc-bdd5-331112fd70ad",
   "metadata": {},
   "outputs": [
    {
     "name": "stdout",
     "output_type": "stream",
     "text": [
      "Iniciando proceso de pedido...\n",
      "Verificando stock de ABC123...\n",
      "Procesando pago de $500...\n",
      "Enviando confirmación a cliente@correo.com por ABC123...\n",
      "Pedido completado ✅\n"
     ]
    }
   ],
   "source": [
    "// --- Cliente ---\n",
    "const orderFacade = new OrderFacade();\n",
    "\n",
    "orderFacade.placeOrder(\"ABC123\", 2, \"cliente@correo.com\", 500);"
   ]
  },
  {
   "cell_type": "markdown",
   "id": "7a43cac9-3449-405b-b4a1-8ae7b12b8e7e",
   "metadata": {},
   "source": [
    "El cliente no necesita saber nada sobre InventoryService, PaymentService o NotificationService.\n",
    "Solo llama a orderFacade.placeOrder(...) y la fachada se encarga de todo."
   ]
  },
  {
   "cell_type": "markdown",
   "id": "1b3ce480-6cfb-45ae-8815-3988ed9deebc",
   "metadata": {},
   "source": [
    "## Ventajas del patrón Facade\n",
    "- Interfaz simple para sistemas complejos\n",
    "- Menos dependencias entre componentes\n",
    "- Código cliente más limpio y fácil de mantener\n",
    "- Posibilidad de reemplazar subsistemas internos sin afectar al exterior"
   ]
  },
  {
   "cell_type": "markdown",
   "id": "269c4f87-b3c9-4758-b42b-79cf4c788620",
   "metadata": {},
   "source": [
    "## Cuándo NO usarlo\n",
    "- Cuando no existe complejidad real; crear una fachada innecesaria puede ser sobreingeniería.\n",
    "- Si se necesita exponer todos los detalles de bajo nivel (la fachada oculta detalles)."
   ]
  },
  {
   "cell_type": "markdown",
   "id": "f699de42-5d60-447e-9b30-1ace98d7fdbe",
   "metadata": {},
   "source": [
    "## Resumen rápido\n",
    "| Característica     | Detalle                                                          |\n",
    "| ------------------ | ---------------------------------------------------------------- |\n",
    "| **Tipo de patrón** | Estructural                                                      |\n",
    "| **Propósito**      | Simplificar el acceso a subsistemas complejos                    |\n",
    "| **Ventaja clave**  | Reduce el acoplamiento y mejora la legibilidad                   |\n",
    "| **Ejemplo típico** | Un único servicio que combina inventario, pagos y notificaciones |"
   ]
  }
 ],
 "metadata": {
  "kernelspec": {
   "display_name": "Deno",
   "language": "typescript",
   "name": "deno"
  },
  "language_info": {
   "codemirror_mode": "typescript",
   "file_extension": ".ts",
   "mimetype": "text/x.typescript",
   "name": "typescript",
   "nbconvert_exporter": "script",
   "pygments_lexer": "typescript",
   "version": "5.7.3"
  }
 },
 "nbformat": 4,
 "nbformat_minor": 5
}
