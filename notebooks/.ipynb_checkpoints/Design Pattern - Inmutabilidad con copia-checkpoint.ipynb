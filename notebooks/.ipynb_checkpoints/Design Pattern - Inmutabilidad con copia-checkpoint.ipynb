{
 "cells": [
  {
   "cell_type": "markdown",
   "id": "42efdaae-aa9d-4342-9d16-3e4de0b35de9",
   "metadata": {},
   "source": [
    "# Design Pattern - Inmutabilidad con copia"
   ]
  },
  {
   "cell_type": "markdown",
   "id": "66a2e582-04d0-42f9-adb0-f112e3a4eef8",
   "metadata": {},
   "source": [
    "## ¿Qué es el patrón de inmutabilidad con copia?\n",
    "\n",
    "Es una estrategia donde:\n",
    "> En lugar de modificar un objeto existente, se crea una nueva copia del objeto con los cambios deseados, dejando intacto el original."
   ]
  },
  {
   "cell_type": "markdown",
   "id": "7bfef254-9c0b-495a-87f0-c50f73f781a9",
   "metadata": {},
   "source": [
    "## ¿Cuál es su propósito?\n",
    "- Evitar efectos secundarios inesperados (side effects).\n",
    "- Hacer más predecible y confiable el manejo de datos.\n",
    "- Facilitar la comparación, el control de versiones o el revertir cambios.\n",
    "- Usar estructuras de datos de forma más segura y funcional."
   ]
  },
  {
   "cell_type": "markdown",
   "id": "c2674ed8-a04e-4d21-8b52-4a49564680a8",
   "metadata": {},
   "source": [
    "## ¿Cuándo usarlo?\n",
    "- Cuando necesitas garantizar que un objeto no cambie una vez creado.\n",
    "- En sistemas donde el estado se propaga o comparte (Redux, React, etc.).\n",
    "- En entornos multi-thread o asincrónicos (donde la mutación es peligrosa).\n",
    "- Para debuggear o testear más fácilmente (el estado no cambia de forma impredecible)."
   ]
  },
  {
   "cell_type": "markdown",
   "id": "06fb3f02-b163-4606-b461-e137fb24ca43",
   "metadata": {},
   "source": [
    "## Idea central\n",
    "\n",
    "❌ En vez de:\n",
    "\n",
    "`persona.nombre = \"Carlos\";`\n",
    "\n",
    "✅ Usas:\n",
    "\n",
    "`const nuevaPersona = { ...persona, nombre: \"Carlos\" };`\n",
    "\n",
    "Así, persona sigue igual, y nuevaPersona es el mismo objeto con un cambio."
   ]
  },
  {
   "cell_type": "markdown",
   "id": "f155b450-71ea-4a47-9c03-a28a76c689a0",
   "metadata": {},
   "source": [
    "## Estructura del patrón\n",
    "### Objeto original (inmutable)\n",
    "- atributos: readonly\n",
    "\n",
    "### Método de copia\n",
    "- retorna una nueva instancia con los cambios deseados\n",
    "\n",
    "### Cliente\n",
    "- Trabaja con la copia modificada\n",
    "- El original permanece sin cambios"
   ]
  },
  {
   "cell_type": "markdown",
   "id": "197344bd-7ec7-4ddd-8cf9-74f8c35e79e2",
   "metadata": {},
   "source": [
    "## Ejemplo"
   ]
  },
  {
   "cell_type": "code",
   "execution_count": 1,
   "id": "a689f9e5-78dd-43d4-ac4a-85aa68cafe5c",
   "metadata": {},
   "outputs": [
    {
     "name": "stdout",
     "output_type": "stream",
     "text": [
      "{ nombre: \u001b[32m\"Ana\"\u001b[39m, edad: \u001b[33m30\u001b[39m }\n",
      "{ nombre: \u001b[32m\"Ana\"\u001b[39m, edad: \u001b[33m31\u001b[39m }\n"
     ]
    }
   ],
   "source": [
    "type Persona = {\n",
    "  readonly nombre: string;\n",
    "  readonly edad: number;\n",
    "};\n",
    "\n",
    "const persona1: Persona = {\n",
    "  nombre: \"Ana\",\n",
    "  edad: 30,\n",
    "};\n",
    "\n",
    "// Creamos una copia modificada\n",
    "const persona2: Persona = {\n",
    "  ...persona1,\n",
    "  edad: 31,\n",
    "};\n",
    "\n",
    "console.log(persona1); // { nombre: \"Ana\", edad: 30 }\n",
    "console.log(persona2); // { nombre: \"Ana\", edad: 31 }"
   ]
  },
  {
   "cell_type": "markdown",
   "id": "44a2a766-e665-4771-b761-36e590baaf5d",
   "metadata": {},
   "source": [
    "✅ persona1 sigue igual.\n",
    "\n",
    "✅ persona2 tiene los cambios.\n",
    "\n",
    "❌ No hubo mutación directa."
   ]
  },
  {
   "cell_type": "markdown",
   "id": "6b64db7f-2693-4804-b608-b49814c947b1",
   "metadata": {},
   "source": [
    "## Ejemplo con método copyWith()"
   ]
  },
  {
   "cell_type": "code",
   "execution_count": 2,
   "id": "d0ec23aa-0b21-4333-a1a8-10804fed3e04",
   "metadata": {},
   "outputs": [
    {
     "name": "stdout",
     "output_type": "stream",
     "text": [
      "Persona { nombre: \u001b[32m\"Laura\"\u001b[39m, edad: \u001b[33m25\u001b[39m }\n",
      "Persona { nombre: \u001b[32m\"Laura\"\u001b[39m, edad: \u001b[33m26\u001b[39m }\n"
     ]
    }
   ],
   "source": [
    "class Persona {\n",
    "  constructor(\n",
    "    public readonly nombre: string,\n",
    "    public readonly edad: number\n",
    "  ) {}\n",
    "\n",
    "  copyWith({ nombre, edad }: { nombre?: string; edad?: number }): Persona {\n",
    "    return new Persona(nombre ?? this.nombre, edad ?? this.edad);\n",
    "  }\n",
    "}\n",
    "\n",
    "const p1 = new Persona(\"Laura\", 25);\n",
    "const p2 = p1.copyWith({ edad: 26 });\n",
    "\n",
    "console.log(p1); // Persona { nombre: 'Laura', edad: 25 }\n",
    "console.log(p2); // Persona { nombre: 'Laura', edad: 26 }"
   ]
  },
  {
   "cell_type": "markdown",
   "id": "c9a6da16-4fe7-4802-a661-c3aabe0be510",
   "metadata": {},
   "source": [
    "## Ventajas\n",
    "| # | Ventaja                      | Descripción                                                    |\n",
    "| - | ---------------------------- | -------------------------------------------------------------- |\n",
    "| 1 | 🔒 Evita efectos secundarios | No hay mutaciones que afecten referencias compartidas.         |\n",
    "| 2 | 🧠 Facilita el razonamiento  | El estado nunca cambia sin control explícito.                  |\n",
    "| 3 | ♻️ Fácil de deshacer/rehacer | Puedes mantener snapshots de estado previos.                   |\n",
    "| 4 | 🧪 Ideal para testing        | Las pruebas no sufren por estados mutables compartidos.        |\n",
    "| 5 | ⚛️ React / Redux friendly    | Necesario para detección de cambios en estructuras inmutables. |"
   ]
  },
  {
   "cell_type": "markdown",
   "id": "7f71e7c9-957e-4c98-8812-679ca680d8ea",
   "metadata": {},
   "source": [
    "## Desventajas\n",
    "| # | Desventaja                         | Descripción                                                 |\n",
    "| - | ---------------------------------- | ----------------------------------------------------------- |\n",
    "| 1 | 📦 Coste de rendimiento            | Si los objetos son grandes, copiar puede ser costoso.       |\n",
    "| 2 | 🧱 Estructuras anidadas            | Necesitas copiar recursivamente si hay objetos anidados.    |\n",
    "| 3 | 🔧 Más código para actualizaciones | Requiere lógica para clonar en lugar de mutar directamente. |"
   ]
  }
 ],
 "metadata": {
  "kernelspec": {
   "display_name": "Deno",
   "language": "typescript",
   "name": "deno"
  },
  "language_info": {
   "codemirror_mode": "typescript",
   "file_extension": ".ts",
   "mimetype": "text/x.typescript",
   "name": "typescript",
   "nbconvert_exporter": "script",
   "pygments_lexer": "typescript",
   "version": "5.7.3"
  }
 },
 "nbformat": 4,
 "nbformat_minor": 5
}
