{
 "cells": [
  {
   "cell_type": "markdown",
   "id": "00b96c4a-9191-430a-981b-79398c2b4510",
   "metadata": {},
   "source": [
    "# Function Overloading"
   ]
  },
  {
   "cell_type": "markdown",
   "id": "682debc9-a863-4c04-be3e-5e9eec61439e",
   "metadata": {},
   "source": [
    "The next function returns two types of values, so you cannot use the string or number features with the 'as' keyword!"
   ]
  },
  {
   "cell_type": "code",
   "execution_count": 2,
   "id": "f82b8b99-00cd-4662-9ffa-3656558b48ec",
   "metadata": {},
   "outputs": [],
   "source": [
    "function getLength(val: string | any[]) {\n",
    "    if (typeof val === 'string') {\n",
    "        const numberOfWords = val.split(' ').length;\n",
    "        return `${numberOfWords} words`;\n",
    "    }\n",
    "    return val.length;\n",
    "}"
   ]
  },
  {
   "cell_type": "code",
   "execution_count": 5,
   "id": "3a1d9204-cec6-4e4b-b148-7df79ebddb32",
   "metadata": {},
   "outputs": [],
   "source": [
    "const numOfWords = getLength('does this work?') as string;"
   ]
  },
  {
   "cell_type": "code",
   "execution_count": 6,
   "id": "884b0201-5f68-44a1-8d64-9522ed4f0816",
   "metadata": {},
   "outputs": [],
   "source": [
    "const numItems = getLength(['Sports', 'Cookies']) as Array;"
   ]
  },
  {
   "cell_type": "markdown",
   "id": "43981d4d-7999-49db-98b4-fdddffe7f711",
   "metadata": {},
   "source": [
    "That's why exists function overloading"
   ]
  },
  {
   "cell_type": "code",
   "execution_count": 7,
   "id": "9576d211-b311-484e-be0f-97f794a18542",
   "metadata": {},
   "outputs": [],
   "source": [
    "function getLength(val: any[]): number;"
   ]
  },
  {
   "cell_type": "code",
   "execution_count": 8,
   "id": "085d6355-d78d-4c3a-a2b8-af93b43d7232",
   "metadata": {},
   "outputs": [],
   "source": [
    "function getLength(val: string): string;"
   ]
  },
  {
   "cell_type": "code",
   "execution_count": 9,
   "id": "8f6efd9d-308a-4c9b-8901-7899c54f4bac",
   "metadata": {},
   "outputs": [],
   "source": [
    "function getLength(val: string | any[]) {\n",
    "    if (typeof val === 'string') {\n",
    "        const numberOfWords = val.split(' ').length;\n",
    "        return `${numberOfWords} words`;\n",
    "    }\n",
    "    return val.length;\n",
    "}"
   ]
  },
  {
   "cell_type": "code",
   "execution_count": 13,
   "id": "ae8ab731-eddf-4409-9de9-654fb3899293",
   "metadata": {},
   "outputs": [],
   "source": [
    "const numOfWords = getLength('does this work?');"
   ]
  },
  {
   "cell_type": "code",
   "execution_count": 14,
   "id": "3843d21a-8c60-43e7-a2bc-dea2564ebc54",
   "metadata": {},
   "outputs": [
    {
     "data": {
      "text/plain": [
       "\u001b[33m7\u001b[39m"
      ]
     },
     "execution_count": 14,
     "metadata": {},
     "output_type": "execute_result"
    }
   ],
   "source": [
    "numOfWords.length;"
   ]
  },
  {
   "cell_type": "code",
   "execution_count": 11,
   "id": "de203549-ee75-4504-97c4-ef929546083f",
   "metadata": {},
   "outputs": [],
   "source": [
    "const numItems = getLength(['Sports', 'Cookies']);"
   ]
  },
  {
   "cell_type": "code",
   "execution_count": 15,
   "id": "f9552fba-e027-419e-989f-b3bce37d95dd",
   "metadata": {},
   "outputs": [
    {
     "data": {
      "text/plain": [
       "\u001b[33m2\u001b[39m"
      ]
     },
     "execution_count": 15,
     "metadata": {},
     "output_type": "execute_result"
    }
   ],
   "source": [
    "numItems;"
   ]
  }
 ],
 "metadata": {
  "kernelspec": {
   "display_name": "Deno",
   "language": "typescript",
   "name": "deno"
  },
  "language_info": {
   "codemirror_mode": "typescript",
   "file_extension": ".ts",
   "mimetype": "text/x.typescript",
   "name": "typescript",
   "nbconvert_exporter": "script",
   "pygments_lexer": "typescript",
   "version": "5.7.3"
  }
 },
 "nbformat": 4,
 "nbformat_minor": 5
}
