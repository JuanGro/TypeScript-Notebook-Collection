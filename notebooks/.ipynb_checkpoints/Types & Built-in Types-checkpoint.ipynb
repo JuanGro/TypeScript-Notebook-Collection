{
 "cells": [
  {
   "cell_type": "markdown",
   "id": "983991b5-7166-486b-b514-e1ec217dcbe8",
   "metadata": {},
   "source": [
    "# Types & Built-in Types"
   ]
  },
  {
   "cell_type": "markdown",
   "id": "1e441504-dace-4e43-b0bb-12851dc689ee",
   "metadata": {},
   "source": [
    "## ✅ 1. Primitive Types\n",
    "- string\n",
    "- number\n",
    "- boolean\n",
    "- bigint\n",
    "- symbol\n",
    "- null\n",
    "- undefined"
   ]
  },
  {
   "cell_type": "code",
   "execution_count": 3,
   "id": "d3d696f2-ac3e-4e73-984f-090d67b67192",
   "metadata": {},
   "outputs": [],
   "source": [
    "let userName;"
   ]
  },
  {
   "cell_type": "code",
   "execution_count": 4,
   "id": "5f842719-a4cc-4651-bc6a-bf4c80e438b3",
   "metadata": {},
   "outputs": [
    {
     "data": {
      "text/plain": [
       "\u001b[32m\"undefined\"\u001b[39m"
      ]
     },
     "execution_count": 4,
     "metadata": {},
     "output_type": "execute_result"
    }
   ],
   "source": [
    "typeof userName;"
   ]
  },
  {
   "cell_type": "code",
   "execution_count": 5,
   "id": "6f013d1f-a6e3-4092-8c43-f1520f45d220",
   "metadata": {},
   "outputs": [
    {
     "data": {
      "text/plain": [
       "\u001b[32m\"Max\"\u001b[39m"
      ]
     },
     "execution_count": 5,
     "metadata": {},
     "output_type": "execute_result"
    }
   ],
   "source": [
    "userName = 'Max';"
   ]
  },
  {
   "cell_type": "code",
   "execution_count": 2,
   "id": "721f6939-9c6c-4534-a3e6-0de9de9e4d94",
   "metadata": {},
   "outputs": [
    {
     "data": {
      "text/plain": [
       "\u001b[32m\"string\"\u001b[39m"
      ]
     },
     "execution_count": 2,
     "metadata": {},
     "output_type": "execute_result"
    }
   ],
   "source": [
    "typeof userName;"
   ]
  },
  {
   "cell_type": "code",
   "execution_count": 6,
   "id": "f895ad3a-c9b1-4d4a-80e8-ca0977c04cd8",
   "metadata": {},
   "outputs": [],
   "source": [
    "let userName2: string;"
   ]
  },
  {
   "cell_type": "code",
   "execution_count": 7,
   "id": "df774244-969f-4735-86bb-f2ca61294b6a",
   "metadata": {},
   "outputs": [
    {
     "data": {
      "text/plain": [
       "\u001b[32m\"undefined\"\u001b[39m"
      ]
     },
     "execution_count": 7,
     "metadata": {},
     "output_type": "execute_result"
    }
   ],
   "source": [
    "typeof userName2;"
   ]
  },
  {
   "cell_type": "markdown",
   "id": "a2cc5a18-abaf-4098-acb1-b8bb09948cc2",
   "metadata": {},
   "source": [
    "## Type Inference vs Type Assignment"
   ]
  },
  {
   "cell_type": "code",
   "execution_count": 8,
   "id": "d8b5d094-75cd-42e6-932e-40e732ebd532",
   "metadata": {},
   "outputs": [],
   "source": [
    "let userAge = 38; // Type Inference"
   ]
  },
  {
   "cell_type": "code",
   "execution_count": 9,
   "id": "c5dd2cd4-1d7a-45fa-84a8-7dd6fce241e5",
   "metadata": {},
   "outputs": [],
   "source": [
    "let userName3: string; // Type Assignment"
   ]
  },
  {
   "cell_type": "code",
   "execution_count": 10,
   "id": "2e2289c9-bdb1-4ae3-9f64-a127287a8ca2",
   "metadata": {},
   "outputs": [
    {
     "data": {
      "text/plain": [
       "\u001b[32m\"Max\"\u001b[39m"
      ]
     },
     "execution_count": 10,
     "metadata": {},
     "output_type": "execute_result"
    }
   ],
   "source": [
    "userName3 = 'Max';"
   ]
  },
  {
   "cell_type": "markdown",
   "id": "0906fc6c-f36d-4936-93ef-c37a00ecf922",
   "metadata": {},
   "source": [
    "## Assigning Types To Function Parameters"
   ]
  },
  {
   "cell_type": "code",
   "execution_count": 11,
   "id": "4545de8b-1b13-40a8-9ff6-0a7806168c78",
   "metadata": {},
   "outputs": [],
   "source": [
    "function add(a: number, b = 5) {\n",
    "    console.log(typeof a);\n",
    "    console.log(typeof b);\n",
    "    return a + b;\n",
    "}"
   ]
  },
  {
   "cell_type": "code",
   "execution_count": 26,
   "id": "0e918371-44a5-45f7-93fa-4cdfcd7526d4",
   "metadata": {},
   "outputs": [
    {
     "name": "stdout",
     "output_type": "stream",
     "text": [
      "number\n",
      "number\n"
     ]
    },
    {
     "data": {
      "text/plain": [
       "\u001b[33m6\u001b[39m"
      ]
     },
     "execution_count": 26,
     "metadata": {},
     "output_type": "execute_result"
    }
   ],
   "source": [
    "add(1);"
   ]
  },
  {
   "cell_type": "markdown",
   "id": "08f20424-6d1a-4e9e-8f17-c75e663207fd",
   "metadata": {},
   "source": [
    "## ✅ 2. Special Types\n",
    "any         // Disables type checking\n",
    "unknown     // Safer alternative to any\n",
    "never       // Represents values that never occur\n",
    "void        // Usually used for functions that return nothing"
   ]
  },
  {
   "cell_type": "markdown",
   "id": "4e477496-e222-4f97-ac22-c1662490de7f",
   "metadata": {},
   "source": [
    "### The \"any\" Type"
   ]
  },
  {
   "cell_type": "code",
   "execution_count": 21,
   "id": "b26a5959-e580-4d66-bce3-83396b49b3a6",
   "metadata": {},
   "outputs": [],
   "source": [
    "let age: any = 36; // Avoid any"
   ]
  },
  {
   "cell_type": "code",
   "execution_count": 19,
   "id": "ad3bcab7-b585-43cc-8856-9c5c3f7285d0",
   "metadata": {},
   "outputs": [
    {
     "data": {
      "text/plain": [
       "\u001b[32m\"37\"\u001b[39m"
      ]
     },
     "execution_count": 19,
     "metadata": {},
     "output_type": "execute_result"
    }
   ],
   "source": [
    "age = '37';"
   ]
  },
  {
   "cell_type": "code",
   "execution_count": 1,
   "id": "74548fef-cddd-4d33-b5f8-ccf1a154115b",
   "metadata": {},
   "outputs": [
    {
     "ename": "ReferenceError",
     "evalue": "age is not defined",
     "output_type": "error",
     "traceback": [
      "Stack trace:",
      "ReferenceError: age is not defined",
      "    at <anonymous>:1:22"
     ]
    }
   ],
   "source": [
    "age"
   ]
  },
  {
   "cell_type": "markdown",
   "id": "2e91f5ad-c81f-481b-9ce9-8f46f2967abc",
   "metadata": {},
   "source": [
    "### null & undefined"
   ]
  },
  {
   "cell_type": "code",
   "execution_count": 2,
   "id": "6f99fda5-74f0-4788-8b7d-d31940b8cd9f",
   "metadata": {},
   "outputs": [],
   "source": [
    "let a: null | string;"
   ]
  },
  {
   "cell_type": "code",
   "execution_count": 3,
   "id": "f4e1f832-bbb9-4235-bbe5-8fb6e2c2b10a",
   "metadata": {},
   "outputs": [
    {
     "data": {
      "text/plain": [
       "\u001b[32m\"Hi\"\u001b[39m"
      ]
     },
     "execution_count": 3,
     "metadata": {},
     "output_type": "execute_result"
    }
   ],
   "source": [
    "a = 'Hi';"
   ]
  },
  {
   "cell_type": "code",
   "execution_count": 4,
   "id": "0afc63ef-c0b5-4709-803d-2168a1f3c8d9",
   "metadata": {},
   "outputs": [
    {
     "data": {
      "text/plain": [
       "\u001b[1mnull\u001b[22m"
      ]
     },
     "execution_count": 4,
     "metadata": {},
     "output_type": "execute_result"
    }
   ],
   "source": [
    "a = null;"
   ]
  },
  {
   "cell_type": "code",
   "execution_count": 5,
   "id": "455f6035-e5b3-4969-b936-3eade4196e71",
   "metadata": {},
   "outputs": [],
   "source": [
    "let b: undefined | string;"
   ]
  },
  {
   "cell_type": "code",
   "execution_count": 6,
   "id": "04e6d2c9-fe77-41c6-99bf-5fe8b73700fa",
   "metadata": {},
   "outputs": [],
   "source": [
    "b"
   ]
  },
  {
   "cell_type": "code",
   "execution_count": 7,
   "id": "d739c6bd-0c8f-4dea-90c3-16ce5b3ee616",
   "metadata": {},
   "outputs": [
    {
     "data": {
      "text/plain": [
       "\u001b[32m\"Hey\"\u001b[39m"
      ]
     },
     "execution_count": 7,
     "metadata": {},
     "output_type": "execute_result"
    }
   ],
   "source": [
    "b = 'Hey';"
   ]
  },
  {
   "cell_type": "markdown",
   "id": "2bed3dd8-dd34-47a0-a404-f47248f1bedb",
   "metadata": {},
   "source": [
    "## ✅ 5. Union & Intersection Types"
   ]
  },
  {
   "cell_type": "markdown",
   "id": "ad64a005-dc83-4fef-9301-6f97257c86a4",
   "metadata": {},
   "source": [
    "## Union Types"
   ]
  },
  {
   "cell_type": "code",
   "execution_count": 23,
   "id": "c4adbd61-2ded-45a5-a254-8b87f0478cbe",
   "metadata": {},
   "outputs": [],
   "source": [
    "let age: string | number = 36;"
   ]
  },
  {
   "cell_type": "code",
   "execution_count": 24,
   "id": "7cccfdfe-818c-4e7f-954a-954b25c30580",
   "metadata": {},
   "outputs": [
    {
     "data": {
      "text/plain": [
       "\u001b[33m36\u001b[39m"
      ]
     },
     "execution_count": 24,
     "metadata": {},
     "output_type": "execute_result"
    }
   ],
   "source": [
    "age"
   ]
  },
  {
   "cell_type": "code",
   "execution_count": 25,
   "id": "ce37cee6-5d75-4026-9624-bc41e2208f62",
   "metadata": {},
   "outputs": [
    {
     "data": {
      "text/plain": [
       "\u001b[32m\"36\"\u001b[39m"
      ]
     },
     "execution_count": 25,
     "metadata": {},
     "output_type": "execute_result"
    }
   ],
   "source": [
    "age = '36';"
   ]
  }
 ],
 "metadata": {
  "kernelspec": {
   "display_name": "Deno",
   "language": "typescript",
   "name": "deno"
  },
  "language_info": {
   "codemirror_mode": "typescript",
   "file_extension": ".ts",
   "mimetype": "text/x.typescript",
   "name": "typescript",
   "nbconvert_exporter": "script",
   "pygments_lexer": "typescript",
   "version": "5.7.3"
  }
 },
 "nbformat": 4,
 "nbformat_minor": 5
}
