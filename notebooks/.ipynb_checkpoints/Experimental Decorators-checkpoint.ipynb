{
 "cells": [
  {
   "cell_type": "markdown",
   "id": "0735b276-46bf-4b5b-af7c-65affc96892f",
   "metadata": {},
   "source": [
    "# Experimental Decorators"
   ]
  },
  {
   "cell_type": "markdown",
   "id": "591f2c06-0891-436b-a597-8d906317b8fa",
   "metadata": {},
   "source": [
    "| Feature          | Decorator                     | Factory Decorator                   |\n",
    "| ---------------- | ----------------------------- | ----------------------------------- |\n",
    "| Takes arguments? | ❌ No                          | ✅ Yes                               |\n",
    "| Structure        | Function that returns wrapper | Function that returns a decorator   |\n",
    "| Example usage    | `@my_decorator`               | `@my_decorator(arg1, arg2)`         |\n",
    "| Use case         | Static behavior               | Dynamic behavior based on arguments |"
   ]
  },
  {
   "cell_type": "code",
   "execution_count": 1,
   "id": "75957867-3d53-4354-8b06-f320c2c44d44",
   "metadata": {},
   "outputs": [],
   "source": [
    "function Logger(constructor: Function) {\n",
    "    console.log('Logging...');\n",
    "    console.log(constructor);\n",
    "}"
   ]
  },
  {
   "cell_type": "code",
   "execution_count": 2,
   "id": "4c6e4054-2861-46dd-a835-8e38dbde748e",
   "metadata": {},
   "outputs": [
    {
     "name": "stdout",
     "output_type": "stream",
     "text": [
      "Logging...\n",
      "\u001b[36m[class Person]\u001b[39m\n"
     ]
    }
   ],
   "source": [
    "@Logger\n",
    "class Person {\n",
    "    name = 'Max';\n",
    "\n",
    "    constructor() {\n",
    "        console.log('Creating person object...');\n",
    "    }\n",
    "}"
   ]
  },
  {
   "cell_type": "code",
   "execution_count": 3,
   "id": "d61e41c1-9c86-4488-8c1c-3c9bb9641619",
   "metadata": {},
   "outputs": [
    {
     "name": "stdout",
     "output_type": "stream",
     "text": [
      "Creating person object...\n"
     ]
    }
   ],
   "source": [
    "const pers = new Person();"
   ]
  }
 ],
 "metadata": {
  "kernelspec": {
   "display_name": "Deno",
   "language": "typescript",
   "name": "deno"
  },
  "language_info": {
   "codemirror_mode": "typescript",
   "file_extension": ".ts",
   "mimetype": "text/x.typescript",
   "name": "typescript",
   "nbconvert_exporter": "script",
   "pygments_lexer": "typescript",
   "version": "5.7.3"
  }
 },
 "nbformat": 4,
 "nbformat_minor": 5
}
