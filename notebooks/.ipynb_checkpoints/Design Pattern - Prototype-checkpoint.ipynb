{
 "cells": [
  {
   "cell_type": "markdown",
   "id": "2072da9b-4fce-46fe-b5eb-b8e791fa8d2f",
   "metadata": {},
   "source": [
    "# Design Pattern - Prototype"
   ]
  },
  {
   "cell_type": "markdown",
   "id": "652cb060-b42a-4af6-b1a6-d9ce5acf822f",
   "metadata": {},
   "source": [
    "## ¿Qué es el patrón Prototype?\n",
    "\n",
    "El patrón Prototype se usa para crear nuevos objetos copiando (clonando) una instancia existente, en lugar de instanciar nuevos objetos desde cero con new.\n",
    "\n",
    "Es ideal cuando la creación de un objeto es costosa o compleja, y necesitas duplicarlo con sus propiedades actuales."
   ]
  },
  {
   "cell_type": "markdown",
   "id": "b848ff2e-81c1-4752-9225-77402e572d8b",
   "metadata": {},
   "source": [
    "## Propósito\n",
    "Crear nuevos objetos copiando un prototipo ya existente.\n",
    "\n",
    "Esto permite:\n",
    "- Crear objetos de forma eficiente.\n",
    "- Evitar acoplar el código a clases concretas.\n",
    "- Crear objetos complejos sin pasar todos los parámetros nuevamente."
   ]
  },
  {
   "cell_type": "markdown",
   "id": "80674a82-8075-4789-9f79-2a938a7968ea",
   "metadata": {},
   "source": [
    "## ¿Cuándo usarlo?\n",
    "\n",
    "Usa el patrón Prototype cuando:\n",
    "- Los objetos a crear son costosos (por cálculos, consultas, etc.).\n",
    "- Se necesita duplicar objetos con estado.\n",
    "- Se desea evitar el uso de new directamente.\n",
    "- Se necesita copiar estructuras complejas o jerárquicas."
   ]
  },
  {
   "cell_type": "markdown",
   "id": "a40d9221-51e0-4647-b8ca-ca986f3694fa",
   "metadata": {},
   "source": [
    "## Estructura\n",
    "### Prototype (interfaz)\n",
    "- +clone(): Prototype\n",
    "\n",
    "### ConcretePrototypeA\n",
    "- +clone(): ConcretePrototypeA\n",
    "\n",
    "### Cliente\n",
    "- Usa el método clone() para duplicar objetos sin saber su clase concreta"
   ]
  },
  {
   "cell_type": "markdown",
   "id": "47ac4e27-c989-4a0d-8715-a372ed643c0f",
   "metadata": {},
   "source": [
    "## Ejemplo"
   ]
  },
  {
   "cell_type": "markdown",
   "id": "b3a5662c-2f86-4ec3-be28-fac5bd21cbfe",
   "metadata": {},
   "source": [
    "### 1. Interfaz Prototype"
   ]
  },
  {
   "cell_type": "code",
   "execution_count": 1,
   "id": "ec1f8114-e436-400d-8c20-89bd7a9558cc",
   "metadata": {},
   "outputs": [],
   "source": [
    "// Documento.ts\n",
    "export interface Documento {\n",
    "  clone(): Documento;\n",
    "  mostrar(): void;\n",
    "}"
   ]
  },
  {
   "cell_type": "markdown",
   "id": "e721b0ae-e292-45ab-9a39-ac8aeced58de",
   "metadata": {},
   "source": [
    "### 2. Clase concreta que implementa clone"
   ]
  },
  {
   "cell_type": "code",
   "execution_count": 2,
   "id": "12dc176d-6ac0-44c8-bd90-22f584d3c66c",
   "metadata": {},
   "outputs": [],
   "source": [
    "export class DocumentoContrato implements Documento {\n",
    "  constructor(\n",
    "    private cliente: string,\n",
    "    private contenido: string\n",
    "  ) {}\n",
    "\n",
    "  clone(): Documento {\n",
    "    // Crea una copia con los mismos datos\n",
    "    return new DocumentoContrato(this.cliente, this.contenido);\n",
    "  }\n",
    "\n",
    "  mostrar(): void {\n",
    "    console.log(`📄 Contrato para: ${this.cliente}`);\n",
    "    console.log(`Contenido: ${this.contenido}`);\n",
    "  }\n",
    "}"
   ]
  },
  {
   "cell_type": "markdown",
   "id": "840db9b2-540b-4baa-8bd4-2f8378924fe2",
   "metadata": {},
   "source": [
    "### 3. Uso del patrón"
   ]
  },
  {
   "cell_type": "code",
   "execution_count": 3,
   "id": "61737a9a-9162-496f-a1de-604d983a5573",
   "metadata": {},
   "outputs": [
    {
     "name": "stdout",
     "output_type": "stream",
     "text": [
      "📄 Contrato para: Cliente Base\n",
      "Contenido: Contenido estándar de contrato\n",
      "📄 Contrato para: Cliente Base\n",
      "Contenido: Contenido estándar de contrato\n"
     ]
    }
   ],
   "source": [
    "const contratoBase = new DocumentoContrato(\"Cliente Base\", \"Contenido estándar de contrato\");\n",
    "const contratoCliente1 = contratoBase.clone();\n",
    "const contratoCliente2 = contratoBase.clone();\n",
    "\n",
    "contratoCliente1.mostrar();\n",
    "contratoCliente2.mostrar();"
   ]
  },
  {
   "cell_type": "markdown",
   "id": "0da41a82-efb8-4923-8d49-b3476b899c6b",
   "metadata": {},
   "source": [
    "## Ventajas del patrón Prototype\n",
    "| # | Ventaja                                 | Descripción                                                        |\n",
    "| - | --------------------------------------- | ------------------------------------------------------------------ |\n",
    "| 1 | 🔁 Clonación eficiente                  | Crear copias sin reconstruir el objeto desde cero.                 |\n",
    "| 2 | ♻️ Reutilización de objetos             | Evita repetir configuración, inicialización o lógica costosa.      |\n",
    "| 3 | 🔧 Independencia de clases              | El cliente no necesita saber qué clase tiene el objeto.            |\n",
    "| 4 | 🧱 Compatible con estructuras complejas | Ideal para copiar árboles, gráficos, etc.                          |\n",
    "| 5 | 🔒 Evita acoplamiento con `new`         | Promueve trabajar con abstracciones (`clone()`), no constructores. |"
   ]
  },
  {
   "cell_type": "markdown",
   "id": "f9abc5fb-b584-49ed-8ec2-6c9cba5248c1",
   "metadata": {},
   "source": [
    "## Desventajas\n",
    "| # | Desventaja                                      | Descripción                                                           |\n",
    "| - | ----------------------------------------------- | --------------------------------------------------------------------- |\n",
    "| 1 | ❗ Clonado profundo puede ser complejo           | Si los objetos tienen referencias a otros objetos, puede complicarse. |\n",
    "| 2 | 🔧 Requiere implementar `clone()` en cada clase | Más código a mantener.                                                |\n",
    "| 3 | 🧠 Riesgo de duplicar estado mutable            | Si no se maneja bien, se pueden compartir referencias sin querer.     |"
   ]
  },
  {
   "cell_type": "markdown",
   "id": "2044bab1-8254-4906-ae00-a199c0efdd9a",
   "metadata": {},
   "source": [
    "## Ejemplos del mundo real\n",
    "- Photoshop / Illustrator: duplicar una forma con todos sus estilos.\n",
    "- Videojuegos: clonar enemigos con diferentes posiciones pero mismo comportamiento.\n",
    "- Documentos: duplicar plantillas con distintos datos."
   ]
  }
 ],
 "metadata": {
  "kernelspec": {
   "display_name": "Deno",
   "language": "typescript",
   "name": "deno"
  },
  "language_info": {
   "codemirror_mode": "typescript",
   "file_extension": ".ts",
   "mimetype": "text/x.typescript",
   "name": "typescript",
   "nbconvert_exporter": "script",
   "pygments_lexer": "typescript",
   "version": "5.7.3"
  }
 },
 "nbformat": 4,
 "nbformat_minor": 5
}
