{
 "cells": [
  {
   "cell_type": "markdown",
   "id": "915ccbe1-2f93-4ff4-a400-942f9dee04a0",
   "metadata": {},
   "source": [
    "# infer"
   ]
  },
  {
   "cell_type": "markdown",
   "id": "bd04fb3d-d316-4715-a26d-ab8ff62a7bdd",
   "metadata": {},
   "source": [
    "The infer keyword in TypeScript is part of conditional types, and it’s used to extract or infer a type from another type — kind of like \"pulling out\" a piece of information and giving it a temporary name to use in the rest of the type.\n",
    "\n",
    "infer lets you declare a new type variable inside a conditional type."
   ]
  },
  {
   "cell_type": "code",
   "execution_count": 1,
   "id": "46a3eb11-2eaf-4d2d-8283-68538081872a",
   "metadata": {},
   "outputs": [],
   "source": [
    "type MyType<T> = T extends SomeWrapper<infer U> ? U : T;"
   ]
  },
  {
   "cell_type": "markdown",
   "id": "52157252-46f2-4fea-a851-f8ac8ca4d755",
   "metadata": {},
   "source": [
    "- infer U declares a new type variable U based on the structure of T.\n",
    "- If T fits the pattern SomeWrapper<something>, U will be that something."
   ]
  },
  {
   "cell_type": "code",
   "execution_count": 2,
   "id": "4bfedc26-f291-4694-b1ed-3e90ea7d4736",
   "metadata": {},
   "outputs": [],
   "source": [
    "type ReturnType<T> = T extends (...args: any[]) => infer R ? R : never;"
   ]
  },
  {
   "cell_type": "markdown",
   "id": "5d4ee592-2416-4e0e-bf98-e8df7c3b7bfb",
   "metadata": {},
   "source": [
    "- If T is a function type, extract the return type (R) using infer.\n",
    "- Otherwise, return never."
   ]
  }
 ],
 "metadata": {
  "kernelspec": {
   "display_name": "Deno",
   "language": "typescript",
   "name": "deno"
  },
  "language_info": {
   "codemirror_mode": "typescript",
   "file_extension": ".ts",
   "mimetype": "text/x.typescript",
   "name": "typescript",
   "nbconvert_exporter": "script",
   "pygments_lexer": "typescript",
   "version": "5.7.3"
  }
 },
 "nbformat": 4,
 "nbformat_minor": 5
}
