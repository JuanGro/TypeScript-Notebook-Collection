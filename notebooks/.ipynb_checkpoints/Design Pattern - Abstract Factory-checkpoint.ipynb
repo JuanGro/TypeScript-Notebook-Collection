{
 "cells": [
  {
   "cell_type": "markdown",
   "id": "75bb19ca-f486-40cf-bd48-65899be101cc",
   "metadata": {},
   "source": [
    "# Design Pattern - Abstract Factory\n",
    "El Abstract Factory es un patrón de diseño creacional que permite crear familias de objetos relacionados sin especificar sus clases concretas.\n",
    "\n",
    "A diferencia del Factory Method, que crea un solo producto, el Abstract Factory crea familias completas de productos que deben funcionar juntos."
   ]
  },
  {
   "cell_type": "markdown",
   "id": "34988da9-6785-4d66-824e-c1bd73700d00",
   "metadata": {},
   "source": [
    "## ¿Para qué se usa?\n",
    "Se usa cuando necesitas:\n",
    "- Crear varios objetos relacionados o dependientes entre sí.\n",
    "- Asegurar que los objetos creados sean compatibles entre sí.\n",
    "- Poder cambiar fácilmente toda la familia de productos sin tocar el código cliente."
   ]
  },
  {
   "cell_type": "markdown",
   "id": "0a0e8e1d-eb95-4fb8-8fbd-7af0d6cccfe4",
   "metadata": {},
   "source": [
    "## Ejemplo rápido: interfaz gráfica multiplataforma\n",
    "Imagina una librería de interfaz gráfica que puede tener dos estilos de UI:\n",
    "- 🎨 Light Theme\n",
    "- 🌙 Dark Theme\n",
    "\n",
    "Cada tema tiene sus propias versiones de componentes como:\n",
    "- Boton\n",
    "- Checkbox\n",
    "\n",
    "Necesitas una forma de crear objetos compatibles entre sí sin que el cliente sepa qué versión está usando."
   ]
  },
  {
   "cell_type": "markdown",
   "id": "d7896f22-0496-4c9a-9277-9768ab404059",
   "metadata": {},
   "source": [
    "## Estructura del patrón (Markdown)\n",
    "### AbstractFactory\n",
    "- +crearBoton(): Boton\n",
    "- +crearCheckbox(): Checkbox\n",
    "\n",
    "### ConcreteFactoryLight\n",
    "- +crearBoton(): BotonLight\n",
    "- +crearCheckbox(): CheckboxLight\n",
    "\n",
    "### ConcreteFactoryDark\n",
    "- +crearBoton(): BotonDark\n",
    "- +crearCheckbox(): CheckboxDark\n",
    "\n",
    "### Abstract Products\n",
    "- Boton\n",
    "  - +render(): void\n",
    "- Checkbox\n",
    "  - +check(): void\n",
    "\n",
    "### Concrete Products\n",
    "- BotonLight / BotonDark\n",
    "- CheckboxLight / CheckboxDark"
   ]
  },
  {
   "cell_type": "markdown",
   "id": "aa775773-186c-4656-9863-43d3a09a3498",
   "metadata": {},
   "source": [
    "## Ejemplo\n",
    "### 1. Productos abstractos"
   ]
  },
  {
   "cell_type": "code",
   "execution_count": 1,
   "id": "eae10548-aab3-47ee-b756-713080ea5ae1",
   "metadata": {},
   "outputs": [],
   "source": [
    "// Boton.ts\n",
    "export interface Boton {\n",
    "  render(): void;\n",
    "}\n",
    "\n",
    "// Checkbox.ts\n",
    "export interface Checkbox {\n",
    "  check(): void;\n",
    "}"
   ]
  },
  {
   "cell_type": "markdown",
   "id": "d394e23b-223d-4c15-9475-c3a88c307616",
   "metadata": {},
   "source": [
    "### 2. Productos concretos"
   ]
  },
  {
   "cell_type": "code",
   "execution_count": 2,
   "id": "72db7695-b7e2-4f99-948e-e714d0652d64",
   "metadata": {},
   "outputs": [],
   "source": [
    "// BotonLight.ts\n",
    "export class BotonLight implements Boton {\n",
    "  render() {\n",
    "    console.log(\"🎨 Renderizando botón claro\");\n",
    "  }\n",
    "}\n",
    "\n",
    "// BotonDark.ts\n",
    "export class BotonDark implements Boton {\n",
    "  render() {\n",
    "    console.log(\"🌙 Renderizando botón oscuro\");\n",
    "  }\n",
    "}\n",
    "\n",
    "// CheckboxLight.ts\n",
    "export class CheckboxLight implements Checkbox {\n",
    "  check() {\n",
    "    console.log(\"✅ Checkbox claro seleccionado\");\n",
    "  }\n",
    "}\n",
    "\n",
    "// CheckboxDark.ts\n",
    "export class CheckboxDark implements Checkbox {\n",
    "  check() {\n",
    "    console.log(\"☑️ Checkbox oscuro seleccionado\");\n",
    "  }\n",
    "}"
   ]
  },
  {
   "cell_type": "markdown",
   "id": "88c8f54b-62fa-41c9-9852-75f6bc8d73cf",
   "metadata": {},
   "source": [
    "### 3. Fábrica abstracta"
   ]
  },
  {
   "cell_type": "code",
   "execution_count": 3,
   "id": "105c7b96-e9ff-4500-a74a-af07257f41d7",
   "metadata": {},
   "outputs": [],
   "source": [
    "// UIFactory.ts\n",
    "export interface UIFactory {\n",
    "  crearBoton(): Boton;\n",
    "  crearCheckbox(): Checkbox;\n",
    "}"
   ]
  },
  {
   "cell_type": "markdown",
   "id": "fd75e415-788f-4723-88ba-6cfaff5c6539",
   "metadata": {},
   "source": [
    "### 4. Fábricas concretas"
   ]
  },
  {
   "cell_type": "code",
   "execution_count": 6,
   "id": "17406c4e-4d52-4422-a302-496621721b13",
   "metadata": {},
   "outputs": [],
   "source": [
    "// LightUIFactory.ts\n",
    "export class LightUIFactory implements UIFactory {\n",
    "  crearBoton(): Boton {\n",
    "    return new BotonLight();\n",
    "  }\n",
    "\n",
    "  crearCheckbox(): Checkbox {\n",
    "    return new CheckboxLight();\n",
    "  }\n",
    "}\n",
    "\n",
    "// DarkUIFactory.ts\n",
    "export class DarkUIFactory implements UIFactory {\n",
    "  crearBoton(): Boton {\n",
    "    return new BotonDark();\n",
    "  }\n",
    "\n",
    "  crearCheckbox(): Checkbox {\n",
    "    return new CheckboxDark();\n",
    "  }\n",
    "}"
   ]
  },
  {
   "cell_type": "markdown",
   "id": "55b4709f-1e18-4c2e-97f2-b2c73aea813f",
   "metadata": {},
   "source": [
    "### 5. Cliente"
   ]
  },
  {
   "cell_type": "code",
   "execution_count": 7,
   "id": "2c79fc41-7837-454c-be21-684869d49c40",
   "metadata": {},
   "outputs": [],
   "source": [
    "// App.ts\n",
    "export class App {\n",
    "  private boton;\n",
    "  private checkbox;\n",
    "\n",
    "  constructor(factory: UIFactory) {\n",
    "    this.boton = factory.crearBoton();\n",
    "    this.checkbox = factory.crearCheckbox();\n",
    "  }\n",
    "\n",
    "  renderUI() {\n",
    "    this.boton.render();\n",
    "    this.checkbox.check();\n",
    "  }\n",
    "}"
   ]
  },
  {
   "cell_type": "markdown",
   "id": "df29b37e-5a77-46b9-ae17-b6fb2f086b51",
   "metadata": {},
   "source": [
    "### 6. Uso"
   ]
  },
  {
   "cell_type": "code",
   "execution_count": 8,
   "id": "d5ae9f21-9033-4bad-8270-92342c06f187",
   "metadata": {},
   "outputs": [
    {
     "name": "stdout",
     "output_type": "stream",
     "text": [
      "🌙 Renderizando botón oscuro\n",
      "☑️ Checkbox oscuro seleccionado\n"
     ]
    }
   ],
   "source": [
    "// main.ts\n",
    "const modoOscuro = true; // Supongamos que lo lees de config\n",
    "\n",
    "const factory = modoOscuro ? new DarkUIFactory() : new LightUIFactory();\n",
    "const app = new App(factory);\n",
    "app.renderUI();\n",
    "// 🌙 Renderizando botón oscuro\n",
    "// ☑️ Checkbox oscuro seleccionado"
   ]
  },
  {
   "cell_type": "markdown",
   "id": "99c4813c-c2cd-48d0-9583-35c24e397dce",
   "metadata": {},
   "source": [
    "| Ventaja                       | Descripción                                                           |\n",
    "| ----------------------------- | --------------------------------------------------------------------- |\n",
    "| 🔄 Cambiar familias completas | Puedes cambiar toda la UI (o familia de objetos) desde un solo punto. |\n",
    "| 🧩 Productos compatibles      | Asegura que los objetos funcionen bien juntos.                        |\n",
    "| 🔧 Abierto/cerrado            | Puedes añadir nuevos temas o variantes sin modificar el cliente.      |\n",
    "| ♻️ Reutilización              | Separa claramente creación de uso.                                    |\n"
   ]
  },
  {
   "cell_type": "markdown",
   "id": "c822ec17-3579-40bd-b5f2-21296538647b",
   "metadata": {},
   "source": [
    "### ⚠️ Desventajas\n",
    "\n",
    "Añade complejidad y clases adicionales.\n",
    "\n",
    "Puede ser demasiado abstracto si solo necesitas crear un objeto."
   ]
  },
  {
   "cell_type": "markdown",
   "id": "9b25b5bb-268d-4b1e-8b41-fb86625da26b",
   "metadata": {},
   "source": [
    "| Concepto                 | Factory Method                      | Abstract Factory                                       |\n",
    "| ------------------------ | ----------------------------------- | ------------------------------------------------------ |\n",
    "| 🔧 Crea...               | Un solo producto                    | Varias familias de productos relacionados              |\n",
    "| 📦 Relación de productos | No necesariamente                   | Sí, los productos deben ser compatibles                |\n",
    "| 🧱 Basado en...          | Herencia                            | Composición                                            |\n",
    "| 🧩 Uso común en...       | Subclases que varían un solo objeto | Sistemas que deben crear múltiples objetos compatibles |"
   ]
  }
 ],
 "metadata": {
  "kernelspec": {
   "display_name": "Deno",
   "language": "typescript",
   "name": "deno"
  },
  "language_info": {
   "codemirror_mode": "typescript",
   "file_extension": ".ts",
   "mimetype": "text/x.typescript",
   "name": "typescript",
   "nbconvert_exporter": "script",
   "pygments_lexer": "typescript",
   "version": "5.7.3"
  }
 },
 "nbformat": 4,
 "nbformat_minor": 5
}
