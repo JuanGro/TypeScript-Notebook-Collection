{
 "cells": [
  {
   "cell_type": "markdown",
   "id": "cf60e588-8b45-41c9-9b16-69a7dc6a0683",
   "metadata": {},
   "source": [
    "# Type Guards"
   ]
  },
  {
   "cell_type": "code",
   "execution_count": 2,
   "id": "6e13ad2a-52d0-4084-b22f-f321e8a30046",
   "metadata": {},
   "outputs": [],
   "source": [
    "type FileSource = {\n",
    "    path: string;\n",
    "};"
   ]
  },
  {
   "cell_type": "code",
   "execution_count": 3,
   "id": "2c518de5-05cc-42ce-a2e4-5a8a7371d199",
   "metadata": {},
   "outputs": [],
   "source": [
    "type DBSource = {\n",
    "    path: string;\n",
    "};"
   ]
  },
  {
   "cell_type": "code",
   "execution_count": 4,
   "id": "d6317e97-b48f-44a5-bc06-db70b6944614",
   "metadata": {},
   "outputs": [],
   "source": [
    "type Source = FileSource | DBSource;"
   ]
  },
  {
   "cell_type": "code",
   "execution_count": 10,
   "id": "772fc936-da75-48cf-a0bc-710660f24db3",
   "metadata": {},
   "outputs": [],
   "source": [
    "function loadData(source: Source) {\n",
    "    if ('path' in source) {\n",
    "        // source.path;\n",
    "        return;\n",
    "    }\n",
    "    // source.connectionUrl;\n",
    "}"
   ]
  },
  {
   "cell_type": "markdown",
   "id": "45dd5ec2-a5ca-4f95-a859-200fb0253118",
   "metadata": {},
   "source": [
    "## Discriminated Unions"
   ]
  },
  {
   "cell_type": "code",
   "execution_count": 11,
   "id": "092e8c40-3fb2-4889-a9b7-7f32316ccd96",
   "metadata": {},
   "outputs": [],
   "source": [
    "type FileSource = {\n",
    "    type: 'file'; // here\n",
    "    path: string;\n",
    "};"
   ]
  },
  {
   "cell_type": "code",
   "execution_count": 12,
   "id": "abe69194-2bf4-4b74-8e19-ed261070e0fd",
   "metadata": {},
   "outputs": [],
   "source": [
    "type DBSource = {\n",
    "    type: 'db'; // here\n",
    "    path: string;\n",
    "};"
   ]
  },
  {
   "cell_type": "code",
   "execution_count": 14,
   "id": "dae81fba-cc52-4b97-859c-04c3b6bece67",
   "metadata": {},
   "outputs": [],
   "source": [
    "function loadData(source: Source) {\n",
    "    if (source.type === 'file') {\n",
    "        // source.path;\n",
    "        return;\n",
    "    }\n",
    "    // source.connectionUrl;\n",
    "}"
   ]
  },
  {
   "cell_type": "markdown",
   "id": "33072e7b-a781-4e6c-b4c1-0f8bf4558538",
   "metadata": {},
   "source": [
    "## instanceof"
   ]
  },
  {
   "cell_type": "code",
   "execution_count": 15,
   "id": "4add57e6-530b-4e11-bd7e-bd4fdf9d337f",
   "metadata": {},
   "outputs": [],
   "source": [
    "class User {}"
   ]
  },
  {
   "cell_type": "code",
   "execution_count": 16,
   "id": "d62551d2-d27b-47a5-9443-fbfea63ac4c1",
   "metadata": {},
   "outputs": [],
   "source": [
    "class Admin {}"
   ]
  },
  {
   "cell_type": "code",
   "execution_count": 18,
   "id": "fdc6e51b-8df6-45ee-a5e3-4ba219765dbe",
   "metadata": {},
   "outputs": [],
   "source": [
    "function init(entity: Entity) {\n",
    "    if (entity instanceof User) {\n",
    "        entity.join();\n",
    "        return;\n",
    "    }\n",
    "\n",
    "    entity.scan();\n",
    "}"
   ]
  },
  {
   "cell_type": "markdown",
   "id": "3bc15157-32b8-490a-8641-64decfc4686b",
   "metadata": {},
   "source": [
    "## \"outsourcing\" Type Guards & using Type Predicates"
   ]
  },
  {
   "cell_type": "code",
   "execution_count": 19,
   "id": "fb4ea7b3-6a78-43df-a1ea-a74e9dbd95f9",
   "metadata": {},
   "outputs": [],
   "source": [
    "function isFile(source: Source) {\n",
    "    return source.type === 'file';\n",
    "}"
   ]
  },
  {
   "cell_type": "code",
   "execution_count": 21,
   "id": "aa98c355-e958-4732-b2bd-6ee9af4e0879",
   "metadata": {},
   "outputs": [],
   "source": [
    "function loadData(source: Source) {\n",
    "    if (isFile(source)) {\n",
    "        // source.path;\n",
    "        return;\n",
    "    }\n",
    "    // source.connectionUrl;\n",
    "}"
   ]
  }
 ],
 "metadata": {
  "kernelspec": {
   "display_name": "Deno",
   "language": "typescript",
   "name": "deno"
  },
  "language_info": {
   "codemirror_mode": "typescript",
   "file_extension": ".ts",
   "mimetype": "text/x.typescript",
   "name": "typescript",
   "nbconvert_exporter": "script",
   "pygments_lexer": "typescript",
   "version": "5.7.3"
  }
 },
 "nbformat": 4,
 "nbformat_minor": 5
}
