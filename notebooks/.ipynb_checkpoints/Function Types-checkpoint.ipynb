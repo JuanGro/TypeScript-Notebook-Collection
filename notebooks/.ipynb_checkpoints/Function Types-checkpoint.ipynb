{
 "cells": [
  {
   "cell_type": "markdown",
   "id": "937575e1-332b-471c-a345-e3cd2fff5110",
   "metadata": {},
   "source": [
    "# Function Types"
   ]
  },
  {
   "cell_type": "code",
   "execution_count": 1,
   "id": "b59c15d8-2c62-45a9-9a09-53434377aca9",
   "metadata": {},
   "outputs": [],
   "source": [
    "function add(a: number, b: number): number {\n",
    "    return a + b;  \n",
    "}"
   ]
  },
  {
   "cell_type": "code",
   "execution_count": 2,
   "id": "5677030b-aaa6-4c8c-bcb7-e4ed8b2ac7c0",
   "metadata": {},
   "outputs": [],
   "source": [
    "function log(message: string): void {\n",
    "    console.log(message);\n",
    "}"
   ]
  },
  {
   "cell_type": "code",
   "execution_count": 3,
   "id": "d7666cf1-34fb-4b56-8954-1fd7985eb980",
   "metadata": {},
   "outputs": [],
   "source": [
    "function logAndThrow(errorMessage: string): never {\n",
    "    console.log(errorMessage);\n",
    "    throw new Error(errorMessage);\n",
    "}"
   ]
  },
  {
   "cell_type": "code",
   "execution_count": 4,
   "id": "17da4c50-e4cd-401f-80d9-0863ac1a7f65",
   "metadata": {},
   "outputs": [],
   "source": [
    "function performJob(cb: Function) {\n",
    "    cb();\n",
    "}"
   ]
  },
  {
   "cell_type": "code",
   "execution_count": 5,
   "id": "cd8b203f-c82e-4ea2-8a87-82facdc02620",
   "metadata": {},
   "outputs": [
    {
     "name": "stdout",
     "output_type": "stream",
     "text": [
      "callback\n"
     ]
    }
   ],
   "source": [
    "performJob(() => console.log('callback'));"
   ]
  },
  {
   "cell_type": "code",
   "execution_count": 6,
   "id": "29786b89-ae92-4fd1-be92-17a25f0443a6",
   "metadata": {},
   "outputs": [],
   "source": [
    "function performJob(cb: (m: string) => void) {\n",
    "    cb('Job done');\n",
    "}"
   ]
  },
  {
   "cell_type": "code",
   "execution_count": 7,
   "id": "5b55e059-eebf-4126-bcf1-3fb2dd07aca1",
   "metadata": {},
   "outputs": [
    {
     "name": "stdout",
     "output_type": "stream",
     "text": [
      "Job done\n"
     ]
    }
   ],
   "source": [
    "performJob(log);"
   ]
  },
  {
   "cell_type": "code",
   "execution_count": 8,
   "id": "73fb0b02-70a1-41b1-b8f6-68d3f5b59434",
   "metadata": {},
   "outputs": [],
   "source": [
    "type User = {\n",
    "    name: string;\n",
    "    age: number;\n",
    "    greet: () => string;\n",
    "};"
   ]
  },
  {
   "cell_type": "code",
   "execution_count": 9,
   "id": "ced44e63-69f9-4669-a656-c02ee6681923",
   "metadata": {},
   "outputs": [],
   "source": [
    "let user: User = {\n",
    "    name: 'Max',\n",
    "    age: 39,\n",
    "    greet() {\n",
    "        console.log('Hello there!');\n",
    "        return this.name;\n",
    "    }\n",
    "}"
   ]
  },
  {
   "cell_type": "code",
   "execution_count": 10,
   "id": "ad51e0ff-6dbd-449e-974c-51817c284cce",
   "metadata": {},
   "outputs": [
    {
     "name": "stdout",
     "output_type": "stream",
     "text": [
      "Hello there!\n"
     ]
    },
    {
     "data": {
      "text/plain": [
       "\u001b[32m\"Max\"\u001b[39m"
      ]
     },
     "execution_count": 10,
     "metadata": {},
     "output_type": "execute_result"
    }
   ],
   "source": [
    "user.greet();"
   ]
  },
  {
   "cell_type": "code",
   "execution_count": 11,
   "id": "242fc0fd-33cb-48c7-af93-c2f8fb0d6567",
   "metadata": {},
   "outputs": [],
   "source": [
    "function generateError(msg?: string) {\n",
    "    if (msg) {\n",
    "        throw new Error(msg);\n",
    "    }\n",
    "    throw new Error();\n",
    "}"
   ]
  },
  {
   "cell_type": "code",
   "execution_count": 13,
   "id": "dab40d71-d548-4cf4-8f3d-0340acef0ee3",
   "metadata": {},
   "outputs": [
    {
     "ename": "Error",
     "evalue": "(none)",
     "output_type": "error",
     "traceback": [
      "Stack trace:",
      "Error",
      "    at generateError (<anonymous>:5:9)",
      "    at <anonymous>:1:22"
     ]
    }
   ],
   "source": [
    "generateError();"
   ]
  },
  {
   "cell_type": "code",
   "execution_count": 14,
   "id": "7bd32a9c-549b-4a09-9efc-71646941697f",
   "metadata": {},
   "outputs": [
    {
     "ename": "Error",
     "evalue": "Error message",
     "output_type": "error",
     "traceback": [
      "Stack trace:",
      "Error: Error message",
      "    at generateError (<anonymous>:3:11)",
      "    at <anonymous>:1:22"
     ]
    }
   ],
   "source": [
    "generateError('Error message');"
   ]
  },
  {
   "cell_type": "code",
   "execution_count": 15,
   "id": "425a5fc3-f5b8-4eba-a4fb-7e91b5cf9ed1",
   "metadata": {},
   "outputs": [],
   "source": [
    "type User = {\n",
    "    name: string;\n",
    "    age: number;\n",
    "    role?: 'admin' | 'guest';\n",
    "}"
   ]
  },
  {
   "cell_type": "code",
   "execution_count": 16,
   "id": "d7b3945f-1f97-4b4f-91e5-b00e88259e11",
   "metadata": {},
   "outputs": [],
   "source": [
    "let userExample: User = {\n",
    "    name: 'Max',\n",
    "    age: 30\n",
    "};"
   ]
  },
  {
   "cell_type": "code",
   "execution_count": 17,
   "id": "064320d7-2eb3-44c3-a7fb-8809df3fc4e0",
   "metadata": {},
   "outputs": [
    {
     "data": {
      "text/plain": [
       "{ name: \u001b[32m\"Max\"\u001b[39m, age: \u001b[33m30\u001b[39m }"
      ]
     },
     "execution_count": 17,
     "metadata": {},
     "output_type": "execute_result"
    }
   ],
   "source": [
    "userExample"
   ]
  }
 ],
 "metadata": {
  "kernelspec": {
   "display_name": "Deno",
   "language": "typescript",
   "name": "deno"
  },
  "language_info": {
   "codemirror_mode": "typescript",
   "file_extension": ".ts",
   "mimetype": "text/x.typescript",
   "name": "typescript",
   "nbconvert_exporter": "script",
   "pygments_lexer": "typescript",
   "version": "5.7.3"
  }
 },
 "nbformat": 4,
 "nbformat_minor": 5
}
