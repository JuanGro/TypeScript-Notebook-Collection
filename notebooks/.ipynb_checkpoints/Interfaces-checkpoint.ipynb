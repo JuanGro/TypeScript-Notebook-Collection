{
 "cells": [
  {
   "cell_type": "markdown",
   "id": "15d1b53f-f5c3-4805-8fe5-55d17a56b70c",
   "metadata": {},
   "source": [
    "# Interfaces"
   ]
  },
  {
   "cell_type": "code",
   "execution_count": 1,
   "id": "cdf38e17-ba32-4341-8a1c-ccd9ecce44a8",
   "metadata": {},
   "outputs": [],
   "source": [
    "interface Authenticatable {\n",
    "    email: string;\n",
    "    password: string;\n",
    "\n",
    "    login(): void;\n",
    "    logout(): void;\n",
    "}"
   ]
  },
  {
   "cell_type": "code",
   "execution_count": 4,
   "id": "bbab7e73-1ea7-4700-b6b1-5ef3547882a7",
   "metadata": {},
   "outputs": [
    {
     "data": {
      "text/plain": [
       "{\n",
       "  email: \u001b[32m\"test@example.com\"\u001b[39m,\n",
       "  password: \u001b[32m\"abc1\"\u001b[39m,\n",
       "  login: \u001b[36m[Function: login]\u001b[39m,\n",
       "  logout: \u001b[36m[Function: logout]\u001b[39m\n",
       "}"
      ]
     },
     "execution_count": 4,
     "metadata": {},
     "output_type": "execute_result"
    }
   ],
   "source": [
    "let user: Authenticatable;\n",
    "user = {\n",
    "    email: 'test@example.com',\n",
    "    password: 'abc1',\n",
    "    login() {},\n",
    "    logout() {}\n",
    "};"
   ]
  },
  {
   "cell_type": "markdown",
   "id": "7e72d1cb-6595-4dd5-9bc8-b339272c743a",
   "metadata": {},
   "source": [
    "## Interfaces vs Type\n",
    "- With interfaces you can merge multiple interfaces assignations! For example, you can extend interfaces from libraries!\n",
    "\n",
    "| Feature                    | `interface`       | `type`             |                |\n",
    "| -------------------------- | ----------------- | ------------------ | -------------- |\n",
    "| Extending                  | `extends` keyword | Intersection (`&`) |                |\n",
    "| Can extend classes         | ✅ Yes             | ❌ No               |                |\n",
    "| Can merge declarations     | ✅ Yes             | ❌ No               |                |\n",
    "| Use for primitives/unions  | ❌ No              | ✅ Yes (\\`string    | number\\`, etc) |\n",
    "| Preferable for React props | ✅ Often preferred | ✅ Also works       |                |"
   ]
  },
  {
   "cell_type": "code",
   "execution_count": 5,
   "id": "ce30ef7f-5168-4094-bf35-b584a38884be",
   "metadata": {},
   "outputs": [],
   "source": [
    "interface Authenticatable {\n",
    "    role: string;\n",
    "}"
   ]
  },
  {
   "cell_type": "code",
   "execution_count": 6,
   "id": "2edb40f0-94c1-4ef0-a276-05f6deb2ee5b",
   "metadata": {},
   "outputs": [
    {
     "data": {
      "text/plain": [
       "{\n",
       "  email: \u001b[32m\"test@example.com\"\u001b[39m,\n",
       "  password: \u001b[32m\"abc1\"\u001b[39m,\n",
       "  login: \u001b[36m[Function: login]\u001b[39m,\n",
       "  logout: \u001b[36m[Function: logout]\u001b[39m,\n",
       "  role: \u001b[32m\"admin\"\u001b[39m\n",
       "}"
      ]
     },
     "execution_count": 6,
     "metadata": {},
     "output_type": "execute_result"
    }
   ],
   "source": [
    "user = {\n",
    "    email: 'test@example.com',\n",
    "    password: 'abc1',\n",
    "    login() {},\n",
    "    logout() {},\n",
    "    role: 'admin' // here!\n",
    "};"
   ]
  },
  {
   "cell_type": "markdown",
   "id": "e6727099-1454-4689-8a4b-1951de490833",
   "metadata": {},
   "source": [
    "## Function types"
   ]
  },
  {
   "cell_type": "code",
   "execution_count": 7,
   "id": "78d34260-da32-479e-b259-85ff05992b49",
   "metadata": {},
   "outputs": [],
   "source": [
    "type SumFn = (a: number, b: number) => number; // function type"
   ]
  },
  {
   "cell_type": "code",
   "execution_count": 8,
   "id": "e2e19734-5853-42e7-a8b2-5b91e8bc1621",
   "metadata": {},
   "outputs": [
    {
     "data": {
      "text/plain": [
       "\u001b[36m[Function: sum]\u001b[39m"
      ]
     },
     "execution_count": 8,
     "metadata": {},
     "output_type": "execute_result"
    }
   ],
   "source": [
    "let sum: SumFn; // making sure sum can only store values of that function type\n",
    "sum = (a, b) => a + b; // assigning a value that adheres to that function type"
   ]
  },
  {
   "cell_type": "code",
   "execution_count": 10,
   "id": "17e8a2e8-c3fb-45cf-80d0-44de2e7b4843",
   "metadata": {},
   "outputs": [],
   "source": [
    "interface SumFn {\n",
    "  (a: number, b: number): number;\n",
    "}"
   ]
  },
  {
   "cell_type": "code",
   "execution_count": 11,
   "id": "f318be63-f7cf-4e2d-8db6-ac61e286f078",
   "metadata": {},
   "outputs": [
    {
     "data": {
      "text/plain": [
       "\u001b[36m[Function: sum2]\u001b[39m"
      ]
     },
     "execution_count": 11,
     "metadata": {},
     "output_type": "execute_result"
    }
   ],
   "source": [
    "let sum2: SumFn;\n",
    "sum2 = (a, b) => a + b;"
   ]
  },
  {
   "cell_type": "markdown",
   "id": "8864b8d6-12cf-448a-8917-939c74e8cf20",
   "metadata": {},
   "source": [
    "## Implementing interfaces"
   ]
  },
  {
   "cell_type": "code",
   "execution_count": 12,
   "id": "9dbdcfbe-1f68-46d3-ad62-019644eec056",
   "metadata": {},
   "outputs": [],
   "source": [
    "class AuthenticatableUser implements Authenticatable {\n",
    "    constructor(\n",
    "        public userName: string,\n",
    "        public email: string,\n",
    "        public password: string\n",
    "    ) {}\n",
    "    login() {}\n",
    "    logout() {}\n",
    "}"
   ]
  },
  {
   "cell_type": "markdown",
   "id": "a31ae8e7-a0bb-479e-a5e8-bffae14cc506",
   "metadata": {},
   "source": [
    "## Ensuring Base Types with Interfaces"
   ]
  },
  {
   "cell_type": "code",
   "execution_count": 15,
   "id": "c230a367-0640-4905-b0ba-cf546b9783be",
   "metadata": {},
   "outputs": [],
   "source": [
    "function authenticate(user: { login() }) {\n",
    "    user.login();\n",
    "}"
   ]
  },
  {
   "cell_type": "code",
   "execution_count": 18,
   "id": "8406dd18-6c34-4b35-9bb2-80c355cd5089",
   "metadata": {},
   "outputs": [],
   "source": [
    "function authenticate(user: Authenticatable) {\n",
    "    user.login();\n",
    "}"
   ]
  },
  {
   "cell_type": "markdown",
   "id": "0b80108b-b054-42a4-a5be-ed94db10e42d",
   "metadata": {},
   "source": [
    "## Extending interfaces"
   ]
  },
  {
   "cell_type": "code",
   "execution_count": 20,
   "id": "4aad002d-622d-4105-8f7e-72fec05627ba",
   "metadata": {},
   "outputs": [],
   "source": [
    "interface AuthenticatableAdmin extends Authenticatable {\n",
    "    role: 'admin' | 'superadmin';\n",
    "}"
   ]
  },
  {
   "cell_type": "code",
   "execution_count": 22,
   "id": "3290534e-25f2-4e2e-bb8c-a95c8a3267d1",
   "metadata": {},
   "outputs": [],
   "source": [
    "let adminUser: AuthenticatableAdmin;"
   ]
  }
 ],
 "metadata": {
  "kernelspec": {
   "display_name": "Deno",
   "language": "typescript",
   "name": "deno"
  },
  "language_info": {
   "codemirror_mode": "typescript",
   "file_extension": ".ts",
   "mimetype": "text/x.typescript",
   "name": "typescript",
   "nbconvert_exporter": "script",
   "pygments_lexer": "typescript",
   "version": "5.7.3"
  }
 },
 "nbformat": 4,
 "nbformat_minor": 5
}
