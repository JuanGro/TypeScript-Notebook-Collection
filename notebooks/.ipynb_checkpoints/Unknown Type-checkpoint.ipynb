{
 "cells": [
  {
   "cell_type": "markdown",
   "id": "7fd7d355-6d5d-4d9c-9f30-af888830e171",
   "metadata": {},
   "source": [
    "# Unknown Type"
   ]
  },
  {
   "cell_type": "code",
   "execution_count": null,
   "id": "33888f38-b340-434d-b892-536a42ff51f8",
   "metadata": {},
   "outputs": [],
   "source": [
    "function process(val: unknown) {\n",
    "    if(\n",
    "        typeof val === 'object' &&\n",
    "        !!val &&\n",
    "        'log' in val &&\n",
    "        typeof val.log === 'function'\n",
    "    ) {\n",
    "        val.log();\n",
    "    }\n",
    "}"
   ]
  }
 ],
 "metadata": {
  "kernelspec": {
   "display_name": "Deno",
   "language": "typescript",
   "name": "deno"
  },
  "language_info": {
   "codemirror_mode": "typescript",
   "file_extension": ".ts",
   "mimetype": "text/x.typescript",
   "name": "typescript",
   "nbconvert_exporter": "script",
   "pygments_lexer": "typescript",
   "version": "5.7.3"
  }
 },
 "nbformat": 4,
 "nbformat_minor": 5
}
