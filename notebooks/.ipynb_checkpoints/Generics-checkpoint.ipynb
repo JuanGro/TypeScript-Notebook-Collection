{
 "cells": [
  {
   "cell_type": "markdown",
   "id": "b1c2b498-acad-4549-b0dc-ae07f2a386b4",
   "metadata": {},
   "source": [
    "# Generics"
   ]
  },
  {
   "cell_type": "code",
   "execution_count": 1,
   "id": "a0a5b6a1-239f-4267-ad33-d9306a45e18a",
   "metadata": {},
   "outputs": [],
   "source": [
    "let names: Array<tring> = ['Max', 'Anna'];"
   ]
  },
  {
   "cell_type": "code",
   "execution_count": 7,
   "id": "7c2172c4-5ba6-4996-b7f8-9f8582bea99a",
   "metadata": {},
   "outputs": [],
   "source": [
    "type DataStore = {\n",
    "    [key: string]: string | number;\n",
    "};"
   ]
  },
  {
   "cell_type": "code",
   "execution_count": 3,
   "id": "27635bd2-e1e5-4029-96b9-ed9ac0ebdfc7",
   "metadata": {},
   "outputs": [],
   "source": [
    "let store: DataStore = {};"
   ]
  },
  {
   "cell_type": "code",
   "execution_count": 4,
   "id": "ff4ab4bf-445f-41f5-ad03-35d0e0ba676d",
   "metadata": {},
   "outputs": [
    {
     "data": {
      "text/plain": [
       "\u001b[32m\"Max\"\u001b[39m"
      ]
     },
     "execution_count": 4,
     "metadata": {},
     "output_type": "execute_result"
    }
   ],
   "source": [
    "store.name = 'Max';"
   ]
  },
  {
   "cell_type": "code",
   "execution_count": 16,
   "id": "1b63812c-3040-4d43-8956-edbb6e115677",
   "metadata": {},
   "outputs": [
    {
     "data": {
      "text/plain": [
       "\u001b[33mtrue\u001b[39m"
      ]
     },
     "execution_count": 16,
     "metadata": {},
     "output_type": "execute_result"
    }
   ],
   "source": [
    "store.isInstructor = true;  // This is not allowed! The notebook is not behaving correctly"
   ]
  },
  {
   "cell_type": "markdown",
   "id": "3c2e7f3b-0920-4326-830a-06568e5f933c",
   "metadata": {},
   "source": [
    "Example using generics"
   ]
  },
  {
   "cell_type": "code",
   "execution_count": 9,
   "id": "ef019626-19d5-442a-ae6d-3dda2dbd92c3",
   "metadata": {},
   "outputs": [],
   "source": [
    "type DataStore<T> = {\n",
    "    [key: string]: T;\n",
    "};"
   ]
  },
  {
   "cell_type": "code",
   "execution_count": 10,
   "id": "a012a4fa-7d61-4a8a-84c8-1442d30cad92",
   "metadata": {},
   "outputs": [],
   "source": [
    "let store: DataStore<string | boolean> = {};"
   ]
  },
  {
   "cell_type": "code",
   "execution_count": 11,
   "id": "88e0868a-5aa9-4f5c-8cb7-3ca5916372fc",
   "metadata": {},
   "outputs": [
    {
     "data": {
      "text/plain": [
       "\u001b[32m\"Max\"\u001b[39m"
      ]
     },
     "execution_count": 11,
     "metadata": {},
     "output_type": "execute_result"
    }
   ],
   "source": [
    "store.name = 'Max';"
   ]
  },
  {
   "cell_type": "code",
   "execution_count": 13,
   "id": "0397b8e9-b3f7-478b-a4a6-bbf19b7576b2",
   "metadata": {},
   "outputs": [
    {
     "data": {
      "text/plain": [
       "\u001b[33mtrue\u001b[39m"
      ]
     },
     "execution_count": 13,
     "metadata": {},
     "output_type": "execute_result"
    }
   ],
   "source": [
    "store.isInstructor = true;"
   ]
  },
  {
   "cell_type": "code",
   "execution_count": 14,
   "id": "8eab1c2e-db9e-403a-b003-a45e81e05ba9",
   "metadata": {},
   "outputs": [],
   "source": [
    "let nameStore: DataStore<string> = {};"
   ]
  },
  {
   "cell_type": "code",
   "execution_count": 17,
   "id": "cb4eb164-6e4f-4bcd-b0a2-9482f359709e",
   "metadata": {},
   "outputs": [
    {
     "data": {
      "text/plain": [
       "\u001b[32m\"Max\"\u001b[39m"
      ]
     },
     "execution_count": 17,
     "metadata": {},
     "output_type": "execute_result"
    }
   ],
   "source": [
    "nameStore.name = 'Max';"
   ]
  },
  {
   "cell_type": "code",
   "execution_count": 18,
   "id": "e34f3539-a422-456d-a06b-589345f29630",
   "metadata": {},
   "outputs": [],
   "source": [
    "function merge<T>(a: T, b: T) {\n",
    "    return [a, b];\n",
    "}"
   ]
  },
  {
   "cell_type": "code",
   "execution_count": 19,
   "id": "75924675-37c7-492d-a113-55e36802686d",
   "metadata": {},
   "outputs": [
    {
     "data": {
      "text/plain": [
       "[ \u001b[33m1\u001b[39m, \u001b[33m2\u001b[39m ]"
      ]
     },
     "execution_count": 19,
     "metadata": {},
     "output_type": "execute_result"
    }
   ],
   "source": [
    "const ids = merge<number>(1, 2);\n",
    "ids"
   ]
  },
  {
   "cell_type": "code",
   "execution_count": 21,
   "id": "238157ee-e7b7-46f5-a1a9-c4118965886c",
   "metadata": {},
   "outputs": [
    {
     "data": {
      "text/plain": [
       "[ \u001b[33m1\u001b[39m, \u001b[33m2\u001b[39m ]"
      ]
     },
     "execution_count": 21,
     "metadata": {},
     "output_type": "execute_result"
    }
   ],
   "source": [
    "const ids = merge(1, 2); // By inference\n",
    "ids"
   ]
  },
  {
   "cell_type": "markdown",
   "id": "ae3eefac-cd54-4617-919e-f1419f1e44b8",
   "metadata": {},
   "source": [
    "## Multiple Generics Parameters"
   ]
  },
  {
   "cell_type": "code",
   "execution_count": 22,
   "id": "185900c6-0082-4b53-b5e9-f35dcc1eea78",
   "metadata": {},
   "outputs": [],
   "source": [
    "function merge<T, U>(a: T, b: U) {\n",
    "    return [a, b];\n",
    "}"
   ]
  },
  {
   "cell_type": "code",
   "execution_count": 23,
   "id": "5e1aeee8-bdbd-4fca-90a7-284ab10c6186",
   "metadata": {},
   "outputs": [
    {
     "data": {
      "text/plain": [
       "[ \u001b[33m1\u001b[39m, \u001b[32m\"Max\"\u001b[39m ]"
      ]
     },
     "execution_count": 23,
     "metadata": {},
     "output_type": "execute_result"
    }
   ],
   "source": [
    "const ids = merge(1, 'Max');\n",
    "ids"
   ]
  },
  {
   "cell_type": "markdown",
   "id": "5d458533-fbe1-43c4-a38b-c3a7e11e42b8",
   "metadata": {},
   "source": [
    "## Generics & Constraints"
   ]
  },
  {
   "cell_type": "code",
   "execution_count": 29,
   "id": "563e7c8f-4b32-456b-b9e2-dcbefc12016f",
   "metadata": {},
   "outputs": [],
   "source": [
    "function mergeObj<T extends object>(a: T, b: T) {\n",
    "    return { ...a, ...b };\n",
    "}"
   ]
  },
  {
   "cell_type": "code",
   "execution_count": 31,
   "id": "385f8679-9402-4389-a3b2-38ef9802e200",
   "metadata": {},
   "outputs": [
    {
     "data": {
      "text/plain": [
       "{ userName: \u001b[32m\"Max\"\u001b[39m, age: \u001b[33m35\u001b[39m }"
      ]
     },
     "execution_count": 31,
     "metadata": {},
     "output_type": "execute_result"
    }
   ],
   "source": [
    "const merged = mergeObj({ userName: 'Max' }, { age: 35 });\n",
    "merged"
   ]
  },
  {
   "cell_type": "markdown",
   "id": "c4b54961-24c2-40ce-81e6-ed9a2796e914",
   "metadata": {},
   "source": [
    "## Constraints & Multiple Generic Types"
   ]
  },
  {
   "cell_type": "code",
   "execution_count": 32,
   "id": "b6ab63b3-879a-4f04-b866-893762a22c08",
   "metadata": {},
   "outputs": [],
   "source": [
    "function mergeObj<T extends object, U extends object>(a: T, b: T) {\n",
    "    return { ...a, ...b };\n",
    "}"
   ]
  },
  {
   "cell_type": "code",
   "execution_count": 33,
   "id": "f3bc3f9f-27b1-427d-9b2e-05c7b9960cc0",
   "metadata": {},
   "outputs": [
    {
     "data": {
      "text/plain": [
       "{ userName: \u001b[32m\"Max\"\u001b[39m, age: \u001b[33m35\u001b[39m }"
      ]
     },
     "execution_count": 33,
     "metadata": {},
     "output_type": "execute_result"
    }
   ],
   "source": [
    "const merged = mergeObj({ userName: 'Max' }, { age: 35 });\n",
    "merged"
   ]
  },
  {
   "cell_type": "markdown",
   "id": "ba818800-f865-43b7-bf7a-7b3c76e188bb",
   "metadata": {},
   "source": [
    "## Generic Classes & Interfaces"
   ]
  },
  {
   "cell_type": "code",
   "execution_count": 34,
   "id": "2eff0afe-e87b-4ed2-b4f3-0b7b955cf518",
   "metadata": {},
   "outputs": [],
   "source": [
    "class User<T> {\n",
    "    constructor(public id: T) {}\n",
    "}"
   ]
  },
  {
   "cell_type": "code",
   "execution_count": 35,
   "id": "ea982363-f70b-48bf-856f-635ba56b27fc",
   "metadata": {},
   "outputs": [
    {
     "data": {
      "text/plain": [
       "User { id: \u001b[32m\"i1\"\u001b[39m }"
      ]
     },
     "execution_count": 35,
     "metadata": {},
     "output_type": "execute_result"
    }
   ],
   "source": [
    "const user = new User('i1');\n",
    "user"
   ]
  },
  {
   "cell_type": "code",
   "execution_count": 36,
   "id": "0480ed30-feef-4de1-864a-d07505be7697",
   "metadata": {},
   "outputs": [
    {
     "data": {
      "text/plain": [
       "\u001b[32m\"i1\"\u001b[39m"
      ]
     },
     "execution_count": 36,
     "metadata": {},
     "output_type": "execute_result"
    }
   ],
   "source": [
    "user.id"
   ]
  }
 ],
 "metadata": {
  "kernelspec": {
   "display_name": "Deno",
   "language": "typescript",
   "name": "deno"
  },
  "language_info": {
   "codemirror_mode": "typescript",
   "file_extension": ".ts",
   "mimetype": "text/x.typescript",
   "name": "typescript",
   "nbconvert_exporter": "script",
   "pygments_lexer": "typescript",
   "version": "5.7.3"
  }
 },
 "nbformat": 4,
 "nbformat_minor": 5
}
