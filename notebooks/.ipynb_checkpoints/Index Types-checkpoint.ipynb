{
 "cells": [
  {
   "cell_type": "markdown",
   "id": "90748da8-d6f3-41ac-bb49-3e002c854d46",
   "metadata": {},
   "source": [
    "# Index Types"
   ]
  },
  {
   "cell_type": "code",
   "execution_count": 1,
   "id": "f09538ff-e432-4438-a88f-6d0302874259",
   "metadata": {},
   "outputs": [],
   "source": [
    "type DataStore = {\n",
    "    [prop: string]: number | boolean;\n",
    "};"
   ]
  },
  {
   "cell_type": "code",
   "execution_count": 2,
   "id": "16524c2d-51a7-4963-9af6-16f6be2aa294",
   "metadata": {},
   "outputs": [],
   "source": [
    "let store: DataStore = {};"
   ]
  },
  {
   "cell_type": "code",
   "execution_count": 3,
   "id": "1cb4d1cc-dbdf-4cf9-9102-4fe6298b551a",
   "metadata": {},
   "outputs": [
    {
     "data": {
      "text/plain": [
       "\u001b[33m5\u001b[39m"
      ]
     },
     "execution_count": 3,
     "metadata": {},
     "output_type": "execute_result"
    }
   ],
   "source": [
    "store.id = 5;"
   ]
  },
  {
   "cell_type": "code",
   "execution_count": 5,
   "id": "cf7fe6a0-b78e-4ce1-812f-323b5304d6d6",
   "metadata": {},
   "outputs": [
    {
     "data": {
      "text/plain": [
       "\u001b[33mfalse\u001b[39m"
      ]
     },
     "execution_count": 5,
     "metadata": {},
     "output_type": "execute_result"
    }
   ],
   "source": [
    "store.isOpen = false;"
   ]
  },
  {
   "cell_type": "code",
   "execution_count": 7,
   "id": "d385c2b7-0ab6-44ed-aff6-fd345392c222",
   "metadata": {},
   "outputs": [
    {
     "data": {
      "text/plain": [
       "\u001b[32m\"Max\"\u001b[39m"
      ]
     },
     "execution_count": 7,
     "metadata": {},
     "output_type": "execute_result"
    }
   ],
   "source": [
    "store.name = 'Max' // Not allowed! Notebook is not behaving correctly"
   ]
  }
 ],
 "metadata": {
  "kernelspec": {
   "display_name": "Deno",
   "language": "typescript",
   "name": "deno"
  },
  "language_info": {
   "codemirror_mode": "typescript",
   "file_extension": ".ts",
   "mimetype": "text/x.typescript",
   "name": "typescript",
   "nbconvert_exporter": "script",
   "pygments_lexer": "typescript",
   "version": "5.7.3"
  }
 },
 "nbformat": 4,
 "nbformat_minor": 5
}
