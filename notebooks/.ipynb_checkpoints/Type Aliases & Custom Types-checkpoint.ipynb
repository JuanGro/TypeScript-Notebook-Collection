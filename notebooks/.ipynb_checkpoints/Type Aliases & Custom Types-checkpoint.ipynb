{
 "cells": [
  {
   "cell_type": "markdown",
   "id": "90107f2d-c8c9-47a2-8ca3-17c0a3460754",
   "metadata": {},
   "source": [
    "# Type Aliases & Custom Types"
   ]
  },
  {
   "cell_type": "code",
   "execution_count": 2,
   "id": "f526592a-3469-49ab-8e4b-8c81981ce54e",
   "metadata": {},
   "outputs": [],
   "source": [
    "type Role = 'admin' | 'editor' | 'guest';"
   ]
  },
  {
   "cell_type": "code",
   "execution_count": 3,
   "id": "04ee9184-fc62-4226-887d-2140403e6fc9",
   "metadata": {},
   "outputs": [],
   "source": [
    "type User = {\n",
    "    name: string;\n",
    "    age: number;\n",
    "    role: Role;\n",
    "    permissions: string[];\n",
    "};"
   ]
  },
  {
   "cell_type": "code",
   "execution_count": 4,
   "id": "52e02a5e-a721-4802-b106-edc93d373b6a",
   "metadata": {},
   "outputs": [],
   "source": [
    "function access(role: Role) {\n",
    "    // ...\n",
    "}"
   ]
  }
 ],
 "metadata": {
  "kernelspec": {
   "display_name": "Deno",
   "language": "typescript",
   "name": "deno"
  },
  "language_info": {
   "codemirror_mode": "typescript",
   "file_extension": ".ts",
   "mimetype": "text/x.typescript",
   "name": "typescript",
   "nbconvert_exporter": "script",
   "pygments_lexer": "typescript",
   "version": "5.7.3"
  }
 },
 "nbformat": 4,
 "nbformat_minor": 5
}
