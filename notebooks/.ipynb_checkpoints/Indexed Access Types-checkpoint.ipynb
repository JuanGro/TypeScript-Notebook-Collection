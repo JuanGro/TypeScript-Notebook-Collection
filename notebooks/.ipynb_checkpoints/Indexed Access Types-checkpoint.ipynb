{
 "cells": [
  {
   "cell_type": "markdown",
   "id": "1e5f2990-3a76-4018-b20c-12fe02a886ea",
   "metadata": {},
   "source": [
    "# Indexed Access Types"
   ]
  },
  {
   "cell_type": "code",
   "execution_count": 1,
   "id": "33dd3b88-a2c4-4095-b19c-526ec6933bd9",
   "metadata": {},
   "outputs": [],
   "source": [
    "type AppUser = {\n",
    "    name: string;\n",
    "    age: number;\n",
    "    permissions: {\n",
    "        id: string;\n",
    "        title: string;\n",
    "        description: string;\n",
    "    }[];\n",
    "};"
   ]
  },
  {
   "cell_type": "code",
   "execution_count": 3,
   "id": "f6d7a357-0c37-46b9-99ba-ede02a326f60",
   "metadata": {},
   "outputs": [],
   "source": [
    "type Perms = AppUser['permissions'];"
   ]
  },
  {
   "cell_type": "code",
   "execution_count": 4,
   "id": "bbd652f3-4e88-4874-8445-34c73a306945",
   "metadata": {},
   "outputs": [],
   "source": [
    "type Perm = Perms[number];"
   ]
  },
  {
   "cell_type": "code",
   "execution_count": 5,
   "id": "b8f7ec4f-37f8-43ce-9d74-f8287e4936d4",
   "metadata": {},
   "outputs": [],
   "source": [
    "type Names = string[];"
   ]
  },
  {
   "cell_type": "code",
   "execution_count": 6,
   "id": "7d55dc70-9273-4c0b-938d-29f3edd4f5bb",
   "metadata": {},
   "outputs": [],
   "source": [
    "type Name = Names[number];"
   ]
  }
 ],
 "metadata": {
  "kernelspec": {
   "display_name": "Deno",
   "language": "typescript",
   "name": "deno"
  },
  "language_info": {
   "codemirror_mode": "typescript",
   "file_extension": ".ts",
   "mimetype": "text/x.typescript",
   "name": "typescript",
   "nbconvert_exporter": "script",
   "pygments_lexer": "typescript",
   "version": "5.7.3"
  }
 },
 "nbformat": 4,
 "nbformat_minor": 5
}
