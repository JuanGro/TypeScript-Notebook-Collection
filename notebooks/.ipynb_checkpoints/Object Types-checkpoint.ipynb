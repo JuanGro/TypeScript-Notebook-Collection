{
 "cells": [
  {
   "cell_type": "markdown",
   "id": "d55fba2c-842c-467d-802a-5d7e3b1eb878",
   "metadata": {},
   "source": [
    "# Object Types"
   ]
  },
  {
   "cell_type": "code",
   "execution_count": 1,
   "id": "f66ca7bc-7ec1-4c6e-90d9-92618e1eaaa7",
   "metadata": {},
   "outputs": [],
   "source": [
    "let user: {\n",
    "    name: string;\n",
    "    age: number | string;\n",
    "    hobbies: string[];\n",
    "    role: {\n",
    "        description: string;\n",
    "        id: number;\n",
    "    }\n",
    "} = {\n",
    "    name: 'Max',\n",
    "    age: 38\n",
    "};"
   ]
  },
  {
   "cell_type": "code",
   "execution_count": 2,
   "id": "973be6ba-fedc-4d48-8e9c-44d13962043d",
   "metadata": {},
   "outputs": [],
   "source": [
    "let val: {} = ''; // The {} says that is allowable any type except null or undefined."
   ]
  },
  {
   "cell_type": "code",
   "execution_count": 3,
   "id": "806b1726-f132-43f2-b4cb-856df6e235c7",
   "metadata": {},
   "outputs": [
    {
     "data": {
      "text/plain": [
       "{ entry1: \u001b[33m1\u001b[39m, entry2: \u001b[32m\"some string\"\u001b[39m }"
      ]
     },
     "execution_count": 3,
     "metadata": {},
     "output_type": "execute_result"
    }
   ],
   "source": [
    "let data: Record<string, number | string>;\n",
    "data = {\n",
    "    entry1: 1,\n",
    "    entry2: 'some string'\n",
    "};"
   ]
  }
 ],
 "metadata": {
  "kernelspec": {
   "display_name": "Deno",
   "language": "typescript",
   "name": "deno"
  },
  "language_info": {
   "codemirror_mode": "typescript",
   "file_extension": ".ts",
   "mimetype": "text/x.typescript",
   "name": "typescript",
   "nbconvert_exporter": "script",
   "pygments_lexer": "typescript",
   "version": "5.7.3"
  }
 },
 "nbformat": 4,
 "nbformat_minor": 5
}
