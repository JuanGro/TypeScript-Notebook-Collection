{
 "cells": [
  {
   "cell_type": "code",
   "execution_count": 1,
   "id": "5254c74d-af2b-4f37-ad77-2f08b1c40b90",
   "metadata": {},
   "outputs": [],
   "source": [
    "let userRole: 'admin' | 'editor' | 'guest' = 'admin';"
   ]
  },
  {
   "cell_type": "code",
   "execution_count": 3,
   "id": "c233a9ac-3916-41f0-ab3b-cb4b1495a018",
   "metadata": {},
   "outputs": [
    {
     "data": {
      "text/plain": [
       "\u001b[32m\"guest\"\u001b[39m"
      ]
     },
     "execution_count": 3,
     "metadata": {},
     "output_type": "execute_result"
    }
   ],
   "source": [
    "userRole = 'guest';"
   ]
  },
  {
   "cell_type": "code",
   "execution_count": 4,
   "id": "f17ee447-add7-4071-996e-06446241ca9b",
   "metadata": {},
   "outputs": [],
   "source": [
    "let possibleResults: 1 | -1 = 1;"
   ]
  },
  {
   "cell_type": "code",
   "execution_count": 5,
   "id": "06529013-096a-4334-8cc3-1ff2c2f02187",
   "metadata": {},
   "outputs": [
    {
     "data": {
      "text/plain": [
       "\u001b[33m1\u001b[39m"
      ]
     },
     "execution_count": 5,
     "metadata": {},
     "output_type": "execute_result"
    }
   ],
   "source": [
    "possibleResults"
   ]
  }
 ],
 "metadata": {
  "kernelspec": {
   "display_name": "Deno",
   "language": "typescript",
   "name": "deno"
  },
  "language_info": {
   "codemirror_mode": "typescript",
   "file_extension": ".ts",
   "mimetype": "text/x.typescript",
   "name": "typescript",
   "nbconvert_exporter": "script",
   "pygments_lexer": "typescript",
   "version": "5.7.3"
  }
 },
 "nbformat": 4,
 "nbformat_minor": 5
}
