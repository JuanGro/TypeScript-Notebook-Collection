{
 "cells": [
  {
   "cell_type": "markdown",
   "id": "35d42844-f3f5-4aa5-9cf5-a8908e6d77b5",
   "metadata": {},
   "source": [
    "# Design Pattern - Adapter"
   ]
  },
  {
   "cell_type": "markdown",
   "id": "6c5d38dc-f53c-4d7a-800d-50a69f0efe01",
   "metadata": {},
   "source": [
    "## ¿Qué es el patrón Adapter?\n",
    "El patrón Adapter es un patrón de diseño estructural que permite que dos interfaces incompatibles trabajen juntas.\n",
    "> Funciona como un puente entre un sistema que espera una cierta interfaz (Target) y otro que ofrece una interfaz diferente (Adaptee)."
   ]
  },
  {
   "cell_type": "markdown",
   "id": "118c5d7c-7169-4dc7-bacd-e2654f9036fb",
   "metadata": {},
   "source": [
    "## ¿Para qué se usa?\n",
    "Para adaptar una clase existente (que no se puede modificar) a lo que el cliente espera.\n",
    "\n",
    "Es ideal cuando:\n",
    "- El código que quieres usar ya existe pero tiene una interfaz diferente.\n",
    "- No puedes o no quieres modificar ese código existente.\n",
    "- Necesitas que componentes incompatibles trabajen juntos."
   ]
  },
  {
   "cell_type": "markdown",
   "id": "8058eb29-1c08-4220-9062-633e075f8d8d",
   "metadata": {},
   "source": [
    "## Estructura\n",
    "### Target (lo que el cliente espera)\n",
    "- +request(): string\n",
    "\n",
    "### Adaptee (clase existente con otra interfaz)\n",
    "- +specificRequest(): string\n",
    "\n",
    "### Adapter (el adaptador)\n",
    "- +request(): string → Internamente llama a specificRequest()\n",
    "\n",
    "### Cliente\n",
    "- Usa el método request() del Target"
   ]
  },
  {
   "cell_type": "markdown",
   "id": "c6cc901f-3e99-454e-bdf2-9bab5e3eeff9",
   "metadata": {},
   "source": [
    "## Analogía real: Adaptador de corriente\n",
    "\n",
    "Tu laptop tiene un cable USB-C, pero estás en un país donde solo hay enchufes redondos.\n",
    "\n",
    "➡️ Usas un adaptador físico que convierte un tipo de enchufe en otro.\n",
    "Eso es exactamente lo que hace este patrón, pero con interfaces de software."
   ]
  },
  {
   "cell_type": "markdown",
   "id": "aa0a237e-ec6d-4599-be68-068362987cb6",
   "metadata": {},
   "source": [
    "## Ejemplo"
   ]
  },
  {
   "cell_type": "code",
   "execution_count": 4,
   "id": "2b8c39da-1027-493f-a8b0-b6f84ca06d95",
   "metadata": {},
   "outputs": [
    {
     "name": "stdout",
     "output_type": "stream",
     "text": [
      "Adaptador: (traducido) Special behavior habilidado de Adaptee.\n"
     ]
    }
   ],
   "source": [
    "export interface Target {\n",
    "  request(): string;\n",
    "}\n",
    "\n",
    "export class Adaptee {\n",
    "  specificRequest(): string {\n",
    "    return \".eetpadA ed odadilibah roivaheb laicepS\"; // texto invertido\n",
    "  }\n",
    "}\n",
    "\n",
    "export class Adapter implements Target {\n",
    "  constructor(private adaptee: Adaptee) {}\n",
    "\n",
    "  request(): string {\n",
    "    const resultado = this.adaptee.specificRequest().split('').reverse().join('');\n",
    "    return `Adaptador: (traducido) ${resultado}`;\n",
    "  }\n",
    "}\n",
    "\n",
    "const adaptee = new Adaptee();\n",
    "const adapter = new Adapter(adaptee);\n",
    "\n",
    "console.log(adapter.request());\n",
    "// Output: Adaptador: (traducido) Special behavior of the Adaptee."
   ]
  },
  {
   "cell_type": "markdown",
   "id": "736301e8-b6aa-488d-b1a7-c434399b2fb4",
   "metadata": {},
   "source": [
    "## Ventajas del patrón Adapter\n",
    "| # | Ventaja                             | Descripción                                                         |\n",
    "| - | ----------------------------------- | ------------------------------------------------------------------- |\n",
    "| 1 | 🔁 Reutiliza código existente       | No necesitas reescribir o duplicar el código ya hecho.              |\n",
    "| 2 | 🧩 Permite compatibilidad           | Hace que dos sistemas con interfaces distintas trabajen juntos.     |\n",
    "| 3 | ✅ Principio Abierto/Cerrado (SOLID) | Puedes extender el comportamiento sin modificar el código original. |"
   ]
  },
  {
   "cell_type": "markdown",
   "id": "adf8e76f-155b-41fb-8722-df11a28f4f21",
   "metadata": {},
   "source": [
    "## Desventajas\n",
    "| # | Desventaja                    | Descripción                                                              |\n",
    "| - | ----------------------------- | ------------------------------------------------------------------------ |\n",
    "| 1 | 🧱 Añade una capa extra       | Puede aumentar la complejidad si se usa en exceso.                       |\n",
    "| 2 | ❌ Puede ocultar malos diseños | Si todo necesita adaptadores, tal vez el diseño inicial no era adecuado. |"
   ]
  },
  {
   "cell_type": "markdown",
   "id": "3826ca17-379c-414e-9f1f-de7f7b32581d",
   "metadata": {},
   "source": [
    "## ¿Cuándo usar el patrón Adapter?\n",
    "Úsalo cuando:\n",
    "- Quieres integrar código legado (viejo) en un sistema nuevo.\n",
    "- No puedes modificar una clase existente, pero necesitas usarla.\n",
    "- Necesitas que objetos con interfaces distintas se comuniquen."
   ]
  },
  {
   "cell_type": "markdown",
   "id": "8b1d116e-2d0d-4a75-96bb-e77030495306",
   "metadata": {},
   "source": [
    "## Ejemplos del mundo real\n",
    "| Contexto                 | Ejemplo                                                              |\n",
    "| ------------------------ | -------------------------------------------------------------------- |\n",
    "| 🔌 Corriente eléctrica   | Adaptador de enchufe entre diferentes países                         |\n",
    "| 📷 Visualizador de fotos | Soporte de múltiples formatos de imagen (JPG, PNG, BMP)              |\n",
    "| 💳 Pasarelas de pago     | Adaptar diferentes APIs de pagos a una interfaz común (`pagar()`)    |\n",
    "| 🌐 API externa           | Adaptar la respuesta de una API externa a tu modelo interno de datos |"
   ]
  }
 ],
 "metadata": {
  "kernelspec": {
   "display_name": "Deno",
   "language": "typescript",
   "name": "deno"
  },
  "language_info": {
   "codemirror_mode": "typescript",
   "file_extension": ".ts",
   "mimetype": "text/x.typescript",
   "name": "typescript",
   "nbconvert_exporter": "script",
   "pygments_lexer": "typescript",
   "version": "5.7.3"
  }
 },
 "nbformat": 4,
 "nbformat_minor": 5
}
