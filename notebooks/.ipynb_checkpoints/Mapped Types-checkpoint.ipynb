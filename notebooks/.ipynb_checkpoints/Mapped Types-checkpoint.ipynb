{
 "cells": [
  {
   "cell_type": "markdown",
   "id": "b011cbd1-5b78-4a60-bf5e-e9935c627c30",
   "metadata": {},
   "source": [
    "# Mapped Types"
   ]
  },
  {
   "cell_type": "code",
   "execution_count": 4,
   "id": "56a59acf-9195-46c3-b8ab-31eb5bd2589a",
   "metadata": {},
   "outputs": [],
   "source": [
    "type Operations = {\n",
    "    add: (a: number, b: number) => number;\n",
    "    subtract: (a: number, b: number) => number;\n",
    "};"
   ]
  },
  {
   "cell_type": "code",
   "execution_count": 5,
   "id": "1a279351-27e6-4660-81e0-803d5231b74b",
   "metadata": {},
   "outputs": [],
   "source": [
    "type Results<T> = {\n",
    "    [Key in keyof T]: number\n",
    "};"
   ]
  },
  {
   "cell_type": "code",
   "execution_count": 6,
   "id": "9e4e7321-5998-43da-b9e8-3b7b00d4bdc6",
   "metadata": {},
   "outputs": [],
   "source": [
    "let mathOperations: Operations = {\n",
    "    add(a: number, b: number) {\n",
    "        return a + b;\n",
    "    },\n",
    "    subtract(a: number, b: number) {\n",
    "        return a - b;\n",
    "    }\n",
    "}"
   ]
  },
  {
   "cell_type": "code",
   "execution_count": 9,
   "id": "55ad9be5-21f6-486a-97dc-04ca3da0f2b8",
   "metadata": {},
   "outputs": [],
   "source": [
    "let mathResults: Results<Operations> = {\n",
    "    add: mathOperations.add(1, 2),\n",
    "    subtract: mathOperations.subtract(5, 2)\n",
    "};"
   ]
  },
  {
   "cell_type": "markdown",
   "id": "5b84c664-59d2-4e30-9a7d-633e9e230c5a",
   "metadata": {},
   "source": [
    "## Readonly Types & Optional Mapping"
   ]
  },
  {
   "cell_type": "code",
   "execution_count": 16,
   "id": "5c26aac8-ec55-447f-ac90-3565d38d03d9",
   "metadata": {},
   "outputs": [],
   "source": [
    "type Operations = {\n",
    "    add?: (a: number, b: number) => number;\n",
    "    subtract?: (a: number, b: number) => number;\n",
    "};"
   ]
  },
  {
   "cell_type": "code",
   "execution_count": 19,
   "id": "17c32b72-9613-4adc-b76f-a77c030b29c9",
   "metadata": {},
   "outputs": [],
   "source": [
    "type Results<T> = {\n",
    "    readonly [Key in keyof T]?: number\n",
    "};"
   ]
  },
  {
   "cell_type": "code",
   "execution_count": 21,
   "id": "c10c7fe5-e5b4-4e6e-b79e-c2d9b9ca5bf7",
   "metadata": {},
   "outputs": [],
   "source": [
    "let mathResults: Results<Operations> = {\n",
    "    add: mathOperations.add(1, 2),\n",
    "    subtract: mathOperations.subtract(5, 2)\n",
    "};"
   ]
  },
  {
   "cell_type": "code",
   "execution_count": 23,
   "id": "66efeff0-bd42-44fc-b005-dbf87a4e0840",
   "metadata": {},
   "outputs": [
    {
     "data": {
      "text/plain": [
       "\u001b[33m10\u001b[39m"
      ]
     },
     "execution_count": 23,
     "metadata": {},
     "output_type": "execute_result"
    }
   ],
   "source": [
    "mathResults.add = 10 // Error because now is readonly! notebook not working correctly"
   ]
  },
  {
   "cell_type": "markdown",
   "id": "c28565f3-2c77-48a9-89cf-779498a3487d",
   "metadata": {},
   "source": [
    "If I write `-readonly [Key in keyof T]?: number` it will remove the `readonly` property. If I write `-?`, it will remove the optional condition."
   ]
  }
 ],
 "metadata": {
  "kernelspec": {
   "display_name": "Deno",
   "language": "typescript",
   "name": "deno"
  },
  "language_info": {
   "codemirror_mode": "typescript",
   "file_extension": ".ts",
   "mimetype": "text/x.typescript",
   "name": "typescript",
   "nbconvert_exporter": "script",
   "pygments_lexer": "typescript",
   "version": "5.7.3"
  }
 },
 "nbformat": 4,
 "nbformat_minor": 5
}
