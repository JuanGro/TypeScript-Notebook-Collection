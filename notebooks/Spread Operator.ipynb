{
 "cells": [
  {
   "cell_type": "markdown",
   "id": "3929bb0c-0277-4eb6-a8ae-03001cb45c88",
   "metadata": {},
   "source": [
    "# Spread Operator"
   ]
  },
  {
   "cell_type": "code",
   "execution_count": 1,
   "id": "c0b5d085-b4be-4456-b87e-f4ad9c533456",
   "metadata": {},
   "outputs": [
    {
     "data": {
      "text/plain": [
       "[ \u001b[32m\"Sports\"\u001b[39m, \u001b[32m\"Cooking\"\u001b[39m ]"
      ]
     },
     "execution_count": 1,
     "metadata": {},
     "output_type": "execute_result"
    }
   ],
   "source": [
    "const hobbies = ['Sports', 'Cooking'];\n",
    "hobbies"
   ]
  },
  {
   "cell_type": "code",
   "execution_count": 2,
   "id": "96a2f012-b8b8-472a-bc65-ef4f338b1db5",
   "metadata": {},
   "outputs": [
    {
     "data": {
      "text/plain": [
       "[ \u001b[32m\"Hiking\"\u001b[39m ]"
      ]
     },
     "execution_count": 2,
     "metadata": {},
     "output_type": "execute_result"
    }
   ],
   "source": [
    "const activeHobbies = ['Hiking'];\n",
    "activeHobbies"
   ]
  },
  {
   "cell_type": "code",
   "execution_count": 3,
   "id": "d70c9197-5b24-42c7-8764-d67cfe27cdc1",
   "metadata": {},
   "outputs": [
    {
     "data": {
      "text/plain": [
       "\u001b[33m3\u001b[39m"
      ]
     },
     "execution_count": 3,
     "metadata": {},
     "output_type": "execute_result"
    }
   ],
   "source": [
    "activeHobbies.push(...hobbies);"
   ]
  },
  {
   "cell_type": "code",
   "execution_count": 4,
   "id": "b376f278-bcba-458f-b4fd-8d3b90adf546",
   "metadata": {},
   "outputs": [
    {
     "data": {
      "text/plain": [
       "[ \u001b[32m\"Hiking\"\u001b[39m, \u001b[32m\"Sports\"\u001b[39m, \u001b[32m\"Cooking\"\u001b[39m ]"
      ]
     },
     "execution_count": 4,
     "metadata": {},
     "output_type": "execute_result"
    }
   ],
   "source": [
    "activeHobbies"
   ]
  },
  {
   "cell_type": "code",
   "execution_count": 5,
   "id": "17b865fe-8eab-4695-bf02-b86ec09f7279",
   "metadata": {},
   "outputs": [
    {
     "data": {
      "text/plain": [
       "{ name: \u001b[32m\"Max\"\u001b[39m, age: \u001b[33m30\u001b[39m }"
      ]
     },
     "execution_count": 5,
     "metadata": {},
     "output_type": "execute_result"
    }
   ],
   "source": [
    "const person = {\n",
    "    name: 'Max',\n",
    "    age: 30\n",
    "};\n",
    "person"
   ]
  },
  {
   "cell_type": "code",
   "execution_count": 6,
   "id": "5e75bc23-f19a-4704-b1e0-b3c4c4488ed4",
   "metadata": {},
   "outputs": [
    {
     "data": {
      "text/plain": [
       "{ name: \u001b[32m\"Max\"\u001b[39m, age: \u001b[33m30\u001b[39m }"
      ]
     },
     "execution_count": 6,
     "metadata": {},
     "output_type": "execute_result"
    }
   ],
   "source": [
    "const copiedPerson = { ...person };\n",
    "copiedPerson"
   ]
  }
 ],
 "metadata": {
  "kernelspec": {
   "display_name": "Deno",
   "language": "typescript",
   "name": "deno"
  },
  "language_info": {
   "codemirror_mode": "typescript",
   "file_extension": ".ts",
   "mimetype": "text/x.typescript",
   "name": "typescript",
   "nbconvert_exporter": "script",
   "pygments_lexer": "typescript",
   "version": "5.7.3"
  }
 },
 "nbformat": 4,
 "nbformat_minor": 5
}
