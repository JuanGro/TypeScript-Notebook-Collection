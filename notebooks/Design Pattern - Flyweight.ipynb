{
 "cells": [
  {
   "cell_type": "markdown",
   "id": "6eaf9491-cfb4-414f-9437-bcb015bf5209",
   "metadata": {},
   "source": [
    "# Design Pattern - Flyweight"
   ]
  },
  {
   "cell_type": "markdown",
   "id": "7d69858a-1da7-432d-b4a1-643879c2ccb1",
   "metadata": {},
   "source": [
    "El patrón Flyweight consiste en compartir objetos comunes entre muchas instancias, evitando duplicar información repetida, para reducir el consumo de memoria.\n",
    "\n",
    "En lugar de crear miles de objetos con datos duplicados, se separan:\n",
    "\n",
    "Estado intrínseco → información compartida entre múltiples objetos, almacenada en un único lugar.\n",
    "\n",
    "Estado extrínseco → información única por instancia, que se pasa como parámetro cuando se necesita."
   ]
  },
  {
   "cell_type": "markdown",
   "id": "54c3c534-80a4-4576-9bda-bea0bf1839b3",
   "metadata": {},
   "source": [
    "## ¿Para qué se usa?\n",
    "\n",
    "Se utiliza principalmente cuando:\n",
    "- ⚡ Se necesita crear una gran cantidad de objetos.\n",
    "- 🧱 Muchos objetos comparten información común.\n",
    "- 🧠 Se quiere reducir el uso de memoria.\n",
    "- 🖼️ Ejemplos típicos:\n",
    "    - Motores de videojuegos (p. ej., árboles, balas, partículas).\n",
    "    - Editores de texto (comparten formas de letras, solo varía posición y formato).\n",
    "    - Renderizado de gráficos repetitivos."
   ]
  },
  {
   "cell_type": "markdown",
   "id": "8426e8ea-11d7-4c94-9806-553702de6631",
   "metadata": {},
   "source": [
    "## Ejemplo conceptual:\n",
    "\n",
    "Imagina que tienes que dibujar 100.000 árboles en un videojuego.\n",
    "Cada árbol tiene:\n",
    "- Textura de hojas 🌿 (igual para todos)\n",
    "- Forma del tronco 🌳 (igual para todos)\n",
    "- Posición y tamaño 📍 (únicos por árbol)\n",
    "\n",
    "Si guardas la textura y forma en cada árbol → ¡duplicas 100.000 veces la misma información!\n",
    "\n",
    "👉 Con Flyweight, creas 1 objeto compartido para la textura y forma, y cada árbol solo almacena su posición y tamaño."
   ]
  },
  {
   "cell_type": "markdown",
   "id": "f4f0d459-e352-4af0-9c74-00cfa21c02c8",
   "metadata": {},
   "source": [
    "## Ejemplo real en TypeScript\n",
    "\n",
    "Supongamos que queremos dibujar muchas figuras en un lienzo (por ejemplo, círculos).\n",
    "Cada círculo tiene:\n",
    "- Color 🎨 (puede repetirse entre muchos) → intrínseco\n",
    "- Posición y radio 📏 → extrínseco"
   ]
  },
  {
   "cell_type": "markdown",
   "id": "e740b103-f489-4011-8470-a43755dfa69e",
   "metadata": {},
   "source": [
    "### 🎨 Clase Flyweight (objeto compartido)"
   ]
  },
  {
   "cell_type": "code",
   "execution_count": 1,
   "id": "318ad0f3-6f6d-481a-8045-8737286bad72",
   "metadata": {},
   "outputs": [],
   "source": [
    "// --- Flyweight ---\n",
    "class CircleFlyweight {\n",
    "  constructor(public color: string) {}\n",
    "\n",
    "  draw(x: number, y: number, radius: number) {\n",
    "    console.log(\n",
    "      `Dibujando círculo ${this.color} en (${x},${y}) con radio ${radius}`\n",
    "    );\n",
    "  }\n",
    "}"
   ]
  },
  {
   "cell_type": "markdown",
   "id": "cf17b3a3-cd10-42d6-bd7c-dea818146532",
   "metadata": {},
   "source": [
    "### 🏭 Flyweight Factor\n",
    "Se encarga de crear y reutilizar flyweights según el color:"
   ]
  },
  {
   "cell_type": "code",
   "execution_count": 2,
   "id": "70411e83-0bc2-4a37-8425-3388257707cd",
   "metadata": {},
   "outputs": [],
   "source": [
    "// --- Flyweight Factory ---\n",
    "class CircleFlyweightFactory {\n",
    "  private flyweights: Map<string, CircleFlyweight> = new Map();\n",
    "\n",
    "  getFlyweight(color: string): CircleFlyweight {\n",
    "    if (!this.flyweights.has(color)) {\n",
    "      console.log(`Creando nuevo Flyweight para color: ${color}`);\n",
    "      this.flyweights.set(color, new CircleFlyweight(color));\n",
    "    }\n",
    "    return this.flyweights.get(color)!;\n",
    "  }\n",
    "\n",
    "  getTotalFlyweights(): number {\n",
    "    return this.flyweights.size;\n",
    "  }\n",
    "}"
   ]
  },
  {
   "cell_type": "markdown",
   "id": "52ef8b84-82ce-4c90-88b8-f4564b8de908",
   "metadata": {},
   "source": [
    "### 🌐 Uso real: crear miles de círculos"
   ]
  },
  {
   "cell_type": "code",
   "execution_count": 4,
   "id": "7dcd3009-a853-4ffe-ae23-5de56405ffd3",
   "metadata": {},
   "outputs": [
    {
     "name": "stdout",
     "output_type": "stream",
     "text": [
      "Creando nuevo Flyweight para color: red\n",
      "Dibujando círculo red en (439.2067366170518,319.66922717490695) con radio 9.547937172927035\n",
      "Creando nuevo Flyweight para color: green\n",
      "Dibujando círculo green en (186.69405773177715,423.7011044936503) con radio 9.392812210389575\n",
      "Creando nuevo Flyweight para color: blue\n",
      "Dibujando círculo blue en (477.0795919106976,145.65728945732175) con radio 6.462814340534166\n",
      "Dibujando círculo red en (150.1847587097383,472.5562092838821) con radio 10.182439357670013\n",
      "Dibujando círculo blue en (446.18055623935834,306.03063023079) con radio 6.68132105746311\n",
      "Dibujando círculo green en (383.60055998571744,230.8786868454254) con radio 5.266263133422877\n",
      "Dibujando círculo red en (241.19031699247356,237.40321493950395) con radio 13.989441268214811\n",
      "Dibujando círculo green en (452.0725293219629,199.86995472790665) con radio 8.673162307449688\n",
      "Dibujando círculo blue en (237.0541843138333,310.9334540549681) con radio 7.765217575503387\n",
      "Dibujando círculo red en (12.830607456057574,278.98191254376064) con radio 10.524486327377513\n",
      "Flyweights creados: 3\n"
     ]
    }
   ],
   "source": [
    "// --- Cliente ---\n",
    "const factory = new CircleFlyweightFactory();\n",
    "\n",
    "function drawCircle(x: number, y: number, radius: number, color: string) {\n",
    "  const flyweight = factory.getFlyweight(color);\n",
    "  // x, y, radius = estado extrínseco\n",
    "  flyweight.draw(x, y, radius);\n",
    "}\n",
    "\n",
    "// Simulamos creación de muchos círculos\n",
    "const colors = [\"red\", \"green\", \"blue\", \"red\", \"blue\", \"green\"];\n",
    "\n",
    "for (let i = 0; i < 10; i++) {\n",
    "  const color = colors[i % colors.length];\n",
    "  const x = Math.random() * 500;\n",
    "  const y = Math.random() * 500;\n",
    "  const r = Math.random() * 10 + 5;\n",
    "\n",
    "  drawCircle(x, y, r, color);\n",
    "}\n",
    "\n",
    "console.log(`Flyweights creados: ${factory.getTotalFlyweights()}`);"
   ]
  },
  {
   "cell_type": "markdown",
   "id": "ccd30939-7011-421c-b5d4-5a2061352dfa",
   "metadata": {},
   "source": [
    "👉 Aunque dibujamos 100.000 círculos, solo se crearon 3 objetos compartidos (uno por color).\n",
    "Esto ahorra muchísima memoria."
   ]
  },
  {
   "cell_type": "markdown",
   "id": "bb5dc783-a82e-4291-920e-8d17a5996bad",
   "metadata": {},
   "source": [
    "## 📝 Ventajas del patrón Flyweight\n",
    "| Ventaja                  | Descripción                                    |\n",
    "| ------------------------ | ---------------------------------------------- |\n",
    "| 💾 **Ahorro de memoria** | Se reduce la duplicación de datos comunes      |\n",
    "| 🧠 **Separación clara**  | Distingue entre datos compartidos y únicos     |\n",
    "| ⚡ **Escalabilidad**      | Ideal para manejar miles o millones de objetos |"
   ]
  },
  {
   "cell_type": "markdown",
   "id": "8d0cab37-1d6d-4f80-97b1-4ebde584c934",
   "metadata": {},
   "source": [
    "## ⚠️ Cuándo NO usarlo\n",
    "- ❌ Si no hay datos repetidos → no aporta beneficios.\n",
    "- ❌ Si la lógica de separar estado intrínseco/extrínseco complica demasiado el diseño.\n",
    "- ❌ Si el acceso compartido genera problemas de concurrencia (en sistemas multihilo sin cuidado)."
   ]
  },
  {
   "cell_type": "markdown",
   "id": "772235d9-8121-49e4-bbe3-6f6d87b75b81",
   "metadata": {},
   "source": [
    "## 🟡 Resumen rápido\n",
    "| Característica     | Detalle                                                        |\n",
    "| ------------------ | -------------------------------------------------------------- |\n",
    "| **Tipo de patrón** | Estructural                                                    |\n",
    "| **Propósito**      | Reutilizar objetos compartidos para ahorrar memoria            |\n",
    "| **Ventaja clave**  | Ideal para manejar gran cantidad de objetos similares          |\n",
    "| **Ejemplo típico** | Círculos, árboles, caracteres en texto, sprites en videojuegos |"
   ]
  }
 ],
 "metadata": {
  "kernelspec": {
   "display_name": "Deno",
   "language": "typescript",
   "name": "deno"
  },
  "language_info": {
   "codemirror_mode": "typescript",
   "file_extension": ".ts",
   "mimetype": "text/x.typescript",
   "name": "typescript",
   "nbconvert_exporter": "script",
   "pygments_lexer": "typescript",
   "version": "5.7.3"
  }
 },
 "nbformat": 4,
 "nbformat_minor": 5
}
