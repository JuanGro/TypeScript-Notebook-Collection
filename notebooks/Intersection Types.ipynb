{
 "cells": [
  {
   "cell_type": "markdown",
   "id": "17202c84-fbb4-4849-93e2-e06c84cb0131",
   "metadata": {},
   "source": [
    "# Intersection Types"
   ]
  },
  {
   "cell_type": "code",
   "execution_count": 1,
   "id": "82ef18a7-73a3-4d99-b3e3-52c53e919914",
   "metadata": {},
   "outputs": [],
   "source": [
    "type FileData = {\n",
    "    path: string;\n",
    "    content: string;\n",
    "};"
   ]
  },
  {
   "cell_type": "code",
   "execution_count": 2,
   "id": "0cf2b44b-9864-4b99-9fe2-3588836b5342",
   "metadata": {},
   "outputs": [],
   "source": [
    "type Status = {\n",
    "    isOpen: boolean;\n",
    "    errorMessage?: string;\n",
    "};"
   ]
  },
  {
   "cell_type": "code",
   "execution_count": 3,
   "id": "f392f808-3b61-4685-ba0b-34ed32c67cec",
   "metadata": {},
   "outputs": [],
   "source": [
    "type AccessedFileData = FileData & Status; // It has all the properties and methods"
   ]
  },
  {
   "cell_type": "code",
   "execution_count": 6,
   "id": "b99da0e4-891e-4031-a10c-26f6fbb641cb",
   "metadata": {},
   "outputs": [],
   "source": [
    "type DatabaseData = {\n",
    "    connectionUrl: string;\n",
    "    credentials: string;\n",
    "};"
   ]
  },
  {
   "cell_type": "code",
   "execution_count": null,
   "id": "2306901d-7d52-49de-8697-14bd13533480",
   "metadata": {},
   "outputs": [],
   "source": [
    "type AccessedDatabaseData = DatabaseData & Status;"
   ]
  }
 ],
 "metadata": {
  "kernelspec": {
   "display_name": "Deno",
   "language": "typescript",
   "name": "deno"
  },
  "language_info": {
   "codemirror_mode": "typescript",
   "file_extension": ".ts",
   "mimetype": "text/x.typescript",
   "name": "typescript",
   "nbconvert_exporter": "script",
   "pygments_lexer": "typescript",
   "version": "5.7.3"
  }
 },
 "nbformat": 4,
 "nbformat_minor": 5
}
