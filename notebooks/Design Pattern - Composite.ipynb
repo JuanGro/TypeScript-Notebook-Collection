{
 "cells": [
  {
   "cell_type": "markdown",
   "id": "d5fc4230-5f1f-46cc-b2d7-0a88ca288f5e",
   "metadata": {},
   "source": [
    "# Design Pattern - Composite"
   ]
  },
  {
   "cell_type": "markdown",
   "id": "bb0c6b76-cceb-4d54-b82a-b8928945a244",
   "metadata": {},
   "source": [
    "## ¿Qué es el patrón Composite?\n",
    "El patrón Composite permite tratar objetos individuales y composiciones de objetos de forma uniforme.\n",
    "> Es decir, permite que los clientes traten un objeto simple y un conjunto de objetos de la misma forma."
   ]
  },
  {
   "cell_type": "markdown",
   "id": "a856295d-8853-4349-97ee-dd24fa730f44",
   "metadata": {},
   "source": [
    "## ¿Para qué se usa?\n",
    "Cuando necesitas representar estructuras jerárquicas (como árboles) donde:\n",
    "- Algunos elementos son simples (hojas),\n",
    "- Y otros están compuestos por varios elementos (nodos).\n",
    "\n",
    "Ejemplo clásico: un sistema de archivos (archivos y carpetas)."
   ]
  },
  {
   "cell_type": "markdown",
   "id": "865aac28-3d62-418b-9c46-7506fe079453",
   "metadata": {},
   "source": [
    "## Estructura del patrón Composite\n",
    "### Component (interfaz o clase base)\n",
    "- define la interfaz común para hojas y compuestos\n",
    "\n",
    "### Leaf (hoja)\n",
    "- representa objetos individuales\n",
    "- implementa la operación definida en Component\n",
    "\n",
    "### Composite (nodo)\n",
    "- tiene una colección de Component\n",
    "- puede agregar, eliminar y operar sobre sus hijos\n",
    "\n",
    "### Cliente\n",
    "- interactúa con todos los elementos a través de Component"
   ]
  },
  {
   "cell_type": "markdown",
   "id": "fb1db3f3-e6fa-4784-b485-d2da8cbfd535",
   "metadata": {},
   "source": [
    "## Analogía real: Sistema de archivos\n",
    "\n",
    "📄 Archivo → hoja\n",
    "\n",
    "📁 Carpeta → compuesto (puede contener archivos o carpetas)\n",
    "\n",
    "🧑 Cliente → puede llamar .mostrar() tanto a archivos como a carpetas"
   ]
  },
  {
   "cell_type": "markdown",
   "id": "190a526d-fdf8-40b5-b4a6-2b4027a3a12a",
   "metadata": {},
   "source": [
    "## Ejemplo\n",
    "### 1. Component: interfaz común"
   ]
  },
  {
   "cell_type": "code",
   "execution_count": 3,
   "id": "525cfde5-dd1a-463d-b74e-c670f24b9906",
   "metadata": {},
   "outputs": [],
   "source": [
    "interface ComponenteArchivo {\n",
    "  mostrar(indice?: number): void;\n",
    "}"
   ]
  },
  {
   "cell_type": "markdown",
   "id": "099da051-d121-4bee-b9b9-692ad549d1da",
   "metadata": {},
   "source": [
    "### 2. Leaf: clase archivo simple"
   ]
  },
  {
   "cell_type": "code",
   "execution_count": 4,
   "id": "1f9e048a-a6a2-4072-937d-3f6ee22d7a50",
   "metadata": {},
   "outputs": [],
   "source": [
    "class Archivo implements ComponenteArchivo {\n",
    "  constructor(private nombre: string) {}\n",
    "\n",
    "  mostrar(indice?: number): void {\n",
    "    const prefix = indice !== undefined ? `${indice}. ` : '';\n",
    "    console.log(`${prefix}📄 Archivo: ${this.nombre}`);\n",
    "  }\n",
    "}"
   ]
  },
  {
   "cell_type": "markdown",
   "id": "3e78d304-3de5-4ae1-b9b9-d4515513e067",
   "metadata": {},
   "source": [
    "### 3. Composite: carpeta que contiene archivos o carpetas"
   ]
  },
  {
   "cell_type": "code",
   "execution_count": 5,
   "id": "078efeba-17e7-417f-abd8-33456c8f81bc",
   "metadata": {},
   "outputs": [],
   "source": [
    "class Carpeta implements ComponenteArchivo {\n",
    "  private hijos: ComponenteArchivo[] = [];\n",
    "\n",
    "  constructor(private nombre: string) {}\n",
    "\n",
    "  agregar(componente: ComponenteArchivo): void {\n",
    "    this.hijos.push(componente);\n",
    "  }\n",
    "\n",
    "  mostrar(): void {\n",
    "    console.log(`📁 Carpeta: ${this.nombre}`);\n",
    "    this.hijos.forEach((hijo, index) => {\n",
    "      hijo.mostrar(index + 1);\n",
    "    });\n",
    "  }\n",
    "}"
   ]
  },
  {
   "cell_type": "markdown",
   "id": "0100c8cb-10b6-4ca4-84c7-6b6778d08725",
   "metadata": {},
   "source": [
    "### 4. Cliente"
   ]
  },
  {
   "cell_type": "code",
   "execution_count": 6,
   "id": "dcdfaa9d-b46b-4783-ba11-58a5dbf65d69",
   "metadata": {},
   "outputs": [
    {
     "name": "stdout",
     "output_type": "stream",
     "text": [
      "📁 Carpeta: Mis Archivos\n",
      "1. 📄 Archivo: documento.txt\n",
      "📁 Carpeta: Multimedia\n",
      "1. 📄 Archivo: foto.jpg\n",
      "2. 📄 Archivo: video.mp4\n"
     ]
    }
   ],
   "source": [
    "// Crear archivos\n",
    "const archivo1 = new Archivo(\"documento.txt\");\n",
    "const archivo2 = new Archivo(\"foto.jpg\");\n",
    "const archivo3 = new Archivo(\"video.mp4\");\n",
    "\n",
    "// Crear subcarpeta y agregarle archivos\n",
    "const subCarpeta = new Carpeta(\"Multimedia\");\n",
    "subCarpeta.agregar(archivo2);\n",
    "subCarpeta.agregar(archivo3);\n",
    "\n",
    "// Crear carpeta principal y agregarle elementos\n",
    "const carpetaPrincipal = new Carpeta(\"Mis Archivos\");\n",
    "carpetaPrincipal.agregar(archivo1);\n",
    "carpetaPrincipal.agregar(subCarpeta);\n",
    "\n",
    "// Mostrar todo\n",
    "carpetaPrincipal.mostrar();"
   ]
  },
  {
   "cell_type": "markdown",
   "id": "f528e7fe-4ee5-4520-a0a3-18c3775b2782",
   "metadata": {},
   "source": [
    "## Ventajas del patrón Composite\n",
    "| # | Ventaja                             | Descripción                                                          |\n",
    "| - | ----------------------------------- | -------------------------------------------------------------------- |\n",
    "| 1 | 🧩 Uniformidad                      | Clientes pueden tratar elementos individuales y compuestos igual     |\n",
    "| 2 | 🌳 Modela estructuras jerárquicas   | Ideal para árboles como menús, carpetas, UI, etc.                    |\n",
    "| 3 | ♻️ Facilita la extensión            | Puedes añadir nuevos tipos de nodos sin cambiar el cliente           |\n",
    "| 4 | 🔧 Simplifica el código del cliente | El cliente no necesita saber si está tratando con una hoja o un nodo |"
   ]
  },
  {
   "cell_type": "markdown",
   "id": "19e5914b-273f-4625-bcdd-0a0b698adf04",
   "metadata": {},
   "source": [
    "## Desventajas\n",
    "| # | Desventaja                | Descripción                                                      |\n",
    "| - | ------------------------- | ---------------------------------------------------------------- |\n",
    "| 1 | ❗ Complejidad innecesaria | Puede ser sobreingeniería si no hay estructura jerárquica        |\n",
    "| 2 | 🧪 Difícil validar tipos  | A veces necesitas lógica extra para saber si es hoja o compuesto |\n",
    "| 3 | 🔁 Delegación excesiva    | Los métodos en Composite suelen ser bucles recursivos            |"
   ]
  },
  {
   "cell_type": "markdown",
   "id": "329e1e60-bf63-4d66-9ba0-1b47f57f393a",
   "metadata": {},
   "source": [
    "## ¿Cuándo usar el patrón Composite?\n",
    "Úsalo cuando:\n",
    "- Quieres representar estructuras de árbol.\n",
    "- Necesitas que clientes usen objetos simples y compuestos de la misma forma.\n",
    "- Estás construyendo un sistema que requiere recursividad estructural."
   ]
  },
  {
   "cell_type": "markdown",
   "id": "4252a618-a49f-4ab7-a3dd-b143a0d99591",
   "metadata": {},
   "source": [
    "## Ejemplos reales del patrón Composite\n",
    "| Contexto             | Ejemplo                                  |\n",
    "| -------------------- | ---------------------------------------- |\n",
    "| Sistemas de archivos | Archivos y carpetas                      |\n",
    "| Interfaces gráficas  | Widgets (botón, contenedor, panel, etc.) |\n",
    "| Menús de navegación  | Ítems individuales y submenús            |\n",
    "| Árbol DOM (HTML)     | Elementos individuales y nodos anidados  |\n",
    "| Tareas/Procesos      | Tareas simples o compuestas (subtareas)  |"
   ]
  }
 ],
 "metadata": {
  "kernelspec": {
   "display_name": "Deno",
   "language": "typescript",
   "name": "deno"
  },
  "language_info": {
   "codemirror_mode": "typescript",
   "file_extension": ".ts",
   "mimetype": "text/x.typescript",
   "name": "typescript",
   "nbconvert_exporter": "script",
   "pygments_lexer": "typescript",
   "version": "5.7.3"
  }
 },
 "nbformat": 4,
 "nbformat_minor": 5
}
