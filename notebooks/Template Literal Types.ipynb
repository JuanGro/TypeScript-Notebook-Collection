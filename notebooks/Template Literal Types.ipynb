{
 "cells": [
  {
   "cell_type": "markdown",
   "id": "850cdda0-ebc6-411f-b35b-0237fdd8809d",
   "metadata": {},
   "source": [
    "# Template Literal Types"
   ]
  },
  {
   "cell_type": "code",
   "execution_count": 1,
   "id": "fd8502cb-760a-4c0c-9b39-f29d2754f379",
   "metadata": {},
   "outputs": [],
   "source": [
    "type ReadPermissions = 'no-read' | 'read';"
   ]
  },
  {
   "cell_type": "code",
   "execution_count": 2,
   "id": "9be2b016-eea9-41d0-8e81-5f1dbe134308",
   "metadata": {},
   "outputs": [],
   "source": [
    "type WritePermissions = 'no-write' | 'write';"
   ]
  },
  {
   "cell_type": "code",
   "execution_count": 4,
   "id": "00c0c221-1fad-47ba-a754-2b57cd7116b0",
   "metadata": {},
   "outputs": [],
   "source": [
    "type FilePermissions = `${ReadPermissions}-${WritePermissions}`; // It includes 'no-read-no-write' | 'no-read-write' | 'read-no-write' | 'read-write';"
   ]
  },
  {
   "cell_type": "code",
   "execution_count": 7,
   "id": "2e860212-e70e-47d1-bb3a-5cd70fccaf3a",
   "metadata": {},
   "outputs": [],
   "source": [
    "type DataFile = {\n",
    "    data: string;\n",
    "    permissions: FilePermissions;\n",
    "};"
   ]
  },
  {
   "cell_type": "code",
   "execution_count": 8,
   "id": "792454cb-ecc9-419b-9e27-c1335f461ca5",
   "metadata": {},
   "outputs": [],
   "source": [
    "type DataFileEventNames = `${keyof DataFile}Changed`;"
   ]
  },
  {
   "cell_type": "code",
   "execution_count": 9,
   "id": "021757f7-d3b9-40e4-acc4-8b681a081c6f",
   "metadata": {},
   "outputs": [],
   "source": [
    "type DataFileEvents = {\n",
    "    [key in DataFileEventNames]: () => void;\n",
    "};"
   ]
  }
 ],
 "metadata": {
  "kernelspec": {
   "display_name": "Deno",
   "language": "typescript",
   "name": "deno"
  },
  "language_info": {
   "codemirror_mode": "typescript",
   "file_extension": ".ts",
   "mimetype": "text/x.typescript",
   "name": "typescript",
   "nbconvert_exporter": "script",
   "pygments_lexer": "typescript",
   "version": "5.7.3"
  }
 },
 "nbformat": 4,
 "nbformat_minor": 5
}
