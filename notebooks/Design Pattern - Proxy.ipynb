{
 "cells": [
  {
   "cell_type": "markdown",
   "id": "c6debaf5-78d9-4362-b1d4-a19a21d979d2",
   "metadata": {},
   "source": [
    "# Design Pattern - Proxy"
   ]
  },
  {
   "cell_type": "markdown",
   "id": "42a80db6-0645-4437-b22c-cc0c0e05e58f",
   "metadata": {},
   "source": [
    "El patrón Proxy (representante o intermediario) proporciona un sustituto o intermediario para controlar el acceso a otro objeto.\n",
    "\n",
    "En lugar de que el cliente interactúe directamente con el objeto real (llamado “sujeto real”), lo hace a través de un proxy que puede:\n",
    "- Controlar el acceso 🛡️\n",
    "- Añadir lógica adicional (caché, logs, validaciones…) 📝\n",
    "- Retrasar la creación del objeto real ⏳\n",
    "- Encapsular detalles de red 🌐"
   ]
  },
  {
   "cell_type": "markdown",
   "id": "7606b65c-33b4-4b2c-be74-901ebb62aea0",
   "metadata": {},
   "source": [
    "## ¿Para qué se usa?\n",
    "\n",
    "El patrón Proxy es útil cuando quieres interceptar o controlar interacciones con un objeto sin modificarlo directamente.\n",
    "\n",
    "Ejemplos reales comunes:\n",
    "- 🛡️ Control de acceso: Comprobar permisos antes de permitir el uso de un servicio.\n",
    "- 💰 Carga diferida (lazy loading): No crear un objeto pesado hasta que sea necesario.\n",
    "- 📡 Proxy remoto: Representar un objeto en otro servidor o máquina.\n",
    "- ⚡ Caché: Guardar resultados de operaciones costosas para no repetirlas.\n",
    "- 📝 Logs y monitoreo: Registrar llamadas a un objeto real."
   ]
  },
  {
   "cell_type": "markdown",
   "id": "522ec571-2ac8-496e-b9de-ea6612b7f2fd",
   "metadata": {},
   "source": [
    "## Componentes clave del patrón Proxy\n",
    "| Componente             | Descripción                                                               |\n",
    "| ---------------------- | ------------------------------------------------------------------------- |\n",
    "| **Subject (Interfaz)** | Define las operaciones que tanto el Proxy como el RealSubject implementan |\n",
    "| **RealSubject**        | El objeto “real” que realiza la lógica principal                          |\n",
    "| **Proxy**              | Intermediario que controla el acceso a RealSubject                        |\n",
    "| **Client**             | Interactúa con el Proxy como si fuera el RealSubject                      |"
   ]
  },
  {
   "cell_type": "markdown",
   "id": "d25e9acf-8e8e-47a1-b3fd-23d4130fe951",
   "metadata": {},
   "source": [
    "## Ejemplo real en TypeScript\n",
    "Imaginemos un servicio que carga datos pesados desde una API externa.\n",
    "Queremos usar un Proxy para:\n",
    "- No volver a llamar a la API si ya tenemos los datos (→ caché)\n",
    "- Registrar cada acceso (→ logging)"
   ]
  },
  {
   "cell_type": "markdown",
   "id": "1959346b-6bce-4cee-bfc2-0ab788621e64",
   "metadata": {},
   "source": [
    "### 🧠 Interfaz común (Subject)"
   ]
  },
  {
   "cell_type": "code",
   "execution_count": 1,
   "id": "cbb17f45-fd1b-458e-b123-d06000e348bd",
   "metadata": {},
   "outputs": [],
   "source": [
    "interface DataSource {\n",
    "  requestData(url: string): Promise<string>;\n",
    "}"
   ]
  },
  {
   "cell_type": "markdown",
   "id": "b0aa49ac-72b5-44ca-8f48-f82161d9ec2e",
   "metadata": {},
   "source": [
    "### 🌐 Objeto real (RealSubject)"
   ]
  },
  {
   "cell_type": "code",
   "execution_count": 2,
   "id": "89f7b48c-f3cf-4ba3-b0f1-06482aad211a",
   "metadata": {},
   "outputs": [],
   "source": [
    "class RealDataSource implements DataSource {\n",
    "  async requestData(url: string): Promise<string> {\n",
    "    console.log(`📡 Llamando a la API real: ${url}`);\n",
    "    // Simulación de llamada HTTP costosa\n",
    "    await new Promise((res) => setTimeout(res, 1000));\n",
    "    return `Datos desde ${url}`;\n",
    "  }\n",
    "}"
   ]
  },
  {
   "cell_type": "markdown",
   "id": "8da9dfc6-dfc5-41d6-9a53-6f34be6cece1",
   "metadata": {},
   "source": [
    "### 🧍‍♂️ Proxy con caché + logging"
   ]
  },
  {
   "cell_type": "code",
   "execution_count": 3,
   "id": "aeae96cb-1bb6-481d-bfb1-8b174966df6b",
   "metadata": {},
   "outputs": [],
   "source": [
    "class DataSourceProxy implements DataSource {\n",
    "  private realDataSource: RealDataSource;\n",
    "  private cache: Map<string, string> = new Map();\n",
    "\n",
    "  constructor() {\n",
    "    this.realDataSource = new RealDataSource();\n",
    "  }\n",
    "\n",
    "  async requestData(url: string): Promise<string> {\n",
    "    console.log(`🔍 Proxy: solicitando datos para ${url}`);\n",
    "\n",
    "    // 1. Revisar caché\n",
    "    if (this.cache.has(url)) {\n",
    "      console.log(`⚡ Devolviendo datos desde caché para ${url}`);\n",
    "      return this.cache.get(url)!;\n",
    "    }\n",
    "\n",
    "    // 2. Llamar al RealDataSource si no está en caché\n",
    "    const data = await this.realDataSource.requestData(url);\n",
    "\n",
    "    // 3. Guardar en caché\n",
    "    this.cache.set(url, data);\n",
    "    console.log(`✅ Datos guardados en caché para ${url}`);\n",
    "\n",
    "    return data;\n",
    "  }\n",
    "}"
   ]
  },
  {
   "cell_type": "markdown",
   "id": "12d7a0fa-d8f5-42ad-a291-2ff9b88e6b39",
   "metadata": {},
   "source": [
    "### 👨‍💻 Cliente usando el Proxy"
   ]
  },
  {
   "cell_type": "code",
   "execution_count": 4,
   "id": "dcfbf4fd-2128-4df3-9b08-acf158115035",
   "metadata": {},
   "outputs": [
    {
     "name": "stdout",
     "output_type": "stream",
     "text": [
      "🔍 Proxy: solicitando datos para https://api.com/user/1\n",
      "📡 Llamando a la API real: https://api.com/user/1\n"
     ]
    },
    {
     "data": {
      "text/plain": [
       "Promise { \u001b[36m<pending>\u001b[39m }"
      ]
     },
     "execution_count": 4,
     "metadata": {},
     "output_type": "execute_result"
    },
    {
     "name": "stdout",
     "output_type": "stream",
     "text": [
      "✅ Datos guardados en caché para https://api.com/user/1\n",
      "Datos desde https://api.com/user/1\n",
      "🔍 Proxy: solicitando datos para https://api.com/user/1\n",
      "⚡ Devolviendo datos desde caché para https://api.com/user/1\n",
      "Datos desde https://api.com/user/1\n",
      "🔍 Proxy: solicitando datos para https://api.com/user/2\n",
      "📡 Llamando a la API real: https://api.com/user/2\n",
      "✅ Datos guardados en caché para https://api.com/user/2\n",
      "Datos desde https://api.com/user/2\n"
     ]
    }
   ],
   "source": [
    "async function client() {\n",
    "  const proxy = new DataSourceProxy();\n",
    "\n",
    "  console.log(await proxy.requestData(\"https://api.com/user/1\"));\n",
    "  console.log(await proxy.requestData(\"https://api.com/user/1\")); // segunda llamada → caché\n",
    "  console.log(await proxy.requestData(\"https://api.com/user/2\"));\n",
    "}\n",
    "\n",
    "client();"
   ]
  },
  {
   "cell_type": "markdown",
   "id": "e77c1214-d099-43e4-8320-ce0f884c5468",
   "metadata": {},
   "source": [
    "👉 Como ves, la segunda llamada al mismo recurso no toca la API real, porque el Proxy la sirvió desde caché."
   ]
  },
  {
   "cell_type": "markdown",
   "id": "136bba40-1343-4f56-83e0-48835a25f947",
   "metadata": {},
   "source": [
    "### 📝 Ventajas del patrón Proxy\n",
    "| Ventaja                              | Descripción                                         |\n",
    "| ------------------------------------ | --------------------------------------------------- |\n",
    "| 🧠 **Control centralizado**          | Intercepta todas las llamadas en un solo lugar      |\n",
    "| 💾 **Caché y optimización**          | Mejora el rendimiento en operaciones repetitivas    |\n",
    "| 🛡️ **Seguridad y permisos**         | Puedes controlar el acceso al objeto real           |\n",
    "| 📝 **Transparencia para el cliente** | El cliente no nota si habla con Proxy o RealSubject |"
   ]
  },
  {
   "cell_type": "code",
   "execution_count": null,
   "id": "3cb0e637-23bf-4e3c-97d2-08a3c21a1e8b",
   "metadata": {},
   "outputs": [],
   "source": [
    "### ⚠️ Cuándo NO usarlo"
   ]
  }
 ],
 "metadata": {
  "kernelspec": {
   "display_name": "Deno",
   "language": "typescript",
   "name": "deno"
  },
  "language_info": {
   "codemirror_mode": "typescript",
   "file_extension": ".ts",
   "mimetype": "text/x.typescript",
   "name": "typescript",
   "nbconvert_exporter": "script",
   "pygments_lexer": "typescript",
   "version": "5.7.3"
  }
 },
 "nbformat": 4,
 "nbformat_minor": 5
}
