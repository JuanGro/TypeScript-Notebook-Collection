{
 "cells": [
  {
   "cell_type": "markdown",
   "id": "988addc1-41fc-40cf-bb0f-fba09398585c",
   "metadata": {},
   "source": [
    "# Nullish Coalescing"
   ]
  },
  {
   "cell_type": "code",
   "execution_count": 1,
   "id": "57c40c8d-7bb2-4037-8abe-a71baa32c8a6",
   "metadata": {},
   "outputs": [],
   "source": [
    "let input = null;"
   ]
  },
  {
   "cell_type": "code",
   "execution_count": 2,
   "id": "f52a9463-0d66-4850-b26e-7242391b25ff",
   "metadata": {},
   "outputs": [
    {
     "data": {
      "text/plain": [
       "\u001b[1mnull\u001b[22m"
      ]
     },
     "execution_count": 2,
     "metadata": {},
     "output_type": "execute_result"
    }
   ],
   "source": [
    "input"
   ]
  },
  {
   "cell_type": "code",
   "execution_count": 3,
   "id": "73f264e4-f035-4c64-82c5-8d8f766254ed",
   "metadata": {},
   "outputs": [],
   "source": [
    "let didProvideInput = input || false;"
   ]
  },
  {
   "cell_type": "code",
   "execution_count": 4,
   "id": "0bb1ee79-46be-4be5-9253-1ef14792fc9a",
   "metadata": {},
   "outputs": [
    {
     "data": {
      "text/plain": [
       "\u001b[33mfalse\u001b[39m"
      ]
     },
     "execution_count": 4,
     "metadata": {},
     "output_type": "execute_result"
    }
   ],
   "source": [
    "didProvideInput"
   ]
  },
  {
   "cell_type": "code",
   "execution_count": 5,
   "id": "f5534929-16d9-49d5-b55b-a195f1f1fe96",
   "metadata": {},
   "outputs": [
    {
     "data": {
      "text/plain": [
       "\u001b[32m\"\"\u001b[39m"
      ]
     },
     "execution_count": 5,
     "metadata": {},
     "output_type": "execute_result"
    }
   ],
   "source": [
    "input = '';"
   ]
  },
  {
   "cell_type": "code",
   "execution_count": 6,
   "id": "8a043c8d-db97-4356-a4da-e47ed4b49d8a",
   "metadata": {},
   "outputs": [
    {
     "data": {
      "text/plain": [
       "\u001b[33mfalse\u001b[39m"
      ]
     },
     "execution_count": 6,
     "metadata": {},
     "output_type": "execute_result"
    }
   ],
   "source": [
    "didProvideInput = input || false;"
   ]
  },
  {
   "cell_type": "code",
   "execution_count": 8,
   "id": "a630d9ee-1bd5-47ff-a6bf-ea8f49c198c3",
   "metadata": {},
   "outputs": [
    {
     "data": {
      "text/plain": [
       "\u001b[33mfalse\u001b[39m"
      ]
     },
     "execution_count": 8,
     "metadata": {},
     "output_type": "execute_result"
    }
   ],
   "source": [
    "didProvideInput"
   ]
  },
  {
   "cell_type": "code",
   "execution_count": 10,
   "id": "0ff4a0e6-02d2-4741-961d-58902262af27",
   "metadata": {},
   "outputs": [
    {
     "data": {
      "text/plain": [
       "\u001b[32m\"\"\u001b[39m"
      ]
     },
     "execution_count": 10,
     "metadata": {},
     "output_type": "execute_result"
    }
   ],
   "source": [
    "didProvideInput = input ?? false; // Check only for null or undefined, not falsy values!"
   ]
  }
 ],
 "metadata": {
  "kernelspec": {
   "display_name": "Deno",
   "language": "typescript",
   "name": "deno"
  },
  "language_info": {
   "codemirror_mode": "typescript",
   "file_extension": ".ts",
   "mimetype": "text/x.typescript",
   "name": "typescript",
   "nbconvert_exporter": "script",
   "pygments_lexer": "typescript",
   "version": "5.7.3"
  }
 },
 "nbformat": 4,
 "nbformat_minor": 5
}
