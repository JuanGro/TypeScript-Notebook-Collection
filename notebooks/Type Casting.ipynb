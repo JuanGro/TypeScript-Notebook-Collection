{
 "cells": [
  {
   "cell_type": "markdown",
   "id": "c778d534-3c05-4045-99ce-1a71fedd61d6",
   "metadata": {},
   "source": [
    "# Type Casting"
   ]
  },
  {
   "cell_type": "code",
   "execution_count": 2,
   "id": "818e366e-f80d-45e3-8dfe-7831a7f323e9",
   "metadata": {},
   "outputs": [
    {
     "ename": "ReferenceError",
     "evalue": "document is not defined",
     "output_type": "error",
     "traceback": [
      "Stack trace:",
      "ReferenceError: document is not defined",
      "    at <anonymous>:1:22"
     ]
    }
   ],
   "source": [
    "document.getElementById('user-name') as HTMLInputElement | null;"
   ]
  }
 ],
 "metadata": {
  "kernelspec": {
   "display_name": "Deno",
   "language": "typescript",
   "name": "deno"
  },
  "language_info": {
   "codemirror_mode": "typescript",
   "file_extension": ".ts",
   "mimetype": "text/x.typescript",
   "name": "typescript",
   "nbconvert_exporter": "script",
   "pygments_lexer": "typescript",
   "version": "5.7.3"
  }
 },
 "nbformat": 4,
 "nbformat_minor": 5
}
