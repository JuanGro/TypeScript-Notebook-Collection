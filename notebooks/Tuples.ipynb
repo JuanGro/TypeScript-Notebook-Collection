{
 "cells": [
  {
   "cell_type": "markdown",
   "id": "e5b6cdaa-b7c7-4655-8ec0-0ccd0e8331a3",
   "metadata": {},
   "source": [
    "# Tuples"
   ]
  },
  {
   "cell_type": "markdown",
   "id": "a03204ca-71b8-4f20-b1fd-2e6a23d50613",
   "metadata": {},
   "source": [
    "## ✅ Basic Syntax"
   ]
  },
  {
   "cell_type": "code",
   "execution_count": 12,
   "id": "0f9a5486-e5f1-4837-b193-b7e9e716130b",
   "metadata": {},
   "outputs": [],
   "source": [
    "let possibleResults: [number, number];"
   ]
  },
  {
   "cell_type": "code",
   "execution_count": 13,
   "id": "3421e90b-7b6e-455e-abac-aba03b2bee64",
   "metadata": {},
   "outputs": [
    {
     "data": {
      "text/plain": [
       "[ \u001b[33m5\u001b[39m, \u001b[33m-1\u001b[39m ]"
      ]
     },
     "execution_count": 13,
     "metadata": {},
     "output_type": "execute_result"
    }
   ],
   "source": [
    "possibleResults = [5, -1];"
   ]
  },
  {
   "cell_type": "code",
   "execution_count": 15,
   "id": "115eec6d-f536-4449-864b-f5d68730a43e",
   "metadata": {},
   "outputs": [
    {
     "data": {
      "text/plain": [
       "[ \u001b[33m42\u001b[39m, \u001b[32m\"hello\"\u001b[39m ]"
      ]
     },
     "execution_count": 15,
     "metadata": {},
     "output_type": "execute_result"
    }
   ],
   "source": [
    "let myTuple: [string, number];\n",
    "myTuple = [\"hello\", 42];   // ✅ Valid\n",
    "myTuple = [42, \"hello\"];   // ❌ Error: wrong types"
   ]
  },
  {
   "cell_type": "markdown",
   "id": "6af602cf-5c1c-415f-89bc-62e323d8bf20",
   "metadata": {},
   "source": [
    "## 🧱 Tuple with Optional Elements"
   ]
  },
  {
   "cell_type": "code",
   "execution_count": null,
   "id": "5397ef4b-9d1f-449b-9eeb-cc53fdecde10",
   "metadata": {},
   "outputs": [],
   "source": [
    "let optionalTuple: [string, number?];\n",
    "optionalTuple = [\"only string\"];       // ✅\n",
    "optionalTuple = [\"string\", 99];        // ✅"
   ]
  },
  {
   "cell_type": "markdown",
   "id": "42784d7d-9562-4f36-ba19-7d15724297af",
   "metadata": {},
   "source": [
    "## 🌀 Tuple with Rest Elements (Variadic Tuples)\n",
    "You can use ... to define tuples with a variable number of elements."
   ]
  },
  {
   "cell_type": "code",
   "execution_count": null,
   "id": "ec98ec53-ab10-4481-9c83-8557fedb28ac",
   "metadata": {},
   "outputs": [],
   "source": [
    "let variadic: [string, ...number[]];\n",
    "variadic = [\"hello\"];               // ✅\n",
    "variadic = [\"hello\", 1, 2, 3];      // ✅"
   ]
  },
  {
   "cell_type": "markdown",
   "id": "dfb1d2e9-fd90-4183-9d37-2e3880dd9484",
   "metadata": {},
   "source": [
    "## 🧠 Accessing Tuple Elements"
   ]
  },
  {
   "cell_type": "code",
   "execution_count": null,
   "id": "a29b2ba4-4483-452e-8e68-259ae2789fe7",
   "metadata": {},
   "outputs": [],
   "source": [
    "let t: [string, number] = [\"age\", 30];\n",
    "const first = t[0];  // string\n",
    "const second = t[1]; // number"
   ]
  },
  {
   "cell_type": "markdown",
   "id": "506d5242-d3c8-4566-8d6c-421b6377d86d",
   "metadata": {},
   "source": [
    "## 📦 Tuple with Labeled Elements (from TS 4.0+)\n",
    "This adds better documentation and readability."
   ]
  },
  {
   "cell_type": "code",
   "execution_count": null,
   "id": "49bc41a2-67db-42be-b22e-f29aaa735b1f",
   "metadata": {},
   "outputs": [],
   "source": [
    "type Person = [name: string, age: number];\n",
    "const p: Person = [\"Alice\", 25];"
   ]
  },
  {
   "cell_type": "markdown",
   "id": "b4ff8ab2-3aa5-4217-9ade-0b27579a2c39",
   "metadata": {},
   "source": [
    "## 🧪 Destructuring Tuples"
   ]
  },
  {
   "cell_type": "code",
   "execution_count": null,
   "id": "f20f6a20-c3e7-41b1-9700-2c8eff6439da",
   "metadata": {},
   "outputs": [],
   "source": [
    "const [name, age]: [string, number] = [\"John\", 30];"
   ]
  },
  {
   "cell_type": "markdown",
   "id": "bf4343fc-4944-4762-8f6a-9e30ecaa65a9",
   "metadata": {},
   "source": [
    "## 🛡️ Using Tuples in Functions"
   ]
  },
  {
   "cell_type": "code",
   "execution_count": null,
   "id": "8dbe9bf3-e52d-485a-bb8e-57a821c99883",
   "metadata": {},
   "outputs": [],
   "source": [
    "function getUser(): [string, number] {\n",
    "  return [\"Bob\", 40];\n",
    "}\n",
    "\n",
    "const [username, userAge] = getUser();"
   ]
  }
 ],
 "metadata": {
  "kernelspec": {
   "display_name": "Deno",
   "language": "typescript",
   "name": "deno"
  },
  "language_info": {
   "codemirror_mode": "typescript",
   "file_extension": ".ts",
   "mimetype": "text/x.typescript",
   "name": "typescript",
   "nbconvert_exporter": "script",
   "pygments_lexer": "typescript",
   "version": "5.7.3"
  }
 },
 "nbformat": 4,
 "nbformat_minor": 5
}
