{
 "cells": [
  {
   "cell_type": "markdown",
   "id": "cd058d6e-f7e2-4815-9fef-0bbd360d585b",
   "metadata": {},
   "source": [
    "# Design Pattern: Builder\n",
    "\n",
    "El patrón de diseño Builder es uno de los patrones de creación que ayuda a construir objetos complejos de manera paso a paso. Este patrón permite la construcción de un objeto de forma controlada, separando la construcción del objeto de su representación final. Es decir, se trata de un patrón que facilita la creación de un objeto sin exponer su representación interna y sin que el proceso de construcción se haga demasiado complejo."
   ]
  },
  {
   "cell_type": "markdown",
   "id": "3823150d-d7ff-4ce3-9857-271f0291c33f",
   "metadata": {},
   "source": [
    "## ¿Por qué se utiliza?\n",
    "\n",
    "El patrón Builder se usa cuando:\n",
    "- El objeto es complejo: Si un objeto tiene muchas opciones o configuraciones posibles, el patrón Builder facilita su construcción paso a paso sin exponer detalles complejos al usuario.\n",
    "- La construcción varía, pero la representación final no: Si se necesita crear un objeto en diferentes representaciones, pero la lógica de construcción es la misma, el patrón Builder es útil para desacoplar la creación del objeto de su representación.\n",
    "- Necesitamos mayor claridad: Evita tener constructores con demasiados parámetros (el llamado constructor telescópico) y mejora la legibilidad del código.\n",
    "- No queremos exponer la complejidad de la construcción: El patrón ayuda a que la complejidad de crear un objeto se esconda detrás de una interfaz sencilla, sin que el usuario tenga que saber nada de los detalles internos."
   ]
  },
  {
   "cell_type": "markdown",
   "id": "217ce67a-9530-43fa-8fd0-770864e07cc6",
   "metadata": {},
   "source": [
    "## Características clave\n",
    "- Creación paso a paso: El proceso de construcción se divide en varios pasos, lo que facilita la personalización del objeto final sin necesidad de manipular directamente los atributos.\n",
    "- Separación de la construcción y la representación: El patrón permite separar el proceso de creación del objeto (la \"construcción\") y el tipo de objeto que se va a generar (la \"representación\").\n",
    "- Construcción independiente del objeto: Se pueden crear diferentes representaciones del mismo objeto sin cambiar el código de construcción.\n",
    "- Builder específico para cada tipo de objeto: En ocasiones, cada tipo de objeto puede tener su propio Builder."
   ]
  },
  {
   "cell_type": "markdown",
   "id": "c8b5192e-eb6c-4359-980f-1e30347339c9",
   "metadata": {},
   "source": [
    "## Ejemplo"
   ]
  },
  {
   "cell_type": "code",
   "execution_count": 1,
   "id": "21dbee4d-0b32-42b9-96a7-d64e77798de2",
   "metadata": {},
   "outputs": [],
   "source": [
    "class QueryBuilder {\n",
    "  private table: string;\n",
    "  private fields: string[] = [];\n",
    "  private conditions: string[] = [];\n",
    "  private fieldOrderBy: string[] = [];\n",
    "  private limitNumber: number = 1000;\n",
    "\n",
    "  constructor(table: string) {\n",
    "    this.table = table;\n",
    "  }\n",
    "\n",
    "  select(...fields: string[]): QueryBuilder {\n",
    "    this.fields = fields.length ? fields : ['*'];\n",
    "    return this;\n",
    "  }\n",
    "\n",
    "  where(condition: string): QueryBuilder {\n",
    "    this.conditions.push(condition);\n",
    "    return this;\n",
    "  }\n",
    "\n",
    "  orderBy(field: string, order: string): QueryBuilder {\n",
    "    this.fieldOrderBy.push(`${field} ${order}`);\n",
    "    return this;\n",
    "  }\n",
    "\n",
    "  limit(limit: number): QueryBuilder {\n",
    "    this.limitNumber = limit;\n",
    "    return this;\n",
    "  }\n",
    "\n",
    "  execute(): string {\n",
    "    return `\n",
    "      SELECT ${this.fields ? this.fields.join(', ') : '*'}\n",
    "      FROM ${this.table}\n",
    "      ${this.conditions.length ? `WHERE ${this.conditions.join(' AND ')}` : ''}\n",
    "      ${this.fieldOrderBy.length ? `ORDER BY ${this.fieldOrderBy.join(', ')}` : ''}\n",
    "      ${this.limitNumber ? `LIMIT ${this.limitNumber}` : ''};\n",
    "    `\n",
    "  }\n",
    "}"
   ]
  },
  {
   "cell_type": "code",
   "execution_count": 5,
   "id": "a7aa38bc-c393-4ad7-9bcc-115a00db7351",
   "metadata": {},
   "outputs": [
    {
     "name": "stdout",
     "output_type": "stream",
     "text": [
      "Consulta:\n",
      "\n",
      "      SELECT id, name, email\n",
      "      FROM users\n",
      "      WHERE age > 20 AND country = 'CHI'\n",
      "      ORDER BY name ASC, age DESC\n",
      "      LIMIT 100;\n",
      "    \n"
     ]
    }
   ],
   "source": [
    "function main() {\n",
    "  const usersQuery = new QueryBuilder('users')\n",
    "    .select('id', 'name', 'email')\n",
    "    .where('age > 20')\n",
    "    .where(\"country = 'CHI'\")\n",
    "    .orderBy('name', 'ASC')\n",
    "    .orderBy('age', 'DESC')\n",
    "    .limit(100)\n",
    "    .execute();\n",
    "\n",
    "  console.log('Consulta:');\n",
    "  console.log(usersQuery);\n",
    "}\n",
    "\n",
    "main();"
   ]
  }
 ],
 "metadata": {
  "kernelspec": {
   "display_name": "Deno",
   "language": "typescript",
   "name": "deno"
  },
  "language_info": {
   "codemirror_mode": "typescript",
   "file_extension": ".ts",
   "mimetype": "text/x.typescript",
   "name": "typescript",
   "nbconvert_exporter": "script",
   "pygments_lexer": "typescript",
   "version": "5.7.3"
  }
 },
 "nbformat": 4,
 "nbformat_minor": 5
}
