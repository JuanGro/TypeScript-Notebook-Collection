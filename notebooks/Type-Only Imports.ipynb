{
 "cells": [
  {
   "cell_type": "markdown",
   "id": "1c4d3b6c-b10d-4253-a055-091c485045d2",
   "metadata": {},
   "source": [
    "# Type-Only Imports"
   ]
  },
  {
   "cell_type": "markdown",
   "id": "b0ffd7be-d02c-46af-84ab-ca1f215a9bd2",
   "metadata": {},
   "source": [
    "✅ Good for:\n",
    "\n",
    "Avoiding runtime imports.\n",
    "\n",
    "Better tree-shaking.\n",
    "\n",
    "Avoiding circular dependencies."
   ]
  },
  {
   "cell_type": "code",
   "execution_count": 1,
   "id": "c9f76dd4-b34d-429a-959d-5072f5cbfb8e",
   "metadata": {},
   "outputs": [],
   "source": [
    "import type { User, Product } from './types';"
   ]
  }
 ],
 "metadata": {
  "kernelspec": {
   "display_name": "Deno",
   "language": "typescript",
   "name": "deno"
  },
  "language_info": {
   "codemirror_mode": "typescript",
   "file_extension": ".ts",
   "mimetype": "text/x.typescript",
   "name": "typescript",
   "nbconvert_exporter": "script",
   "pygments_lexer": "typescript",
   "version": "5.7.3"
  }
 },
 "nbformat": 4,
 "nbformat_minor": 5
}
