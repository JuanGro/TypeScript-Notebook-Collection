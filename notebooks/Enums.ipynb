{
 "cells": [
  {
   "cell_type": "code",
   "execution_count": 1,
   "id": "19b415d1-0de7-42ae-8818-b965bbdff597",
   "metadata": {},
   "outputs": [],
   "source": [
    "enum Role {\n",
    "    Admin,\n",
    "    Editor,\n",
    "    Guest\n",
    "}"
   ]
  },
  {
   "cell_type": "code",
   "execution_count": 2,
   "id": "ca4df46f-2510-4b07-991d-e0de7d2081db",
   "metadata": {},
   "outputs": [],
   "source": [
    "let userRole: Role = Role.Admin;"
   ]
  },
  {
   "cell_type": "code",
   "execution_count": 3,
   "id": "e17fa8be-a4c4-4a02-8d7e-8baf149d0b4a",
   "metadata": {},
   "outputs": [
    {
     "data": {
      "text/plain": [
       "\u001b[33m0\u001b[39m"
      ]
     },
     "execution_count": 3,
     "metadata": {},
     "output_type": "execute_result"
    }
   ],
   "source": [
    "userRole"
   ]
  },
  {
   "cell_type": "code",
   "execution_count": 4,
   "id": "d2362211-2899-4640-bc60-c72fcde743f3",
   "metadata": {},
   "outputs": [
    {
     "data": {
      "text/plain": [
       "\u001b[33m2\u001b[39m"
      ]
     },
     "execution_count": 4,
     "metadata": {},
     "output_type": "execute_result"
    }
   ],
   "source": [
    "userRole = Role.Guest"
   ]
  },
  {
   "cell_type": "code",
   "execution_count": 5,
   "id": "9e81ae19-7c5c-4cdd-b58b-bedd5ae4e134",
   "metadata": {},
   "outputs": [
    {
     "data": {
      "text/plain": [
       "\u001b[33m2\u001b[39m"
      ]
     },
     "execution_count": 5,
     "metadata": {},
     "output_type": "execute_result"
    }
   ],
   "source": [
    "userRole"
   ]
  },
  {
   "cell_type": "code",
   "execution_count": 6,
   "id": "af02547f-4b3b-4021-8220-5403b5b8a026",
   "metadata": {},
   "outputs": [],
   "source": [
    "enum Role {\n",
    "    Admin = 1,\n",
    "    Editor,\n",
    "    Guest\n",
    "}"
   ]
  },
  {
   "cell_type": "code",
   "execution_count": 8,
   "id": "4611780b-c6f5-44ac-b65e-a0ba9aa27019",
   "metadata": {},
   "outputs": [
    {
     "data": {
      "text/plain": [
       "\u001b[33m1\u001b[39m"
      ]
     },
     "execution_count": 8,
     "metadata": {},
     "output_type": "execute_result"
    }
   ],
   "source": [
    "userRole = Role.Admin"
   ]
  },
  {
   "cell_type": "code",
   "execution_count": null,
   "id": "beb2639e-73ee-4430-b6b0-b5fa53ddd073",
   "metadata": {},
   "outputs": [],
   "source": []
  }
 ],
 "metadata": {
  "kernelspec": {
   "display_name": "Deno",
   "language": "typescript",
   "name": "deno"
  },
  "language_info": {
   "codemirror_mode": "typescript",
   "file_extension": ".ts",
   "mimetype": "text/x.typescript",
   "name": "typescript",
   "nbconvert_exporter": "script",
   "pygments_lexer": "typescript",
   "version": "5.7.3"
  }
 },
 "nbformat": 4,
 "nbformat_minor": 5
}
