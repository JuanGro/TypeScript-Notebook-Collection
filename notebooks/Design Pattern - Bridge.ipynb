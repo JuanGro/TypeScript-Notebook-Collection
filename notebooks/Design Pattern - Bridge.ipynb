{
 "cells": [
  {
   "cell_type": "markdown",
   "id": "6c5d38fd-7b14-45f5-9469-84589edaed60",
   "metadata": {},
   "source": [
    "# Design Pattern - Bridge"
   ]
  },
  {
   "cell_type": "markdown",
   "id": "8ac3d8e4-4258-41c1-9d64-e20d66c00472",
   "metadata": {},
   "source": [
    "## ¿Qué es el patrón Bridge?\n",
    "El Bridge Pattern (patrón puente) separa una abstracción de su implementación, de modo que ambas puedan variar de forma independiente.\n",
    "> Es decir, divide una clase en dos jerarquías: una para la abstracción (lo que se quiere hacer), y otra para la implementación (cómo se hace)."
   ]
  },
  {
   "cell_type": "markdown",
   "id": "3b87c156-51c8-4da0-9a7c-298ad9857b14",
   "metadata": {},
   "source": [
    "## ¿Para qué se usa?\n",
    "Cuando tienes una abstracción que puede tener múltiples implementaciones y no quieres acoplarlas fuertemente.\n",
    "- Así puedes cambiar la implementación sin tocar la abstracción\n",
    "- O cambiar la abstracción sin tocar las implementaciones"
   ]
  },
  {
   "cell_type": "markdown",
   "id": "d6514136-2e0d-4b3f-b9f4-dcd97880bf29",
   "metadata": {},
   "source": [
    "## Estructura del patrón Bridge\n",
    "### Abstraction (interfaz o clase base)\n",
    "- Tiene una referencia a Implementor\n",
    "- Define operaciones de alto nivel que delegan en Implementor\n",
    "\n",
    "### RefinedAbstraction (subclases concretas)\n",
    "- Extiende la funcionalidad de la abstracción base\n",
    "\n",
    "### Implementor (interfaz de implementación)\n",
    "- Define operaciones de bajo nivel\n",
    "\n",
    "### ConcreteImplementor\n",
    "- Implementa los detalles concretos\n",
    "\n",
    "### Cliente\n",
    "- Usa Abstraction y no conoce directamente a ConcreteImplementor"
   ]
  },
  {
   "cell_type": "markdown",
   "id": "5c3362b8-1b08-4e7c-a755-d20aa15aa0fa",
   "metadata": {},
   "source": [
    "## Ejemplo real: Control remoto de dispositivos\n",
    "### Abstracción: ControlRemoto\n",
    "### Implementación: Televisor, Radio, etc.\n",
    "Queremos que el control remoto funcione con distintos dispositivos, pero no queremos acoplar la lógica del control a cada tipo de dispositivo."
   ]
  },
  {
   "cell_type": "markdown",
   "id": "bb96582d-0579-4ef5-98fd-c449aab2c988",
   "metadata": {},
   "source": [
    "## Ejemplo"
   ]
  },
  {
   "cell_type": "markdown",
   "id": "674470b8-a8ad-41ba-851c-3530019ed42c",
   "metadata": {},
   "source": [
    "### 1. Implementor: interfaz para dispositivos"
   ]
  },
  {
   "cell_type": "code",
   "execution_count": 6,
   "id": "126e95bb-e7c1-48ac-9263-3f5d59213b90",
   "metadata": {},
   "outputs": [],
   "source": [
    "interface Dispositivo {\n",
    "  encender(): void;\n",
    "  apagar(): void;\n",
    "  setCanal(canal: number): void;\n",
    "}"
   ]
  },
  {
   "cell_type": "markdown",
   "id": "befae0c5-db83-42bb-ae88-90460eb2876d",
   "metadata": {},
   "source": [
    "### 2. ConcreteImplementor: clase concreta"
   ]
  },
  {
   "cell_type": "code",
   "execution_count": 7,
   "id": "371f9c99-1b5f-4eae-9b62-630df26a7583",
   "metadata": {},
   "outputs": [],
   "source": [
    "class Televisor implements Dispositivo {\n",
    "  encender(): void {\n",
    "    console.log(\"📺 Televisor encendido\");\n",
    "  }\n",
    "\n",
    "  apagar(): void {\n",
    "    console.log(\"📺 Televisor apagado\");\n",
    "  }\n",
    "\n",
    "  setCanal(canal: number): void {\n",
    "    console.log(`📺 Cambiando al canal ${canal}`);\n",
    "  }\n",
    "}"
   ]
  },
  {
   "cell_type": "markdown",
   "id": "46728642-7521-406c-90d4-93bf3f9fa850",
   "metadata": {},
   "source": [
    "### 3. Abstraction: clase base que usa el implementador"
   ]
  },
  {
   "cell_type": "code",
   "execution_count": 8,
   "id": "dfee4478-b123-4f9e-bb8b-6141b107e7df",
   "metadata": {},
   "outputs": [],
   "source": [
    "class ControlRemoto {\n",
    "  constructor(protected dispositivo: Dispositivo) {}\n",
    "\n",
    "  encender(): void {\n",
    "    this.dispositivo.encender();\n",
    "  }\n",
    "\n",
    "  apagar(): void {\n",
    "    this.dispositivo.apagar();\n",
    "  }\n",
    "\n",
    "  cambiarCanal(canal: number): void {\n",
    "    this.dispositivo.setCanal(canal);\n",
    "  }\n",
    "}"
   ]
  },
  {
   "cell_type": "markdown",
   "id": "b2653751-f31d-49ee-9443-50328d62446e",
   "metadata": {},
   "source": [
    "### 4. RefinedAbstraction: extensión del control"
   ]
  },
  {
   "cell_type": "code",
   "execution_count": 9,
   "id": "50599115-9f5f-4633-9a59-62ad260f030d",
   "metadata": {},
   "outputs": [],
   "source": [
    "class ControlAvanzado extends ControlRemoto {\n",
    "  mute(): void {\n",
    "    console.log(\"🔇 Silenciando dispositivo\");\n",
    "  }\n",
    "}"
   ]
  },
  {
   "cell_type": "markdown",
   "id": "99fc9add-8acc-4ca9-b1d1-094343554f91",
   "metadata": {},
   "source": [
    "### 5. Cliente"
   ]
  },
  {
   "cell_type": "code",
   "execution_count": 5,
   "id": "b6b41bd5-8066-4b29-aa02-909d94045dcc",
   "metadata": {},
   "outputs": [
    {
     "name": "stdout",
     "output_type": "stream",
     "text": [
      "📺 Televisor encendido\n",
      "📺 Cambiando al canal 7\n",
      "🔇 Silenciando dispositivo\n",
      "📺 Televisor apagado\n"
     ]
    }
   ],
   "source": [
    "const tele = new Televisor();\n",
    "const control = new ControlAvanzado(tele);\n",
    "\n",
    "control.encender();           // 📺 Televisor encendido\n",
    "control.cambiarCanal(7);      // 📺 Cambiando al canal 7\n",
    "control.mute();               // 🔇 Silenciando dispositivo\n",
    "control.apagar();             // 📺 Televisor apagado"
   ]
  },
  {
   "cell_type": "markdown",
   "id": "96a5e4e2-c76d-4dff-b55e-159e3ee6d675",
   "metadata": {},
   "source": [
    "## Ventajas del patrón Bridge\n",
    "| # | Ventaja                                   | Explicación                                                            |\n",
    "| - | ----------------------------------------- | ---------------------------------------------------------------------- |\n",
    "| 1 | 🧩 Desacopla abstracción e implementación | Puedes modificarlas por separado                                       |\n",
    "| 2 | 🔄 Cambios más fáciles y seguros          | Cambiar la lógica o el comportamiento no afecta al otro lado           |\n",
    "| 3 | 🧱 Mejora la escalabilidad                | Puedes combinar múltiples abstracciones con múltiples implementaciones |\n",
    "| 4 | ♻️ Reutilización de código                | Compartes implementaciones entre distintas abstracciones               |"
   ]
  },
  {
   "cell_type": "markdown",
   "id": "ece8329b-f53d-4241-9419-b78112d11dae",
   "metadata": {},
   "source": [
    "## Desventajas\n",
    "| # | Desventaja                       | Explicación                                                    |\n",
    "| - | -------------------------------- | -------------------------------------------------------------- |\n",
    "| 1 | 🧠 Mayor complejidad inicial     | Añade más clases e interfaces                                  |\n",
    "| 2 | 🚧 Sobrecarga para casos simples | Puede ser demasiado si solo tienes una implementación concreta |"
   ]
  },
  {
   "cell_type": "markdown",
   "id": "c0ba8361-5164-484f-a41f-f6b27b2cff88",
   "metadata": {},
   "source": [
    "## ¿Cuándo usar el patrón Bridge?\n",
    "Usa Bridge cuando:\n",
    "- Quieres evitar una explosión de clases por múltiples combinaciones (ej. 5 abstracciones × 3 implementaciones = 15 clases).\n",
    "- Necesitas que la abstracción y la implementación evolucionen por separado.\n",
    "- Estás trabajando con una jerarquía que mezcla funcionalidades y plataformas (ej: UI, dispositivos, motores gráficos)."
   ]
  },
  {
   "cell_type": "markdown",
   "id": "b63601cc-843e-442c-879d-1a18cf5fa72a",
   "metadata": {},
   "source": [
    "## Ejemplos reales del mundo del software\n",
    "| Ejemplo                             | Descripción                                                |\n",
    "| ----------------------------------- | ---------------------------------------------------------- |\n",
    "| Controles remotos                   | Control + Dispositivo (TV, Radio, etc.)                    |\n",
    "| Renderizado gráfico                 | Forma (abstracción) + Motor de render (implementación)     |\n",
    "| Persistencia de datos               | Repositorio (abstracción) + Base de datos (implementación) |\n",
    "| Interfaces gráficas multiplataforma | Componente UI + Sistema operativo                          |"
   ]
  }
 ],
 "metadata": {
  "kernelspec": {
   "display_name": "Deno",
   "language": "typescript",
   "name": "deno"
  },
  "language_info": {
   "codemirror_mode": "typescript",
   "file_extension": ".ts",
   "mimetype": "text/x.typescript",
   "name": "typescript",
   "nbconvert_exporter": "script",
   "pygments_lexer": "typescript",
   "version": "5.7.3"
  }
 },
 "nbformat": 4,
 "nbformat_minor": 5
}
