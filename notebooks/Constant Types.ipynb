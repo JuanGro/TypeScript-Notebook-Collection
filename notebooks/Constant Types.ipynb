{
 "cells": [
  {
   "cell_type": "markdown",
   "id": "e68ac1d3-a6f8-4a08-8778-94a8c1b68ad0",
   "metadata": {},
   "source": [
    "# Constant Types"
   ]
  },
  {
   "cell_type": "code",
   "execution_count": 1,
   "id": "638449fd-0034-48c2-8b54-0a40f39d02b0",
   "metadata": {},
   "outputs": [],
   "source": [
    "let roles = ['admin', 'guest', 'editor'] as const; // readonly ['admin', 'guest', 'editor']"
   ]
  },
  {
   "cell_type": "code",
   "execution_count": 2,
   "id": "f72679be-bd8c-43bd-970b-faa15061e8d7",
   "metadata": {},
   "outputs": [
    {
     "data": {
      "text/plain": [
       "\u001b[33m4\u001b[39m"
      ]
     },
     "execution_count": 2,
     "metadata": {},
     "output_type": "execute_result"
    }
   ],
   "source": [
    "roles.push('max'); // Not allowed! Notebook not working correctly"
   ]
  },
  {
   "cell_type": "code",
   "execution_count": 4,
   "id": "ebe57f17-3588-4e29-9546-5cc2b340c234",
   "metadata": {},
   "outputs": [
    {
     "data": {
      "text/plain": [
       "\u001b[32m\"admin\"\u001b[39m"
      ]
     },
     "execution_count": 4,
     "metadata": {},
     "output_type": "execute_result"
    }
   ],
   "source": [
    "const firstRole = roles[0];\n",
    "firstRole"
   ]
  }
 ],
 "metadata": {
  "kernelspec": {
   "display_name": "Deno",
   "language": "typescript",
   "name": "deno"
  },
  "language_info": {
   "codemirror_mode": "typescript",
   "file_extension": ".ts",
   "mimetype": "text/x.typescript",
   "name": "typescript",
   "nbconvert_exporter": "script",
   "pygments_lexer": "typescript",
   "version": "5.7.3"
  }
 },
 "nbformat": 4,
 "nbformat_minor": 5
}
