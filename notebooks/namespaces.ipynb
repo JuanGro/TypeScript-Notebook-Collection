{
 "cells": [
  {
   "cell_type": "markdown",
   "id": "ca166824-a11a-4a7e-9e39-c0e488f19f63",
   "metadata": {},
   "source": [
    "# namespaces"
   ]
  },
  {
   "cell_type": "code",
   "execution_count": 1,
   "id": "02b5bbee-728b-4f82-b686-ecc0055cb5bc",
   "metadata": {},
   "outputs": [],
   "source": [
    "namespace MyNamespace {\n",
    "  export function greet(name: string) {\n",
    "    console.log(\"Hello, \" + name);\n",
    "  }\n",
    "}"
   ]
  },
  {
   "cell_type": "code",
   "execution_count": 2,
   "id": "3dc4a84d-5759-420d-b955-878b4602d080",
   "metadata": {},
   "outputs": [
    {
     "name": "stdout",
     "output_type": "stream",
     "text": [
      "Hello, Alice\n"
     ]
    }
   ],
   "source": [
    "MyNamespace.greet(\"Alice\");"
   ]
  },
  {
   "cell_type": "markdown",
   "id": "e382fcfa-f65b-42a4-8cd2-7fc90984c83f",
   "metadata": {},
   "source": [
    "📁 Using Namespaces Across Files\n",
    "\n",
    "To use namespaces across multiple files, you'd need to either:\n",
    "\n",
    "Use `<script>` tags with a `<reference>` directive (in the browser).\n",
    "\n",
    "Use tsconfig.json with outFile option and not use modules."
   ]
  },
  {
   "cell_type": "code",
   "execution_count": 3,
   "id": "57a1a592-f92e-4ee8-a09c-ec4ababab348",
   "metadata": {},
   "outputs": [],
   "source": [
    "/// <reference path=\"file1.ts\" />\n",
    "/// <reference path=\"file2.ts\" />"
   ]
  }
 ],
 "metadata": {
  "kernelspec": {
   "display_name": "Deno",
   "language": "typescript",
   "name": "deno"
  },
  "language_info": {
   "codemirror_mode": "typescript",
   "file_extension": ".ts",
   "mimetype": "text/x.typescript",
   "name": "typescript",
   "nbconvert_exporter": "script",
   "pygments_lexer": "typescript",
   "version": "5.7.3"
  }
 },
 "nbformat": 4,
 "nbformat_minor": 5
}
