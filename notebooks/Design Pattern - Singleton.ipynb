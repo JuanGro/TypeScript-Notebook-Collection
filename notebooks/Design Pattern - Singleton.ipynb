{
 "cells": [
  {
   "cell_type": "markdown",
   "id": "84e3fcc1-6e67-4bca-aac2-dfe72bafdaa4",
   "metadata": {},
   "source": [
    "# Design Pattern - Singleton"
   ]
  },
  {
   "cell_type": "markdown",
   "id": "9693122f-a75b-4716-a882-19d12dffba9e",
   "metadata": {},
   "source": [
    "## ¿Qué es el patrón Singleton?\n",
    "\n",
    "El Singleton es un patrón de diseño creacional que garantiza que una clase tenga una única instancia y proporciona un punto de acceso global a ella.\n",
    "> Es decir, solo puedes tener un objeto de esa clase en todo el sistema."
   ]
  },
  {
   "cell_type": "markdown",
   "id": "2ff457cf-04f4-4eed-8841-fdb47dacdca3",
   "metadata": {},
   "source": [
    "## ¿Para qué se usa?\n",
    "\n",
    "Se usa cuando:\n",
    "- Necesitas una única instancia global para coordinar acciones.\n",
    "- Esa instancia mantiene un estado compartido (como configuraciones, logs, caches, conexiones, etc.).\n",
    "- No tendría sentido tener múltiples instancias del mismo objeto."
   ]
  },
  {
   "cell_type": "markdown",
   "id": "eee30315-490b-4d4d-b63d-070d4a6f076d",
   "metadata": {},
   "source": [
    "## Estructura del patrón Singleton\n",
    "### Clase Singleton\n",
    "- instancia (estática y privada)\n",
    "- constructor privado\n",
    "- método público para obtener la instancia (getInstance)\n",
    "\n",
    "### Cliente\n",
    "- Accede a la instancia única mediante Singleton.getInstance()"
   ]
  },
  {
   "cell_type": "markdown",
   "id": "17f46c71-8c39-4541-83f9-da65ee6f0721",
   "metadata": {},
   "source": [
    "## Ejemplo"
   ]
  },
  {
   "cell_type": "code",
   "execution_count": 1,
   "id": "716fed55-a46d-477e-8fe2-facb82ba90a3",
   "metadata": {},
   "outputs": [],
   "source": [
    "class Logger {\n",
    "  private static instancia: Logger;\n",
    "\n",
    "  // Constructor privado: evita instanciación externa\n",
    "  private constructor() {}\n",
    "\n",
    "  // Método estático para acceder a la única instancia\n",
    "  public static getInstance(): Logger {\n",
    "    if (!Logger.instancia) {\n",
    "      Logger.instancia = new Logger();\n",
    "      console.log(\"🆕 Logger creado\");\n",
    "    }\n",
    "    return Logger.instancia;\n",
    "  }\n",
    "\n",
    "  log(mensaje: string): void {\n",
    "    console.log(`[LOG]: ${mensaje}`);\n",
    "  }\n",
    "}"
   ]
  },
  {
   "cell_type": "code",
   "execution_count": 2,
   "id": "d737c2f0-443a-4c7e-96c3-02926ae50f0e",
   "metadata": {},
   "outputs": [
    {
     "name": "stdout",
     "output_type": "stream",
     "text": [
      "🆕 Logger creado\n",
      "[LOG]: Primer mensaje\n",
      "[LOG]: Segundo mensaje\n",
      "\u001b[33mtrue\u001b[39m\n"
     ]
    }
   ],
   "source": [
    "const logger1 = Logger.getInstance();\n",
    "const logger2 = Logger.getInstance();\n",
    "\n",
    "logger1.log(\"Primer mensaje\");\n",
    "logger2.log(\"Segundo mensaje\");\n",
    "\n",
    "console.log(logger1 === logger2); // true ✅ Mismo objeto"
   ]
  },
  {
   "cell_type": "markdown",
   "id": "0fb12b28-fc4c-44be-aa6b-f2a2b29b1379",
   "metadata": {},
   "source": [
    "## Ventajas del Singleton\n",
    "| # | Ventaja                         | Descripción                                                 |\n",
    "| - | ------------------------------- | ----------------------------------------------------------- |\n",
    "| 1 | 🔁 Instancia única              | Control total sobre una única instancia global.             |\n",
    "| 2 | 🧠 Estado compartido            | Útil para logs, configuración, caché, conexión a DB, etc.   |\n",
    "| 3 | 🛠️ Control centralizado        | Facilita coordinar operaciones a través de una única clase. |\n",
    "| 4 | 🧪 Accesible en cualquier parte | Sin necesidad de pasar la instancia como parámetro.         |"
   ]
  },
  {
   "cell_type": "markdown",
   "id": "929798f6-b1b0-4734-84e5-5709ed63f78d",
   "metadata": {},
   "source": [
    "## Desventajas del Singleton\n",
    "| # | Desventaja                         | Descripción                                                             |\n",
    "| - | ---------------------------------- | ----------------------------------------------------------------------- |\n",
    "| 1 | 🧪 Dificulta pruebas               | Puede hacer más difícil inyectar mocks o stubs en tests.                |\n",
    "| 2 | 🔧 Acoplamiento global             | Introduce una dependencia global en el sistema.                         |\n",
    "| 3 | 🚫 Rompe SRP                       | La clase tiene dos responsabilidades: su lógica + control de instancia. |\n",
    "| 4 | ❗ Puede convertirse en anti-patrón | Si se abusa, se vuelve una “global disfrazada”.                         |"
   ]
  },
  {
   "cell_type": "markdown",
   "id": "e79e99c4-7382-4e03-b915-a5ed5203490c",
   "metadata": {},
   "source": [
    "## ¿Cuándo usar Singleton?\n",
    "\n",
    "✅ Úsalo cuando:\n",
    "- Solo debe haber una instancia.\n",
    "- Necesitas una forma controlada de acceder a ella.\n",
    "\n",
    "❌ Evítalo cuando:\n",
    "- Lo usas como una global innecesaria.\n",
    "- Podrías pasar la dependencia en lugar de ocultarla.\n",
    "- Lo necesitas en clases que deben ser testeables (usar inyección de dependencias mejor)."
   ]
  },
  {
   "cell_type": "markdown",
   "id": "f37fbe51-b2b5-44bb-93f0-e2f29bfa4e07",
   "metadata": {},
   "source": [
    "## Ejemplos del mundo real\n",
    "| Contexto      | Singleton común                                        |\n",
    "| ------------- | ------------------------------------------------------ |\n",
    "| Logging       | `Logger.getInstance().log()`                           |\n",
    "| Configuración | `AppConfig.getInstance().get(\"PORT\")`                  |\n",
    "| Base de datos | `DBConnection.getInstance().query(\"SELECT * FROM...\")` |\n",
    "| UI (desktop)  | Solo puede haber una ventana de configuración abierta  |"
   ]
  }
 ],
 "metadata": {
  "kernelspec": {
   "display_name": "Deno",
   "language": "typescript",
   "name": "deno"
  },
  "language_info": {
   "codemirror_mode": "typescript",
   "file_extension": ".ts",
   "mimetype": "text/x.typescript",
   "name": "typescript",
   "nbconvert_exporter": "script",
   "pygments_lexer": "typescript",
   "version": "5.7.3"
  }
 },
 "nbformat": 4,
 "nbformat_minor": 5
}
