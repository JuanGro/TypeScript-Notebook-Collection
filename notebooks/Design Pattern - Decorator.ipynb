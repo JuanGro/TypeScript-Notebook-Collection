{
 "cells": [
  {
   "cell_type": "markdown",
   "id": "9d5c7bc7-286c-4da8-8e83-5e37a0083d14",
   "metadata": {},
   "source": [
    "# Design Pattern - Decorator"
   ]
  },
  {
   "cell_type": "markdown",
   "id": "5d287b1d-2ce4-4d97-b08a-83746ed33ecb",
   "metadata": {},
   "source": [
    "## ¿Qué es el patrón Decorator?\n",
    "El patrón Decorator permite añadir responsabilidades o comportamientos a un objeto de manera dinámica, sin modificar su estructura original.\n",
    "> Es decir, envuelves un objeto con otro que añade funcionalidades, como si lo decoraras."
   ]
  },
  {
   "cell_type": "markdown",
   "id": "03a0eb3c-f7df-4095-a8fc-9c52fa04eadd",
   "metadata": {},
   "source": [
    "## ¿Para qué se usa?\n",
    "Cuando necesitas:\n",
    "- Agregar funcionalidades de forma flexible y en tiempo de ejecución.\n",
    "- Evitar crear múltiples subclases para cada combinación de comportamientos.\n",
    "- Cumplir con el principio de abierto/cerrado de SOLID: \"abierto para extensión, cerrado para modificación.\""
   ]
  },
  {
   "cell_type": "markdown",
   "id": "bf597438-2e25-4332-8c17-1c4b7a6ed321",
   "metadata": {},
   "source": [
    "## Estructura del patrón Decorator\n",
    "### Component (interfaz base)\n",
    "- define la interfaz común para los objetos que pueden ser decorados\n",
    "\n",
    "### ConcreteComponent\n",
    "- implementación principal del objeto\n",
    "\n",
    "### Decorator (clase abstracta o base)\n",
    "- implementa la interfaz de Component\n",
    "- contiene una referencia a otro Component\n",
    "\n",
    "### ConcreteDecorators\n",
    "- extienden Decorator y añaden comportamiento adicional"
   ]
  },
  {
   "cell_type": "markdown",
   "id": "29f8c12a-5d01-4cfe-9c39-58fba3f766f6",
   "metadata": {},
   "source": [
    "## Analogía real: Café con toppings\n",
    "- CaféBase: el componente concreto\n",
    "- LecheDecorator: agrega leche\n",
    "- ChocolateDecorator: agrega chocolate\n",
    "> Puedes crear un café, luego envolverlo con leche, luego con chocolate, y así sucesivamente."
   ]
  },
  {
   "cell_type": "markdown",
   "id": "66e6ec9d-472e-4320-b99c-69d4e9f0316d",
   "metadata": {},
   "source": [
    "## Ejemplo\n",
    "### 1. Component: interfaz base"
   ]
  },
  {
   "cell_type": "code",
   "execution_count": 1,
   "id": "3565cc3d-6697-4365-9128-36c1572c7a93",
   "metadata": {},
   "outputs": [],
   "source": [
    "interface Bebida {\n",
    "  getDescripcion(): string;\n",
    "  getCosto(): number;\n",
    "}"
   ]
  },
  {
   "cell_type": "markdown",
   "id": "bef1a58d-5d5b-4d40-81f3-3372f6f9d3ea",
   "metadata": {},
   "source": [
    "### 2. ConcreteComponent: clase principal"
   ]
  },
  {
   "cell_type": "code",
   "execution_count": 2,
   "id": "ed9ff8bd-b25f-41de-af08-53abb8275de6",
   "metadata": {},
   "outputs": [],
   "source": [
    "class Cafe implements Bebida {\n",
    "  getDescripcion(): string {\n",
    "    return \"Café\";\n",
    "  }\n",
    "\n",
    "  getCosto(): number {\n",
    "    return 5;\n",
    "  }\n",
    "}"
   ]
  },
  {
   "cell_type": "markdown",
   "id": "f11411be-fa74-4912-8af3-4661cc2b7c79",
   "metadata": {},
   "source": [
    "### 3. Decorator: clase base para decoradores"
   ]
  },
  {
   "cell_type": "code",
   "execution_count": 3,
   "id": "4b32bab1-efe4-4b60-b25e-8bc23ee7214c",
   "metadata": {},
   "outputs": [],
   "source": [
    "abstract class BebidaDecorator implements Bebida {\n",
    "  constructor(protected bebida: Bebida) {}\n",
    "\n",
    "  abstract getDescripcion(): string;\n",
    "  abstract getCosto(): number;\n",
    "}"
   ]
  },
  {
   "cell_type": "markdown",
   "id": "99817242-d9c0-465e-9b5a-41255c2d6ad8",
   "metadata": {},
   "source": [
    "### 4. ConcreteDecorators: decoradores concretos"
   ]
  },
  {
   "cell_type": "code",
   "execution_count": 4,
   "id": "672735a4-3712-49c0-af88-31a2d7ba82cb",
   "metadata": {},
   "outputs": [],
   "source": [
    "class LecheDecorator extends BebidaDecorator {\n",
    "  getDescripcion(): string {\n",
    "    return this.bebida.getDescripcion() + \" + leche\";\n",
    "  }\n",
    "\n",
    "  getCosto(): number {\n",
    "    return this.bebida.getCosto() + 1.5;\n",
    "  }\n",
    "}\n",
    "\n",
    "class ChocolateDecorator extends BebidaDecorator {\n",
    "  getDescripcion(): string {\n",
    "    return this.bebida.getDescripcion() + \" + chocolate\";\n",
    "  }\n",
    "\n",
    "  getCosto(): number {\n",
    "    return this.bebida.getCosto() + 2;\n",
    "  }\n",
    "}"
   ]
  },
  {
   "cell_type": "markdown",
   "id": "50267689-1a56-4549-a3cc-d36c3c6c3e50",
   "metadata": {},
   "source": [
    "### 5. Cliente"
   ]
  },
  {
   "cell_type": "code",
   "execution_count": 5,
   "id": "6890a153-70db-43b1-85ae-b00b4fbabcd4",
   "metadata": {},
   "outputs": [
    {
     "name": "stdout",
     "output_type": "stream",
     "text": [
      "Café + leche + chocolate\n",
      "Total: $8.5\n"
     ]
    }
   ],
   "source": [
    "let miBebida: Bebida = new Cafe(); // ☕ Café\n",
    "miBebida = new LecheDecorator(miBebida); // + 🥛 Leche\n",
    "miBebida = new ChocolateDecorator(miBebida); // + 🍫 Chocolate\n",
    "\n",
    "console.log(miBebida.getDescripcion()); // \"Café + leche + chocolate\"\n",
    "console.log(\"Total: $\" + miBebida.getCosto()); // Total: $8.5"
   ]
  },
  {
   "cell_type": "markdown",
   "id": "19195269-66a0-4af5-8344-61bc0d674aa6",
   "metadata": {},
   "source": [
    "## Ventajas del patrón Decorator\n",
    "| # | Ventaja                            | Descripción                                           |\n",
    "| - | ---------------------------------- | ----------------------------------------------------- |\n",
    "| 1 | 🧩 Extensión flexible              | Añade funcionalidades sin modificar clases existentes |\n",
    "| 2 | ♻️ Combina comportamientos         | Puedes usar múltiples decoradores en conjunto         |\n",
    "| 3 | 🧱 Respeta OCP (Open/Closed)       | Clases cerradas a modificación, abiertas a extensión  |\n",
    "| 4 | 🔧 Se puede aplicar en tiempo real | Composición dinámica según lo que necesite el cliente |"
   ]
  },
  {
   "cell_type": "markdown",
   "id": "95c044ef-6ddd-4277-abc7-86c0111f4030",
   "metadata": {},
   "source": [
    "## Desventajas\n",
    "| # | Desventaja                        | Descripción                                            |\n",
    "| - | --------------------------------- | ------------------------------------------------------ |\n",
    "| 1 | 🧠 Complejidad aumenta            | Puede volverse difícil seguir la cadena de decoradores |\n",
    "| 2 | 🧪 Dificulta pruebas y depuración | La lógica queda distribuida entre múltiples objetos    |\n",
    "| 3 | 📦 Muchas clases pequeñas         | Requiere una clase por cada tipo de decoración         |"
   ]
  },
  {
   "cell_type": "markdown",
   "id": "6309c35d-4965-4fdc-b3ab-abf392e2966f",
   "metadata": {},
   "source": [
    "## ¿Cuándo usar el patrón Decorator?\n",
    "Úsalo cuando:\n",
    "- Quieres añadir funcionalidades opcionales a objetos de forma dinámica.\n",
    "- No quieres o no puedes modificar una clase existente.\n",
    "- Hay múltiples combinaciones de comportamientos posibles y no quieres una explosión de subclases."
   ]
  },
  {
   "cell_type": "markdown",
   "id": "d5f425af-6776-4d81-bb2c-9450ef317009",
   "metadata": {},
   "source": [
    "## Ejemplos reales del patrón Decorator\n",
    "| Contexto            | Ejemplo                                        |\n",
    "| ------------------- | ---------------------------------------------- |\n",
    "| UI / HTML           | Elementos HTML envueltos con estilos y clases  |\n",
    "| Streams en Java     | `BufferedInputStream`, `DataInputStream`       |\n",
    "| Loggers             | Decorar logs con timestamps, niveles, colores  |\n",
    "| Cafeterías          | Base + leche + azúcar + canela...              |\n",
    "| Middlewares Express | Cada middleware \"decora\" la petición/respuesta |"
   ]
  }
 ],
 "metadata": {
  "kernelspec": {
   "display_name": "Deno",
   "language": "typescript",
   "name": "deno"
  },
  "language_info": {
   "codemirror_mode": "typescript",
   "file_extension": ".ts",
   "mimetype": "text/x.typescript",
   "name": "typescript",
   "nbconvert_exporter": "script",
   "pygments_lexer": "typescript",
   "version": "5.7.3"
  }
 },
 "nbformat": 4,
 "nbformat_minor": 5
}
