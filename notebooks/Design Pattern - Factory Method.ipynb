{
 "cells": [
  {
   "cell_type": "markdown",
   "id": "fbbd94be-f9ea-41ed-885a-975d2d6d834e",
   "metadata": {},
   "source": [
    "# Design Pattern: Factory Method"
   ]
  },
  {
   "cell_type": "markdown",
   "id": "a8b89538-b2b3-427a-83d4-22def871b0cd",
   "metadata": {},
   "source": [
    "El Factory Method Design Pattern (Patrón de Método de Fábrica) es un patrón de diseño creacional que proporciona una interfaz para crear objetos en una superclase, pero permite que las subclases decidan qué clase instanciar. En otras palabras, delega la creación de objetos a las subclases, permitiendo que el tipo de objeto que se crea sea determinado en tiempo de ejecución.\n",
    "\n",
    "Este patrón es útil cuando no se sabe de antemano qué tipo de objetos se van a crear, pero se quiere mantener una interfaz común para su creación."
   ]
  },
  {
   "cell_type": "markdown",
   "id": "82525c92-2b8b-4811-bfbb-e4d006e79611",
   "metadata": {},
   "source": [
    "## ¿Por qué se utiliza?\n",
    "- Desacoplar la creación de objetos del código que los utiliza.\n",
    "- Facilitar la extensión del sistema, permitiendo agregar nuevos tipos de objetos sin modificar el código existente.\n",
    "- Aplicar el principio de abierto/cerrado: el código está abierto para extensión, pero cerrado para modificación.\n",
    "- Para situaciones donde no sabemos de antemano qué clase exacta necesitaremos, pero sí sabemos que implementa cierta interfaz o clase base.\n",
    "- Es útil cuando el cliente no decide qué objeto obtendrá, es la fábrica quien decide, basado en criterios internos."
   ]
  },
  {
   "cell_type": "markdown",
   "id": "ac266b22-e1ff-439f-a65b-325d4ca88685",
   "metadata": {},
   "source": [
    "## Características clave\n",
    "- Involucra una clase base (abstracta o interfaz) que declara el método fábrica (factoryMethod()).\n",
    "- Las subclases implementan el método fábrica, devolviendo una instancia concreta.\n",
    "- Se trabaja con interfaces o clases abstractas, no con implementaciones concretas.\n",
    "- Favorece la inversión de dependencias: el código depende de abstracciones, no de concreciones."
   ]
  },
  {
   "cell_type": "markdown",
   "id": "1fe81b51-2e16-44c7-af68-1d90e3d2de1e",
   "metadata": {},
   "source": [
    "## Estructura básica\n",
    "\n",
    "### Interfaces\n",
    "\n",
    "- Product\n",
    "  - +operación(): void\n",
    "\n",
    "- Creator\n",
    "  - +factoryMethod(): Product\n",
    "  - +operation(): void\n",
    "\n",
    "### Implementaciones concretas\n",
    "\n",
    "- ConcreteProductA\n",
    "  - implementación de operación()\n",
    "\n",
    "- ConcreteProductB\n",
    "  - implementación de operación()\n",
    "\n",
    "- ConcreteCreatorA\n",
    "  - factoryMethod(): ConcreteProductA\n",
    "\n",
    "- ConcreteCreatorB\n",
    "  - factoryMethod(): ConcreteProductB"
   ]
  },
  {
   "cell_type": "markdown",
   "id": "5f1d789b-9c2c-41bb-a428-f69c0d9cac30",
   "metadata": {},
   "source": [
    "## Ejemplo real en TypeScript: Sistema de Notificaciones"
   ]
  },
  {
   "cell_type": "markdown",
   "id": "82358cc7-2c32-4442-8e27-53552e749118",
   "metadata": {},
   "source": [
    "### 1. Interfaz del producto"
   ]
  },
  {
   "cell_type": "code",
   "execution_count": 2,
   "id": "7932b353-7ba2-4b0c-9733-bef3bc9d020f",
   "metadata": {},
   "outputs": [],
   "source": [
    "// Notificacion.ts\n",
    "export interface Notificacion {\n",
    "  enviar(mensaje: string): void;\n",
    "}"
   ]
  },
  {
   "cell_type": "markdown",
   "id": "bb498fbb-9811-4fab-84ad-63f44648337e",
   "metadata": {},
   "source": [
    "### 2. Clases concretas del producto"
   ]
  },
  {
   "cell_type": "code",
   "execution_count": 3,
   "id": "6422c3a5-bd9b-40c6-9f8a-498d3c33b28b",
   "metadata": {},
   "outputs": [],
   "source": [
    "// NotificacionEmail.ts\n",
    "export class NotificacionEmail implements Notificacion {\n",
    "  enviar(mensaje: string): void {\n",
    "    console.log(`📧 Enviando email: ${mensaje}`);\n",
    "  }\n",
    "}\n",
    "\n",
    "// NotificacionSMS.ts\n",
    "export class NotificacionSMS implements Notificacion {\n",
    "  enviar(mensaje: string): void {\n",
    "    console.log(`📱 Enviando SMS: ${mensaje}`);\n",
    "  }\n",
    "}"
   ]
  },
  {
   "cell_type": "markdown",
   "id": "e4dc7fee-1622-4871-9994-39e00dc83c67",
   "metadata": {},
   "source": [
    "### 3. Creador abstracto"
   ]
  },
  {
   "cell_type": "code",
   "execution_count": 4,
   "id": "7aeafd8f-3e31-4f37-8d0b-a6a83b73196b",
   "metadata": {},
   "outputs": [],
   "source": [
    "// NotificacionCreator.ts\n",
    "export abstract class NotificacionCreator {\n",
    "  abstract crearNotificacion(): Notificacion;\n",
    "\n",
    "  enviarMensaje(mensaje: string): void {\n",
    "    const notificacion = this.crearNotificacion();\n",
    "    notificacion.enviar(mensaje);\n",
    "  }\n",
    "}"
   ]
  },
  {
   "cell_type": "markdown",
   "id": "e5863816-5d92-4d0d-bb8c-c968763b59a2",
   "metadata": {},
   "source": [
    "### 4. Creadores concretos"
   ]
  },
  {
   "cell_type": "code",
   "execution_count": 5,
   "id": "70121d28-7619-45c2-848e-c1e895ba5d67",
   "metadata": {},
   "outputs": [],
   "source": [
    "// EmailNotificacionCreator.ts\n",
    "export class EmailNotificacionCreator extends NotificacionCreator {\n",
    "  crearNotificacion(): Notificacion {\n",
    "    return new NotificacionEmail();\n",
    "  }\n",
    "}\n",
    "\n",
    "// SMSNotificacionCreator.ts\n",
    "export class SMSNotificacionCreator extends NotificacionCreator {\n",
    "  crearNotificacion(): Notificacion {\n",
    "    return new NotificacionSMS();\n",
    "  }\n",
    "}"
   ]
  },
  {
   "cell_type": "markdown",
   "id": "82bcbfe1-e95f-42e7-99b7-51ca48f56cad",
   "metadata": {},
   "source": [
    "### 5. Cliente"
   ]
  },
  {
   "cell_type": "code",
   "execution_count": 6,
   "id": "dfecea5f-0e4f-448c-b096-e3ccf73ae5a5",
   "metadata": {},
   "outputs": [
    {
     "name": "stdout",
     "output_type": "stream",
     "text": [
      "📧 Enviando email: ¡Hola! Este es un mensaje importante.\n",
      "📱 Enviando SMS: ¡Hola! Este es un mensaje importante.\n"
     ]
    }
   ],
   "source": [
    "// main.ts\n",
    "function cliente(creator: NotificacionCreator) {\n",
    "  creator.enviarMensaje(\"¡Hola! Este es un mensaje importante.\");\n",
    "}\n",
    "\n",
    "// Probando con email\n",
    "cliente(new EmailNotificacionCreator()); // 📧 Enviando email: ¡Hola! Este es un mensaje importante.\n",
    "\n",
    "// Probando con SMS\n",
    "cliente(new SMSNotificacionCreator()); // 📱 Enviando SMS: ¡Hola! Este es un mensaje importante."
   ]
  },
  {
   "cell_type": "markdown",
   "id": "7b3f6d99-b194-4fa4-85da-2cf228d69e38",
   "metadata": {},
   "source": [
    "| # | Ventaja                                    | Descripción                                                                 |\n",
    "| - | ------------------------------------------ | --------------------------------------------------------------------------- |\n",
    "| 1 | 🔄 Desacopla creación y uso                | El cliente no necesita saber qué clase concreta se está instanciando.       |\n",
    "| 2 | 🧱 Principio abierto/cerrado (OCP)         | Puedes agregar nuevas clases sin modificar el código existente.             |\n",
    "| 3 | ♻️ Reutilización de lógica común           | La clase base puede contener lógica compartida entre subclases.             |\n",
    "| 4 | 🔧 Fácil extensión y mantenimiento         | Nuevas variantes se agregan creando nuevas subclases, sin alterar lo viejo. |\n",
    "| 5 | 🧩 Encapsula la lógica de instanciación    | Permite manejar la creación compleja dentro del método fábrica.             |\n",
    "| 6 | 🛠️ Soporta personalización en la creación | Puedes aplicar validaciones, cachés, logs, etc., al crear el objeto.        |\n",
    "| 7 | 🤝 Favorece la inversión de dependencias   | El cliente depende de interfaces o abstracciones, no de clases concretas.   |\n",
    "| 8 | 🧪 Facilita pruebas                        | Puedes sustituir fácilmente las fábricas con mocks o stubs para testeo.     |"
   ]
  },
  {
   "cell_type": "markdown",
   "id": "c15385c2-13f4-4b0c-939f-c71dde14454d",
   "metadata": {},
   "source": [
    "## ⚠️ Cuándo NO usarlo\n",
    "- Si solo necesitas una o dos instancias de clases simples, puede ser innecesariamente complejo.\n",
    "- Si el tipo a crear no va a cambiar ni se va a extender, es mejor instanciar directamente."
   ]
  },
  {
   "cell_type": "markdown",
   "id": "f9b1d18a-3b50-454d-adc8-82134857b2e0",
   "metadata": {},
   "source": [
    "| Concepto                 | Factory Method                      | Abstract Factory                                       |\n",
    "| ------------------------ | ----------------------------------- | ------------------------------------------------------ |\n",
    "| 🔧 Crea...               | Un solo producto                    | Varias familias de productos relacionados              |\n",
    "| 📦 Relación de productos | No necesariamente                   | Sí, los productos deben ser compatibles                |\n",
    "| 🧱 Basado en...          | Herencia                            | Composición                                            |\n",
    "| 🧩 Uso común en...       | Subclases que varían un solo objeto | Sistemas que deben crear múltiples objetos compatibles |"
   ]
  }
 ],
 "metadata": {
  "kernelspec": {
   "display_name": "Deno",
   "language": "typescript",
   "name": "deno"
  },
  "language_info": {
   "codemirror_mode": "typescript",
   "file_extension": ".ts",
   "mimetype": "text/x.typescript",
   "name": "typescript",
   "nbconvert_exporter": "script",
   "pygments_lexer": "typescript",
   "version": "5.7.3"
  }
 },
 "nbformat": 4,
 "nbformat_minor": 5
}
