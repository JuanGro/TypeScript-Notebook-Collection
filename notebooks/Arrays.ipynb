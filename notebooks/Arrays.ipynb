{
 "cells": [
  {
   "cell_type": "markdown",
   "id": "2daa6d32-c1d4-4dde-a500-19e59d07af4a",
   "metadata": {},
   "source": [
    "# Arrays"
   ]
  },
  {
   "cell_type": "code",
   "execution_count": 1,
   "id": "3f0b2c24-0561-4390-b3de-26eb14d67950",
   "metadata": {},
   "outputs": [],
   "source": [
    "let hobbies = ['Sports', 'Cooking'];"
   ]
  },
  {
   "cell_type": "code",
   "execution_count": 2,
   "id": "dd3d22f8-9f6a-4f97-a892-12e998d8a1f4",
   "metadata": {},
   "outputs": [],
   "source": [
    "// hobbies.push(10); // Not possible in TS because the array is string[]!"
   ]
  },
  {
   "cell_type": "code",
   "execution_count": 4,
   "id": "87e9fd26-4fa7-4cc1-9d5d-e87238967817",
   "metadata": {},
   "outputs": [
    {
     "data": {
      "text/plain": [
       "[ \u001b[32m\"Sports\"\u001b[39m, \u001b[32m\"Cooking\"\u001b[39m ]"
      ]
     },
     "execution_count": 4,
     "metadata": {},
     "output_type": "execute_result"
    }
   ],
   "source": [
    "hobbies"
   ]
  },
  {
   "cell_type": "code",
   "execution_count": 5,
   "id": "c8d64fa0-54da-4458-97f2-aae329fa76ac",
   "metadata": {},
   "outputs": [],
   "source": [
    "let hobbies2: string[] = ['Sports', 'Cooking'];"
   ]
  },
  {
   "cell_type": "code",
   "execution_count": 7,
   "id": "f0287611-2c27-478d-8190-6193f6c227e8",
   "metadata": {},
   "outputs": [
    {
     "data": {
      "text/plain": [
       "[ \u001b[32m\"Sports\"\u001b[39m, \u001b[32m\"Cooking\"\u001b[39m ]"
      ]
     },
     "execution_count": 7,
     "metadata": {},
     "output_type": "execute_result"
    }
   ],
   "source": [
    "hobbies2"
   ]
  },
  {
   "cell_type": "code",
   "execution_count": 8,
   "id": "73f17f03-3f35-46c7-ad37-676a5c1e98be",
   "metadata": {},
   "outputs": [],
   "source": [
    "let users: (string | number)[];"
   ]
  },
  {
   "cell_type": "code",
   "execution_count": 9,
   "id": "1fe76261-7c10-4973-928e-1e26c7b64f0d",
   "metadata": {},
   "outputs": [
    {
     "data": {
      "text/plain": [
       "[ \u001b[33m1\u001b[39m, \u001b[32m\"Max\"\u001b[39m ]"
      ]
     },
     "execution_count": 9,
     "metadata": {},
     "output_type": "execute_result"
    }
   ],
   "source": [
    "users = [1, 'Max'];"
   ]
  },
  {
   "cell_type": "code",
   "execution_count": 10,
   "id": "049fc9a2-3b62-45a0-808b-ed6f7eb8585e",
   "metadata": {},
   "outputs": [],
   "source": [
    "let users: Array<string | number>;"
   ]
  },
  {
   "cell_type": "code",
   "execution_count": 11,
   "id": "2221bb13-bea5-4082-a540-dfb03c8bd456",
   "metadata": {},
   "outputs": [
    {
     "data": {
      "text/plain": [
       "[ \u001b[33m1\u001b[39m, \u001b[32m\"Max\"\u001b[39m ]"
      ]
     },
     "execution_count": 11,
     "metadata": {},
     "output_type": "execute_result"
    }
   ],
   "source": [
    "users = [1, 'Max'];"
   ]
  }
 ],
 "metadata": {
  "kernelspec": {
   "display_name": "Deno",
   "language": "typescript",
   "name": "deno"
  },
  "language_info": {
   "codemirror_mode": "typescript",
   "file_extension": ".ts",
   "mimetype": "text/x.typescript",
   "name": "typescript",
   "nbconvert_exporter": "script",
   "pygments_lexer": "typescript",
   "version": "5.7.3"
  }
 },
 "nbformat": 4,
 "nbformat_minor": 5
}
