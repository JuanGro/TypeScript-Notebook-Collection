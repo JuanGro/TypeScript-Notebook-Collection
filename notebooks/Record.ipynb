{
 "cells": [
  {
   "cell_type": "markdown",
   "id": "19b23c3d-5933-43fa-80c5-bb8c7ed7a0b3",
   "metadata": {},
   "source": [
    "# Record\n",
    "In TypeScript, Record is a utility type that helps you define objects with specific keys and values of a specified type. The Record<K, T> type is a shortcut for defining an object type where K represents the keys, and T represents the value type for those keys."
   ]
  },
  {
   "cell_type": "code",
   "execution_count": 4,
   "id": "99aa92a9-3577-4892-a014-5711939c5fbc",
   "metadata": {},
   "outputs": [
    {
     "data": {
      "text/plain": [
       "{ Alice: \u001b[33m95\u001b[39m, Bob: \u001b[33m88\u001b[39m, Charlie: \u001b[33m72\u001b[39m }"
      ]
     },
     "execution_count": 4,
     "metadata": {},
     "output_type": "execute_result"
    }
   ],
   "source": [
    "// Record with string keys and number values\n",
    "const scores: Record<string, number> = {\n",
    "  Alice: 95,\n",
    "  Bob: 88,\n",
    "  Charlie: 72,\n",
    "};\n",
    "scores"
   ]
  },
  {
   "cell_type": "code",
   "execution_count": 5,
   "id": "93515870-2dc8-4126-a412-9bd410b98973",
   "metadata": {},
   "outputs": [
    {
     "data": {
      "text/plain": [
       "{ red: \u001b[32m\"#FF0000\"\u001b[39m, green: \u001b[32m\"#00FF00\"\u001b[39m, blue: \u001b[32m\"#0000FF\"\u001b[39m }"
      ]
     },
     "execution_count": 5,
     "metadata": {},
     "output_type": "execute_result"
    }
   ],
   "source": [
    "// Record with specific string keys and string values\n",
    "type Colors = 'red' | 'green' | 'blue';\n",
    "\n",
    "const colorHexCodes: Record<Colors, string> = {\n",
    "  red: '#FF0000',\n",
    "  green: '#00FF00',\n",
    "  blue: '#0000FF',\n",
    "};\n",
    "\n",
    "colorHexCodes"
   ]
  },
  {
   "cell_type": "code",
   "execution_count": 7,
   "id": "489fa3a1-fdbe-4284-af28-3d6c75ff005f",
   "metadata": {},
   "outputs": [
    {
     "data": {
      "text/plain": [
       "{ john: { name: \u001b[32m\"John\"\u001b[39m, age: \u001b[33m30\u001b[39m }, jane: { name: \u001b[32m\"Jane\"\u001b[39m, age: \u001b[33m25\u001b[39m } }"
      ]
     },
     "execution_count": 7,
     "metadata": {},
     "output_type": "execute_result"
    }
   ],
   "source": [
    "// Record with string keys and object values\n",
    "type Person = {\n",
    "  name: string;\n",
    "  age: number;\n",
    "};\n",
    "\n",
    "const people: Record<string, Person> = {\n",
    "  john: { name: 'John', age: 30 },\n",
    "  jane: { name: 'Jane', age: 25 },\n",
    "};\n",
    "\n",
    "people"
   ]
  },
  {
   "cell_type": "markdown",
   "id": "e2af16ba-f717-4c90-822d-774b144d954d",
   "metadata": {},
   "source": [
    "## satisfies"
   ]
  },
  {
   "cell_type": "markdown",
   "id": "aaee6492-46f1-4a80-b36f-dac73a74bbc0",
   "metadata": {},
   "source": [
    "The satisfies operator, introduced in TypeScript 4.9, is a type assertion operator that allows you to check whether a given value conforms to a specific type without changing its inferred type. This helps in ensuring that a value adheres to a type but doesn't force it to match exactly."
   ]
  },
  {
   "cell_type": "code",
   "execution_count": 8,
   "id": "4d14f33f-00af-4290-b973-0663e473e2d9",
   "metadata": {},
   "outputs": [],
   "source": [
    "type Person = {\n",
    "  name: string;\n",
    "  age: number;\n",
    "};\n",
    "\n",
    "// Record Example\n",
    "const people: Record<string, Person> = {\n",
    "  john: { name: \"John\", age: 30 },\n",
    "  jane: { name: \"Jane\", age: 25 },\n",
    "};\n",
    "\n",
    "// satisfies Example\n",
    "const someone = { name: \"Alice\", age: 28, city: \"Paris\" } satisfies Person;"
   ]
  },
  {
   "cell_type": "markdown",
   "id": "8e0b7de0-3be9-421f-af66-1a6d5b4435a7",
   "metadata": {},
   "source": [
    "In this example, john satisfies the Person type because it contains all the properties of Person (i.e., name and age). However, we can still allow extra properties like city. The satisfies operator ensures that the object matches the type but doesn’t affect the inference of additional properties."
   ]
  }
 ],
 "metadata": {
  "kernelspec": {
   "display_name": "Deno",
   "language": "typescript",
   "name": "deno"
  },
  "language_info": {
   "codemirror_mode": "typescript",
   "file_extension": ".ts",
   "mimetype": "text/x.typescript",
   "name": "typescript",
   "nbconvert_exporter": "script",
   "pygments_lexer": "typescript",
   "version": "5.7.3"
  }
 },
 "nbformat": 4,
 "nbformat_minor": 5
}
