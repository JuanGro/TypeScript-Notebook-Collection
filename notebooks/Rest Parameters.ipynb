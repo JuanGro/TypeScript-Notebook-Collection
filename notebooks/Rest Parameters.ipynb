{
 "cells": [
  {
   "cell_type": "markdown",
   "id": "dbe96e25-7139-4532-a16b-b181367368a6",
   "metadata": {},
   "source": [
    "# Rest Parameters"
   ]
  },
  {
   "cell_type": "code",
   "execution_count": 3,
   "id": "df199733-fc59-4538-acf5-8fe3ce9ca13b",
   "metadata": {},
   "outputs": [],
   "source": [
    "const add = (...numbers: number[]): number => {\n",
    "    return numbers.reduce((curResult, curValue) => {\n",
    "        return curResult + curValue;\n",
    "    }, 0);\n",
    "};"
   ]
  },
  {
   "cell_type": "code",
   "execution_count": 4,
   "id": "6d8f3810-48fc-4737-93c2-4cfb82d45d80",
   "metadata": {},
   "outputs": [
    {
     "data": {
      "text/plain": [
       "\u001b[33m20.7\u001b[39m"
      ]
     },
     "execution_count": 4,
     "metadata": {},
     "output_type": "execute_result"
    }
   ],
   "source": [
    "const addedNumbers = add(5, 10, 2, 3.7);\n",
    "addedNumbers"
   ]
  }
 ],
 "metadata": {
  "kernelspec": {
   "display_name": "Deno",
   "language": "typescript",
   "name": "deno"
  },
  "language_info": {
   "codemirror_mode": "typescript",
   "file_extension": ".ts",
   "mimetype": "text/x.typescript",
   "name": "typescript",
   "nbconvert_exporter": "script",
   "pygments_lexer": "typescript",
   "version": "5.7.3"
  }
 },
 "nbformat": 4,
 "nbformat_minor": 5
}
