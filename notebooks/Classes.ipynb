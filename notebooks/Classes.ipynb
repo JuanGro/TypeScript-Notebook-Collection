{
 "cells": [
  {
   "cell_type": "markdown",
   "id": "918aaec7-6356-4aae-8360-263f1301d7ac",
   "metadata": {},
   "source": [
    "# Classes"
   ]
  },
  {
   "cell_type": "markdown",
   "id": "8550dd14-560e-41d1-b73b-1da7e9deb3f1",
   "metadata": {},
   "source": [
    "## Large version"
   ]
  },
  {
   "cell_type": "code",
   "execution_count": 1,
   "id": "2ca6ba83-1be6-4651-8dbc-57869f4bd645",
   "metadata": {},
   "outputs": [],
   "source": [
    "class User {\n",
    "    name: string;\n",
    "    age: number;\n",
    "\n",
    "    constructor(n: string, a: number) {\n",
    "        this.name = n;\n",
    "        this.age = a;\n",
    "    }\n",
    "}"
   ]
  },
  {
   "cell_type": "markdown",
   "id": "5b6142df-5c5d-495b-9ba9-2e5dca172976",
   "metadata": {},
   "source": [
    "## Short version"
   ]
  },
  {
   "cell_type": "code",
   "execution_count": 8,
   "id": "94e2cfba-ed11-4d16-90c0-86536f9ebede",
   "metadata": {},
   "outputs": [],
   "source": [
    "class User {\n",
    "    constructor(public name: string, private age: number) { // This \"public\" reduces code!\n",
    "    }\n",
    "}"
   ]
  },
  {
   "cell_type": "code",
   "execution_count": 9,
   "id": "b4a2a896-3eb6-428a-b525-8c5958bd3b20",
   "metadata": {},
   "outputs": [
    {
     "data": {
      "text/plain": [
       "User { name: \u001b[32m\"Max\"\u001b[39m, age: \u001b[33m30\u001b[39m }"
      ]
     },
     "execution_count": 9,
     "metadata": {},
     "output_type": "execute_result"
    }
   ],
   "source": [
    "const max = new User('Max', 30);\n",
    "max"
   ]
  },
  {
   "cell_type": "code",
   "execution_count": 10,
   "id": "b440261b-580d-4a0e-ad30-c9610ccd3065",
   "metadata": {},
   "outputs": [
    {
     "data": {
      "text/plain": [
       "\u001b[32m\"John\"\u001b[39m"
      ]
     },
     "execution_count": 10,
     "metadata": {},
     "output_type": "execute_result"
    }
   ],
   "source": [
    "max.name = \"John\";"
   ]
  },
  {
   "cell_type": "code",
   "execution_count": 13,
   "id": "385f189c-176e-4323-94be-0f9f48a8712c",
   "metadata": {},
   "outputs": [
    {
     "data": {
      "text/plain": [
       "\u001b[33m31\u001b[39m"
      ]
     },
     "execution_count": 13,
     "metadata": {},
     "output_type": "execute_result"
    }
   ],
   "source": [
    "max.age = 31; // This is not possible! The notebook is not working correctly"
   ]
  },
  {
   "cell_type": "code",
   "execution_count": 14,
   "id": "15e9368a-770f-4043-94c0-fc99264f6328",
   "metadata": {},
   "outputs": [
    {
     "data": {
      "text/plain": [
       "User { name: \u001b[32m\"John\"\u001b[39m, age: \u001b[33m31\u001b[39m }"
      ]
     },
     "execution_count": 14,
     "metadata": {},
     "output_type": "execute_result"
    }
   ],
   "source": [
    "max"
   ]
  },
  {
   "cell_type": "markdown",
   "id": "2b98942f-df98-40f0-842a-e86d2b50a1db",
   "metadata": {},
   "source": [
    "## readonly"
   ]
  },
  {
   "cell_type": "code",
   "execution_count": 16,
   "id": "4f2fd1c7-cb9f-44b8-b5fe-7eb1de1e7498",
   "metadata": {},
   "outputs": [],
   "source": [
    "class User {\n",
    "    readonly hobbies: string[] = [];\n",
    "\n",
    "    constructor(public name: string, private age: number) { // This \"public\" reduces code!\n",
    "    }\n",
    "}"
   ]
  },
  {
   "cell_type": "code",
   "execution_count": 18,
   "id": "37fe8ad0-0f2a-437d-bb23-ad422efe14a2",
   "metadata": {},
   "outputs": [
    {
     "data": {
      "text/plain": [
       "User { name: \u001b[32m\"John\"\u001b[39m, age: \u001b[33m30\u001b[39m, hobbies: [] }"
      ]
     },
     "execution_count": 18,
     "metadata": {},
     "output_type": "execute_result"
    }
   ],
   "source": [
    "const john = new User('John', 30);\n",
    "john"
   ]
  },
  {
   "cell_type": "code",
   "execution_count": 20,
   "id": "a6ce3155-6907-49bd-8037-8aae200d095e",
   "metadata": {},
   "outputs": [
    {
     "data": {
      "text/plain": [
       "[ \u001b[32m\"Sports\"\u001b[39m ]"
      ]
     },
     "execution_count": 20,
     "metadata": {},
     "output_type": "execute_result"
    }
   ],
   "source": [
    "john.hobbies = ['Sports']; // This is not possible! The notebook is not working correctly"
   ]
  },
  {
   "cell_type": "code",
   "execution_count": 21,
   "id": "0a757861-6740-4616-81a0-4d820b05e30a",
   "metadata": {},
   "outputs": [
    {
     "data": {
      "text/plain": [
       "\u001b[33m2\u001b[39m"
      ]
     },
     "execution_count": 21,
     "metadata": {},
     "output_type": "execute_result"
    }
   ],
   "source": [
    "john.hobbies.push('Cooking'); // This is possible because you're just pushing an object but not changing the memory allocation"
   ]
  },
  {
   "cell_type": "markdown",
   "id": "ecd38da0-da2b-4706-bb06-0a7004e44c6a",
   "metadata": {},
   "source": [
    "## getters/setters"
   ]
  },
  {
   "cell_type": "code",
   "execution_count": 22,
   "id": "a6a301b7-c5c0-401d-81b3-12b11f2bb935",
   "metadata": {},
   "outputs": [],
   "source": [
    "class User {\n",
    "    constructor(private firstName: string, private lastName: string) {}\n",
    "\n",
    "    get fullName() {\n",
    "        return this.firstName + ' ' + this.lastName;\n",
    "    }\n",
    "}"
   ]
  },
  {
   "cell_type": "code",
   "execution_count": 24,
   "id": "a20972a9-d16d-439f-a440-d880a5145325",
   "metadata": {},
   "outputs": [
    {
     "data": {
      "text/plain": [
       "User { firstName: \u001b[32m\"Max\"\u001b[39m, lastName: \u001b[32m\"Willson\"\u001b[39m }"
      ]
     },
     "execution_count": 24,
     "metadata": {},
     "output_type": "execute_result"
    }
   ],
   "source": [
    "const max = new User('Max', 'Willson');\n",
    "max"
   ]
  },
  {
   "cell_type": "code",
   "execution_count": 25,
   "id": "f8fc8c77-a264-499d-80ff-8ad2eb2e2fd1",
   "metadata": {},
   "outputs": [
    {
     "data": {
      "text/plain": [
       "\u001b[32m\"Max Willson\"\u001b[39m"
      ]
     },
     "execution_count": 25,
     "metadata": {},
     "output_type": "execute_result"
    }
   ],
   "source": [
    "max.fullName"
   ]
  },
  {
   "cell_type": "code",
   "execution_count": 26,
   "id": "2f776d57-d52e-4cea-b278-eed9a3e207bb",
   "metadata": {},
   "outputs": [],
   "source": [
    "class User {\n",
    "    private _firstName: string = '';\n",
    "    private _lastName: string = '';\n",
    "\n",
    "    set firstName(name: string) {\n",
    "        if (name.trim() === '') {\n",
    "            throw new Error('Invalid name');\n",
    "        }\n",
    "        this._firstName = name;\n",
    "    }\n",
    "\n",
    "    set lastName(name: string) {\n",
    "        if (name.trim() === '') {\n",
    "            throw new Error('Invalid name');\n",
    "        }\n",
    "        this._lastName = name;\n",
    "    }\n",
    "\n",
    "    get fullName() {\n",
    "        return this._firstName + ' ' + this._lastName;\n",
    "    }\n",
    "}"
   ]
  },
  {
   "cell_type": "code",
   "execution_count": 27,
   "id": "3ee6299c-cdf9-4af1-aeba-8736ae796e24",
   "metadata": {},
   "outputs": [],
   "source": [
    "const max = new User();"
   ]
  },
  {
   "cell_type": "code",
   "execution_count": 28,
   "id": "27e14dce-3d71-46e6-8793-d3734cf3fbe9",
   "metadata": {},
   "outputs": [
    {
     "data": {
      "text/plain": [
       "\u001b[32m\"Max\"\u001b[39m"
      ]
     },
     "execution_count": 28,
     "metadata": {},
     "output_type": "execute_result"
    }
   ],
   "source": [
    "max.firstName = 'Max';"
   ]
  },
  {
   "cell_type": "code",
   "execution_count": 30,
   "id": "5d48202f-5052-429d-bcea-5b2e05ad973d",
   "metadata": {},
   "outputs": [
    {
     "data": {
      "text/plain": [
       "\u001b[32m\"Willson\"\u001b[39m"
      ]
     },
     "execution_count": 30,
     "metadata": {},
     "output_type": "execute_result"
    }
   ],
   "source": [
    "max.lastName = 'Willson';"
   ]
  },
  {
   "cell_type": "markdown",
   "id": "08053561-5063-4efe-9f82-1d66dd8bb557",
   "metadata": {},
   "source": [
    "## static"
   ]
  },
  {
   "cell_type": "code",
   "execution_count": 34,
   "id": "190160ca-03d8-4da6-9ecf-567e8826c256",
   "metadata": {},
   "outputs": [],
   "source": [
    "class User {\n",
    "    static eid = 'USER';\n",
    "\n",
    "    static greet(message: string) {\n",
    "        console.log(message);\n",
    "    }\n",
    "}"
   ]
  },
  {
   "cell_type": "code",
   "execution_count": 33,
   "id": "11ff14c6-f46b-4d1f-a938-6749890251e5",
   "metadata": {},
   "outputs": [
    {
     "data": {
      "text/plain": [
       "\u001b[32m\"USER\"\u001b[39m"
      ]
     },
     "execution_count": 33,
     "metadata": {},
     "output_type": "execute_result"
    }
   ],
   "source": [
    "User.eid"
   ]
  },
  {
   "cell_type": "code",
   "execution_count": 35,
   "id": "0096077f-40b5-4f4f-8516-a98da73ba224",
   "metadata": {},
   "outputs": [
    {
     "name": "stdout",
     "output_type": "stream",
     "text": [
      "Hi\n"
     ]
    }
   ],
   "source": [
    "User.greet('Hi');"
   ]
  },
  {
   "cell_type": "markdown",
   "id": "d620c95c-fd3c-4145-b124-d282437d7e11",
   "metadata": {},
   "source": [
    "## Inheritance"
   ]
  },
  {
   "cell_type": "code",
   "execution_count": 40,
   "id": "1434791b-9780-4840-898a-bb06cdce751f",
   "metadata": {},
   "outputs": [],
   "source": [
    "class User {\n",
    "    protected _firstName: string = '';\n",
    "    private _lastName: string = '';\n",
    "\n",
    "    set firstName(name: string) {\n",
    "        if (name.trim() === '') {\n",
    "            throw new Error('Invalid name');\n",
    "        }\n",
    "        this._firstName = name;\n",
    "    }\n",
    "\n",
    "    set lastName(name: string) {\n",
    "        if (name.trim() === '') {\n",
    "            throw new Error('Invalid name');\n",
    "        }\n",
    "        this._lastName = name;\n",
    "    }\n",
    "\n",
    "    get fullName() {\n",
    "        return this._firstName + ' ' + this._lastName;\n",
    "    }\n",
    "\n",
    "    static eid = 'USER';\n",
    "\n",
    "    static greet(message: string) {\n",
    "        console.log(message);\n",
    "    }\n",
    "}"
   ]
  },
  {
   "cell_type": "code",
   "execution_count": 45,
   "id": "8c86b779-0d47-473c-9cea-430cc24438d4",
   "metadata": {},
   "outputs": [],
   "source": [
    "class Employee extends User {\n",
    "    constructor(public jobTitle: string) {\n",
    "        super();\n",
    "        super.firstName = 'Joe';\n",
    "    }\n",
    "\n",
    "    work() {\n",
    "        console.log(`${this._firstName} is a ${this.jobTitle}`);\n",
    "    }\n",
    "}"
   ]
  },
  {
   "cell_type": "code",
   "execution_count": 46,
   "id": "e3cc61e4-5e4b-4a17-a942-96eb1e76ccd7",
   "metadata": {},
   "outputs": [
    {
     "data": {
      "text/plain": [
       "Employee { _firstName: \u001b[32m\"Joe\"\u001b[39m, _lastName: \u001b[32m\"\"\u001b[39m, jobTitle: \u001b[32m\"doctor\"\u001b[39m }"
      ]
     },
     "execution_count": 46,
     "metadata": {},
     "output_type": "execute_result"
    }
   ],
   "source": [
    "const joe = new Employee('doctor');\n",
    "joe"
   ]
  },
  {
   "cell_type": "code",
   "execution_count": 47,
   "id": "33507218-d4e6-4f78-8a4f-2c70434ac608",
   "metadata": {},
   "outputs": [
    {
     "name": "stdout",
     "output_type": "stream",
     "text": [
      "Joe is a doctor\n"
     ]
    }
   ],
   "source": [
    "joe.work();"
   ]
  },
  {
   "cell_type": "markdown",
   "id": "6fcabbcc-3458-4157-881f-986ff06451bd",
   "metadata": {},
   "source": [
    "## abstract"
   ]
  },
  {
   "cell_type": "markdown",
   "id": "84ce30dc-9868-481d-9ceb-81a0fc1f7f0d",
   "metadata": {},
   "source": [
    "It cannot be used to instantiate an object, only with inheritance!"
   ]
  },
  {
   "cell_type": "code",
   "execution_count": 48,
   "id": "c4ad0c93-96ab-4236-aa77-949d2cf9fdb4",
   "metadata": {},
   "outputs": [],
   "source": [
    "abstract class UIElement {\n",
    "    constructor(public identifier: string) {}\n",
    "\n",
    "    clone(targetLocation: string) {\n",
    "        // Logic to duplicate the UI element\n",
    "    }\n",
    "}"
   ]
  },
  {
   "cell_type": "code",
   "execution_count": 53,
   "id": "b27f2f9d-8a61-4643-a8df-8ed340b6d9b8",
   "metadata": {},
   "outputs": [
    {
     "ename": "SyntaxError",
     "evalue": "Identifier 'uiElement' has already been declared",
     "output_type": "error",
     "traceback": [
      "Stack trace:",
      "SyntaxError: Identifier 'uiElement' has already been declared"
     ]
    }
   ],
   "source": [
    "const uiElement = new UIElement(); // This is not possible! The notebook is not working correctly"
   ]
  },
  {
   "cell_type": "code",
   "execution_count": 52,
   "id": "4121ffba-ecb9-4491-ad23-c88a352d1eb3",
   "metadata": {},
   "outputs": [],
   "source": [
    "class SideDrawerElement extends UIElement {\n",
    "    constructor(public identifier: string, public position: 'left' | 'right') {\n",
    "        super(identifier);\n",
    "    }\n",
    "}"
   ]
  },
  {
   "cell_type": "code",
   "execution_count": 54,
   "id": "e1c8ef66-18ad-4d90-a022-13b33db82f60",
   "metadata": {},
   "outputs": [
    {
     "data": {
      "text/plain": [
       "SideDrawerElement { identifier: \u001b[32m\"ul\"\u001b[39m, position: \u001b[32m\"left\"\u001b[39m }"
      ]
     },
     "execution_count": 54,
     "metadata": {},
     "output_type": "execute_result"
    }
   ],
   "source": [
    "const sideElement = new SideDrawerElement('ul', 'left');\n",
    "sideElement"
   ]
  }
 ],
 "metadata": {
  "kernelspec": {
   "display_name": "Deno",
   "language": "typescript",
   "name": "deno"
  },
  "language_info": {
   "codemirror_mode": "typescript",
   "file_extension": ".ts",
   "mimetype": "text/x.typescript",
   "name": "typescript",
   "nbconvert_exporter": "script",
   "pygments_lexer": "typescript",
   "version": "5.7.3"
  }
 },
 "nbformat": 4,
 "nbformat_minor": 5
}
