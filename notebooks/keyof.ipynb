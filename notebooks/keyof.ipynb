{
 "cells": [
  {
   "cell_type": "markdown",
   "id": "4f08a36a-f921-4f08-a7ee-c67b2ee6877b",
   "metadata": {},
   "source": [
    "# keyof\n",
    "keyof: Works on types (interfaces or type aliases) and gives you a *union of keys* (property names).\n",
    "\n",
    "Union: `type MyUnion = Type1 | Type2 | Type3;`"
   ]
  },
  {
   "cell_type": "code",
   "execution_count": 1,
   "id": "b7086670-ce3c-4aa9-b87a-c0ce2f047d32",
   "metadata": {},
   "outputs": [],
   "source": [
    "type User = { name: string; age: number };"
   ]
  },
  {
   "cell_type": "code",
   "execution_count": 2,
   "id": "928cdca4-d92d-4706-8ace-361f1c1a3fbd",
   "metadata": {},
   "outputs": [],
   "source": [
    "type UserKeys = keyof User;"
   ]
  },
  {
   "cell_type": "code",
   "execution_count": 3,
   "id": "861fbd30-53b8-40be-94f1-d9b9560f737f",
   "metadata": {},
   "outputs": [],
   "source": [
    "let validKey: UserKeys;"
   ]
  },
  {
   "cell_type": "code",
   "execution_count": 5,
   "id": "ad43154a-d4f4-4ac4-8b93-1a7d7b0f1f2f",
   "metadata": {},
   "outputs": [
    {
     "data": {
      "text/plain": [
       "\u001b[32m\"name\"\u001b[39m"
      ]
     },
     "execution_count": 5,
     "metadata": {},
     "output_type": "execute_result"
    }
   ],
   "source": [
    "validKey = 'name';"
   ]
  },
  {
   "cell_type": "code",
   "execution_count": 7,
   "id": "b07ff0c8-db35-43a2-b1de-efee0407f0a8",
   "metadata": {},
   "outputs": [
    {
     "data": {
      "text/plain": [
       "\u001b[32m\"age\"\u001b[39m"
      ]
     },
     "execution_count": 7,
     "metadata": {},
     "output_type": "execute_result"
    }
   ],
   "source": [
    "validKey = 'age';"
   ]
  },
  {
   "cell_type": "code",
   "execution_count": 12,
   "id": "c8e0f783-11de-42bf-bb86-4915e2812d60",
   "metadata": {},
   "outputs": [],
   "source": [
    "function getProp<T extends object, U extends keyof T>(obj: T, key: U) {\n",
    "    const val = obj[key];\n",
    "\n",
    "    if (val === undefined || val === null) {\n",
    "        throw new Error('Accessing undefined or null value.');\n",
    "    }\n",
    "\n",
    "    return val;\n",
    "}"
   ]
  },
  {
   "cell_type": "code",
   "execution_count": 13,
   "id": "a9afd43b-11ab-4651-ba7a-8b2b8e27e3de",
   "metadata": {},
   "outputs": [],
   "source": [
    "const data = { id: 1, isStored: false, values: [1, -5, 10] };"
   ]
  },
  {
   "cell_type": "code",
   "execution_count": 14,
   "id": "ee50935d-9d21-4b07-8858-1b234d615fc7",
   "metadata": {},
   "outputs": [],
   "source": [
    "const isStored = getProp(data, 'isStored');"
   ]
  },
  {
   "cell_type": "code",
   "execution_count": 10,
   "id": "4d5e33e1-2e74-42b5-8093-a0f245be7373",
   "metadata": {},
   "outputs": [],
   "source": [
    "const user = { name: 'Max', age: 35 };"
   ]
  },
  {
   "cell_type": "code",
   "execution_count": 11,
   "id": "9ecb46db-f72d-4f7b-8ac9-05a330afa2fd",
   "metadata": {},
   "outputs": [],
   "source": [
    "const val = getProp(user, 'age');"
   ]
  }
 ],
 "metadata": {
  "kernelspec": {
   "display_name": "Deno",
   "language": "typescript",
   "name": "deno"
  },
  "language_info": {
   "codemirror_mode": "typescript",
   "file_extension": ".ts",
   "mimetype": "text/x.typescript",
   "name": "typescript",
   "nbconvert_exporter": "script",
   "pygments_lexer": "typescript",
   "version": "5.7.3"
  }
 },
 "nbformat": 4,
 "nbformat_minor": 5
}
