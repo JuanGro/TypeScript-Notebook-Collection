{
 "cells": [
  {
   "cell_type": "markdown",
   "id": "d4a0ad56-bf1c-44cc-81af-21c9064a7baf",
   "metadata": {},
   "source": [
    "# Array & Object Destructuring"
   ]
  },
  {
   "cell_type": "code",
   "execution_count": 2,
   "id": "1f4f654e-aa34-4e83-807e-53360867b1de",
   "metadata": {},
   "outputs": [
    {
     "data": {
      "text/plain": [
       "[ \u001b[32m\"Sports\"\u001b[39m, \u001b[32m\"Cooking\"\u001b[39m, \u001b[32m\"Hiking\"\u001b[39m, \u001b[32m\"Meals\"\u001b[39m ]"
      ]
     },
     "execution_count": 2,
     "metadata": {},
     "output_type": "execute_result"
    }
   ],
   "source": [
    "const hobbies = ['Sports', 'Cooking', 'Hiking', 'Meals'];\n",
    "hobbies"
   ]
  },
  {
   "cell_type": "code",
   "execution_count": 3,
   "id": "8300d35c-8ac6-4f17-84bc-462f67feb4fd",
   "metadata": {},
   "outputs": [],
   "source": [
    "const [hobby1, hobby2, ...remainingHobbies] = hobbies;"
   ]
  },
  {
   "cell_type": "code",
   "execution_count": 4,
   "id": "f91891d3-a5e0-41ff-893b-c4ef9e23b9e9",
   "metadata": {},
   "outputs": [
    {
     "data": {
      "text/plain": [
       "\u001b[32m\"Sports\"\u001b[39m"
      ]
     },
     "execution_count": 4,
     "metadata": {},
     "output_type": "execute_result"
    }
   ],
   "source": [
    "hobby1"
   ]
  },
  {
   "cell_type": "code",
   "execution_count": 6,
   "id": "f7bcb09d-79e3-4a38-b84f-ef1b143262f0",
   "metadata": {},
   "outputs": [
    {
     "data": {
      "text/plain": [
       "\u001b[32m\"Cooking\"\u001b[39m"
      ]
     },
     "execution_count": 6,
     "metadata": {},
     "output_type": "execute_result"
    }
   ],
   "source": [
    "hobby2"
   ]
  },
  {
   "cell_type": "code",
   "execution_count": 7,
   "id": "150c1cb3-812d-4721-b3fb-838683a0de5a",
   "metadata": {},
   "outputs": [
    {
     "data": {
      "text/plain": [
       "[ \u001b[32m\"Hiking\"\u001b[39m, \u001b[32m\"Meals\"\u001b[39m ]"
      ]
     },
     "execution_count": 7,
     "metadata": {},
     "output_type": "execute_result"
    }
   ],
   "source": [
    "remainingHobbies"
   ]
  },
  {
   "cell_type": "code",
   "execution_count": 8,
   "id": "3c55142d-e2fa-4b40-9eb3-4f009c56568c",
   "metadata": {},
   "outputs": [
    {
     "data": {
      "text/plain": [
       "{ name: \u001b[32m\"Max\"\u001b[39m, age: \u001b[33m30\u001b[39m, curp: \u001b[32m\"asdkjasl\"\u001b[39m, birthdate: \u001b[32m\"01-02-2000\"\u001b[39m }"
      ]
     },
     "execution_count": 8,
     "metadata": {},
     "output_type": "execute_result"
    }
   ],
   "source": [
    "const person = {\n",
    "    name: 'Max',\n",
    "    age: 30,\n",
    "    curp: 'asdkjasl',\n",
    "    birthdate: '01-02-2000'\n",
    "};\n",
    "person"
   ]
  },
  {
   "cell_type": "code",
   "execution_count": 13,
   "id": "98bf872d-e611-4ea8-bb05-beb2cc3b5146",
   "metadata": {},
   "outputs": [],
   "source": [
    "const { name: firstName, age, ...otherDetails } = person;"
   ]
  },
  {
   "cell_type": "code",
   "execution_count": 15,
   "id": "399b55a4-4f1c-47c7-b5ad-44b7835c9949",
   "metadata": {},
   "outputs": [
    {
     "data": {
      "text/plain": [
       "\u001b[32m\"Max\"\u001b[39m"
      ]
     },
     "execution_count": 15,
     "metadata": {},
     "output_type": "execute_result"
    }
   ],
   "source": [
    "firstName"
   ]
  },
  {
   "cell_type": "code",
   "execution_count": 11,
   "id": "b09a2e42-7981-4fe2-aeeb-1b21390fa1fa",
   "metadata": {},
   "outputs": [
    {
     "data": {
      "text/plain": [
       "\u001b[33m30\u001b[39m"
      ]
     },
     "execution_count": 11,
     "metadata": {},
     "output_type": "execute_result"
    }
   ],
   "source": [
    "age"
   ]
  },
  {
   "cell_type": "code",
   "execution_count": 12,
   "id": "8ed94f1a-d383-4e66-b46b-5900bd6d4234",
   "metadata": {},
   "outputs": [
    {
     "data": {
      "text/plain": [
       "{ curp: \u001b[32m\"asdkjasl\"\u001b[39m, birthdate: \u001b[32m\"01-02-2000\"\u001b[39m }"
      ]
     },
     "execution_count": 12,
     "metadata": {},
     "output_type": "execute_result"
    }
   ],
   "source": [
    "otherDetails"
   ]
  }
 ],
 "metadata": {
  "kernelspec": {
   "display_name": "Deno",
   "language": "typescript",
   "name": "deno"
  },
  "language_info": {
   "codemirror_mode": "typescript",
   "file_extension": ".ts",
   "mimetype": "text/x.typescript",
   "name": "typescript",
   "nbconvert_exporter": "script",
   "pygments_lexer": "typescript",
   "version": "5.7.3"
  }
 },
 "nbformat": 4,
 "nbformat_minor": 5
}
