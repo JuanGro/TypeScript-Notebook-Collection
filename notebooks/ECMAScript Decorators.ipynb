{
 "cells": [
  {
   "cell_type": "markdown",
   "id": "5b38a305-58ce-40ed-92c6-555a2d72120f",
   "metadata": {},
   "source": [
    "# ECMAScript Decorators"
   ]
  },
  {
   "cell_type": "code",
   "execution_count": 13,
   "id": "75bd320d-1c6e-4b8f-820e-caa85b632b71",
   "metadata": {},
   "outputs": [],
   "source": [
    "function logger<T extends new (...args: any[]) => any>(target: T, ctx: ClassDecoratorContext) {\n",
    "    console.log('logger decorator');\n",
    "    console.log(target);\n",
    "    console.log(ctx);\n",
    "\n",
    "    return class extends target {\n",
    "        constructor(...args: any[]) {\n",
    "            super(...args);\n",
    "            console.log('class constructor');\n",
    "            console.log(this);\n",
    "        }\n",
    "    }\n",
    "}"
   ]
  },
  {
   "cell_type": "code",
   "execution_count": 14,
   "id": "b2975ce5-85cd-426f-95e3-9d745585edc2",
   "metadata": {},
   "outputs": [
    {
     "name": "stdout",
     "output_type": "stream",
     "text": [
      "logger decorator\n",
      "\u001b[36m[class Person]\u001b[39m\n",
      "{\n",
      "  kind: \u001b[32m\"class\"\u001b[39m,\n",
      "  name: \u001b[32m\"Person\"\u001b[39m,\n",
      "  addInitializer: \u001b[36m[Function: addInitializer]\u001b[39m,\n",
      "  metadata: [Object: null prototype] {}\n",
      "}\n"
     ]
    }
   ],
   "source": [
    "@logger\n",
    "class Person {\n",
    "    name = 'Max';\n",
    "\n",
    "    greet() {\n",
    "        console.log('Hi, I am ' + this.name);\n",
    "    }\n",
    "}"
   ]
  },
  {
   "cell_type": "code",
   "execution_count": 15,
   "id": "5017296a-ab6d-46a5-8458-a685ce0e3a27",
   "metadata": {},
   "outputs": [
    {
     "data": {
      "text/plain": [
       "Person { name: \u001b[32m\"Max\"\u001b[39m }"
      ]
     },
     "execution_count": 15,
     "metadata": {},
     "output_type": "execute_result"
    }
   ],
   "source": [
    "const max = new Person();\n",
    "max"
   ]
  },
  {
   "cell_type": "code",
   "execution_count": 18,
   "id": "5327603e-7a12-4b20-8b66-fb0d4183e819",
   "metadata": {},
   "outputs": [
    {
     "data": {
      "text/plain": [
       "Person { name: \u001b[32m\"Max\"\u001b[39m }"
      ]
     },
     "execution_count": 18,
     "metadata": {},
     "output_type": "execute_result"
    }
   ],
   "source": [
    "const julie = new Person();\n",
    "julie"
   ]
  }
 ],
 "metadata": {
  "kernelspec": {
   "display_name": "Deno",
   "language": "typescript",
   "name": "deno"
  },
  "language_info": {
   "codemirror_mode": "typescript",
   "file_extension": ".ts",
   "mimetype": "text/x.typescript",
   "name": "typescript",
   "nbconvert_exporter": "script",
   "pygments_lexer": "typescript",
   "version": "5.7.3"
  }
 },
 "nbformat": 4,
 "nbformat_minor": 5
}
